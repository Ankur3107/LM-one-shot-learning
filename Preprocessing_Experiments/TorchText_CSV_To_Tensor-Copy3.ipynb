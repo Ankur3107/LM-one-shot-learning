{
 "cells": [
  {
   "cell_type": "code",
   "execution_count": 18,
   "metadata": {},
   "outputs": [],
   "source": [
    "# The aim of this code is to convert the CSV file of\n",
    "# labels (= missing words), and sentences with missing words\n",
    "# into a tensor of numbers that can be passed through\n",
    "# the matching networks code just like the numpy array\n",
    "# used for the images in the original code based on the\n",
    "# Onmiglot dataset\n",
    "\n",
    "# The numbers in the tensor will be the numbers each word\n",
    "# and refer to in the vocabulary we are building\n",
    "# We will not embed at this stage because this\n",
    "# is done inside the matching network. We are, in effect,\n",
    "# not completing the TorchText proprocessing\n",
    "\n",
    "# This code is a mainly a mixture of two tutorials:\n",
    "# http://anie.me/On-Torchtext/\n",
    "# https://mlexplained.com/2018/02/08/a-comprehensive-tutorial-to-torchtext/\n",
    "\n",
    "# Comments are a mixture of those from the tutorials (most of them)\n",
    "# and my own\n",
    "\n",
    "# Note to self, use Conda environment PyTorch1"
   ]
  },
  {
   "cell_type": "code",
   "execution_count": 19,
   "metadata": {},
   "outputs": [],
   "source": [
    "import pandas as pd\n",
    "import numpy as np\n",
    "import torch\n",
    "import torchtext\n",
    "from torchtext import data\n",
    "from torchtext.data import Iterator\n",
    "import spacy"
   ]
  },
  {
   "cell_type": "code",
   "execution_count": 20,
   "metadata": {},
   "outputs": [
    {
     "data": {
      "text/html": [
       "<div>\n",
       "<style scoped>\n",
       "    .dataframe tbody tr th:only-of-type {\n",
       "        vertical-align: middle;\n",
       "    }\n",
       "\n",
       "    .dataframe tbody tr th {\n",
       "        vertical-align: top;\n",
       "    }\n",
       "\n",
       "    .dataframe thead th {\n",
       "        text-align: right;\n",
       "    }\n",
       "</style>\n",
       "<table border=\"1\" class=\"dataframe\">\n",
       "  <thead>\n",
       "    <tr style=\"text-align: right;\">\n",
       "      <th></th>\n",
       "      <th>borgnine</th>\n",
       "      <th>hank azaria who provides the voice of apu commented that &lt;blank_token&gt; had no idea what the hell he was doing</th>\n",
       "    </tr>\n",
       "  </thead>\n",
       "  <tbody>\n",
       "    <tr>\n",
       "      <th>0</th>\n",
       "      <td>borgnine</td>\n",
       "      <td>the unseen person or creature that attacks &lt;bl...</td>\n",
       "    </tr>\n",
       "    <tr>\n",
       "      <th>1</th>\n",
       "      <td>borgnine</td>\n",
       "      <td>meanwhile the other junior campers led by er...</td>\n",
       "    </tr>\n",
       "    <tr>\n",
       "      <th>2</th>\n",
       "      <td>borgnine</td>\n",
       "      <td>&lt;blank_token&gt; was a guitar player in real life...</td>\n",
       "    </tr>\n",
       "    <tr>\n",
       "      <th>3</th>\n",
       "      <td>borgnine</td>\n",
       "      <td>seeing ned flanders get it wrong is great but ...</td>\n",
       "    </tr>\n",
       "    <tr>\n",
       "      <th>4</th>\n",
       "      <td>borgnine</td>\n",
       "      <td>rick porter of &lt; unk &gt; N it wrote in that he w...</td>\n",
       "    </tr>\n",
       "    <tr>\n",
       "      <th>5</th>\n",
       "      <td>borgnine</td>\n",
       "      <td>meanwhile the other junior campers led by er...</td>\n",
       "    </tr>\n",
       "    <tr>\n",
       "      <th>6</th>\n",
       "      <td>borgnine</td>\n",
       "      <td>ernest &lt;blank_token&gt; guest starred in the epis...</td>\n",
       "    </tr>\n",
       "    <tr>\n",
       "      <th>7</th>\n",
       "      <td>borgnine</td>\n",
       "      <td>&lt;blank_token&gt; apologized because he felt that ...</td>\n",
       "    </tr>\n",
       "    <tr>\n",
       "      <th>8</th>\n",
       "      <td>borgnine</td>\n",
       "      <td>in her book my life as a N year old boy cart...</td>\n",
       "    </tr>\n",
       "    <tr>\n",
       "      <th>9</th>\n",
       "      <td>tackles</td>\n",
       "      <td>tadman had seven solo &lt;blank_token&gt; three assi...</td>\n",
       "    </tr>\n",
       "    <tr>\n",
       "      <th>10</th>\n",
       "      <td>tackles</td>\n",
       "      <td>defensive line coach bo davis resigned his pos...</td>\n",
       "    </tr>\n",
       "    <tr>\n",
       "      <th>11</th>\n",
       "      <td>tackles</td>\n",
       "      <td>N and N &lt; unk &gt; were linebackers paul nelson a...</td>\n",
       "    </tr>\n",
       "    <tr>\n",
       "      <th>12</th>\n",
       "      <td>tackles</td>\n",
       "      <td>courtney &lt; unk &gt; was named the sec defensive p...</td>\n",
       "    </tr>\n",
       "    <tr>\n",
       "      <th>13</th>\n",
       "      <td>tackles</td>\n",
       "      <td>williams also recorded eight solo &lt;blank_token...</td>\n",
       "    </tr>\n",
       "    <tr>\n",
       "      <th>14</th>\n",
       "      <td>tackles</td>\n",
       "      <td>behind defensive mvp burt miami had one player...</td>\n",
       "    </tr>\n",
       "    <tr>\n",
       "      <th>15</th>\n",
       "      <td>tackles</td>\n",
       "      <td>in addition the ecu defense ranked eleventh na...</td>\n",
       "    </tr>\n",
       "    <tr>\n",
       "      <th>16</th>\n",
       "      <td>tackles</td>\n",
       "      <td>burt the other mvp accumulated nine &lt;blank_tok...</td>\n",
       "    </tr>\n",
       "    <tr>\n",
       "      <th>17</th>\n",
       "      <td>tackles</td>\n",
       "      <td>the other interception came from defensive bac...</td>\n",
       "    </tr>\n",
       "    <tr>\n",
       "      <th>18</th>\n",
       "      <td>tackles</td>\n",
       "      <td>brown finished the regular season with N &lt;blan...</td>\n",
       "    </tr>\n",
       "    <tr>\n",
       "      <th>19</th>\n",
       "      <td>delight</td>\n",
       "      <td>q found most of it to be an &lt; unk &gt; hip hop &lt; ...</td>\n",
       "    </tr>\n",
       "  </tbody>\n",
       "</table>\n",
       "</div>"
      ],
      "text/plain": [
       "    borgnine  \\\n",
       "0   borgnine   \n",
       "1   borgnine   \n",
       "2   borgnine   \n",
       "3   borgnine   \n",
       "4   borgnine   \n",
       "5   borgnine   \n",
       "6   borgnine   \n",
       "7   borgnine   \n",
       "8   borgnine   \n",
       "9    tackles   \n",
       "10   tackles   \n",
       "11   tackles   \n",
       "12   tackles   \n",
       "13   tackles   \n",
       "14   tackles   \n",
       "15   tackles   \n",
       "16   tackles   \n",
       "17   tackles   \n",
       "18   tackles   \n",
       "19   delight   \n",
       "\n",
       "   hank azaria who provides the voice of apu commented that <blank_token> had no idea what the hell he was doing  \n",
       "0   the unseen person or creature that attacks <bl...                                                             \n",
       "1     meanwhile the other junior campers led by er...                                                             \n",
       "2   <blank_token> was a guitar player in real life...                                                             \n",
       "3   seeing ned flanders get it wrong is great but ...                                                             \n",
       "4   rick porter of < unk > N it wrote in that he w...                                                             \n",
       "5     meanwhile the other junior campers led by er...                                                             \n",
       "6   ernest <blank_token> guest starred in the epis...                                                             \n",
       "7   <blank_token> apologized because he felt that ...                                                             \n",
       "8     in her book my life as a N year old boy cart...                                                             \n",
       "9   tadman had seven solo <blank_token> three assi...                                                             \n",
       "10  defensive line coach bo davis resigned his pos...                                                             \n",
       "11  N and N < unk > were linebackers paul nelson a...                                                             \n",
       "12  courtney < unk > was named the sec defensive p...                                                             \n",
       "13  williams also recorded eight solo <blank_token...                                                             \n",
       "14  behind defensive mvp burt miami had one player...                                                             \n",
       "15  in addition the ecu defense ranked eleventh na...                                                             \n",
       "16  burt the other mvp accumulated nine <blank_tok...                                                             \n",
       "17  the other interception came from defensive bac...                                                             \n",
       "18  brown finished the regular season with N <blan...                                                             \n",
       "19  q found most of it to be an < unk > hip hop < ...                                                             "
      ]
     },
     "execution_count": 20,
     "metadata": {},
     "output_type": "execute_result"
    }
   ],
   "source": [
    "# Check what the data looks like\n",
    "# train2.csv is the same as train.csv, but without the column titles\n",
    "\n",
    "pd.read_csv(\"data/train2.csv\").head(20)"
   ]
  },
  {
   "cell_type": "code",
   "execution_count": 21,
   "metadata": {},
   "outputs": [
    {
     "data": {
      "text/plain": [
       "torchtext.data.field.Field"
      ]
     },
     "execution_count": 21,
     "metadata": {},
     "output_type": "execute_result"
    }
   ],
   "source": [
    "# Use spacy to define a function to \n",
    "# tokenize, or split up, into individual words,\n",
    "# the labels and sentences. Note the labels are already\n",
    "# individual words\n",
    "\n",
    "spacy_en = spacy.load('en')\n",
    "\n",
    "def tokenizer(text): # create a tokenizer function\n",
    "    return [tok.text for tok in spacy_en.tokenizer(text)]\n",
    "\n",
    "# We define a Field. This is a class that contains\n",
    "# information on how you want the data preprocessed. It acts\n",
    "# like an instruction manual that data.TabularDataset will use.\n",
    "# We define two fields, one for the sentences and one for the\n",
    "# labels\n",
    "\n",
    "TEXT = data.Field(sequential=True, tokenize=tokenizer)\n",
    "LABEL = data.Field(sequential=False, is_target=True)\n",
    "\n",
    "type(TEXT)"
   ]
  },
  {
   "cell_type": "code",
   "execution_count": 22,
   "metadata": {},
   "outputs": [],
   "source": [
    "# The fields know what to do when given raw data.\n",
    "# Now, we need to tell the fields what data they\n",
    "# should work on. This is where we use datasets.\n",
    "\n",
    "# The splits method creates a dataset for the train\n",
    "# and test data by applying the same processing.\n",
    "\n",
    "# I assume this next code is OK,\n",
    "# even though I don't have the column titles `label`\n",
    "# or 'sentence'. It still seems to work. Before taking them\n",
    "# out the data, torch text would include 'label' as a label\n",
    "# and 'sentence' as a sentence.\n",
    "\n",
    "train, test = data.TabularDataset.splits(\n",
    "        path='data/', train='train2.csv', test='test2.csv', format='csv',\n",
    "        fields=[('label', LABEL), ('sentence', TEXT)]) "
   ]
  },
  {
   "cell_type": "code",
   "execution_count": 23,
   "metadata": {},
   "outputs": [
    {
     "name": "stdout",
     "output_type": "stream",
     "text": [
      "<class 'torchtext.data.dataset.TabularDataset'>\n"
     ]
    }
   ],
   "source": [
    "# Sense check\n",
    "\n",
    "print(type(train))"
   ]
  },
  {
   "cell_type": "code",
   "execution_count": 24,
   "metadata": {},
   "outputs": [],
   "source": [
    "# Torchtext handles mapping words to integers, but\n",
    "# it has to be told the full range of words it should\n",
    "# handle.\n",
    "\n",
    "# We are currently building the vocab from the train\n",
    "# and test data. This might be incorrect.\n",
    "\n",
    "TEXT.build_vocab(train, test)\n",
    "LABEL.build_vocab(train, test)\n",
    "\n",
    "# This makes torchtext go through all the elements in the\n",
    "# training and test sets, check the contents corresponding to the TEXT\n",
    "# field, and register the words in its vocabulary. Torchtext\n",
    "# has its own class called Vocab for handling the vocabulary.\n",
    "# The Vocab class holds a mapping from word to id in its stoi\n",
    "# attribute and a reverse mapping in its itos attribute."
   ]
  },
  {
   "cell_type": "code",
   "execution_count": 25,
   "metadata": {},
   "outputs": [
    {
     "name": "stdout",
     "output_type": "stream",
     "text": [
      "<class 'collections.defaultdict'>\n",
      "9287\n"
     ]
    },
    {
     "name": "stdout",
     "output_type": "stream",
     "text": [
      "defaultdict(<function _default_unk_index at 0x00000270AADFAEA0>, {'<unk>': 0, \"'re\": 1, \"'s\": 2, '4th': 3, '9th': 4, 'abandoned': 5, 'accepted': 6, 'act': 7, 'active': 8, 'actually': 9, 'ad': 10, 'additionally': 11, 'administration': 12, 'adoption': 13, 'advanced': 14, 'advantage': 15, 'advice': 16, 'affairs': 17, 'affected': 18, 'africa': 19, 'african': 20, 'ahead': 21, 'airport': 22, 'allowed': 23, 'allows': 24, 'alongside': 25, 'although': 26, 'america': 27, 'american': 28, 'an': 29, 'analysis': 30, 'ancient': 31, 'angle': 32, 'animals': 33, 'annual': 34, 'appear': 35, 'appears': 36, 'aquatic': 37, 'archaeological': 38, 'archbishop': 39, 'architects': 40, 'areas': 41, 'armed': 42, 'armoured': 43, 'army': 44, 'art': 45, 'as': 46, 'aside': 47, 'aspects': 48, 'association': 49, 'attacking': 50, 'attained': 51, 'attempted': 52, 'attempts': 53, 'attention': 54, 'audience': 55, 'australia': 56, 'australian': 57, 'austria': 58, 'authority': 59, 'award': 60, 'awards': 61, 'away': 62, 'band': 63, 'battle': 64, 'battles': 65, 'bay': 66, 'beauty': 67, 'because': 68, 'began': 69, 'best': 70, 'billboard': 71, 'bishop': 72, 'block': 73, 'born': 74, 'boston': 75, 'boys': 76, 'branch': 77, 'bring': 78, 'brother': 79, 'build': 80, 'buildings': 81, 'built': 82, 'business': 83, 'c': 84, 'campbell': 85, 'canada': 86, 'capture': 87, 'care': 88, 'carry': 89, 'chairman': 90, 'challenge': 91, 'champion': 92, 'change': 93, 'characters': 94, 'chart': 95, 'chicago': 96, 'child': 97, 'china': 98, 'chose': 99, 'chris': 100, 'christmas': 101, 'church': 102, 'cities': 103, 'civilians': 104, 'claimed': 105, 'claims': 106, 'class': 107, 'classic': 108, 'clearly': 109, 'club': 110, 'cm': 111, 'coleman': 112, 'college': 113, 'colonial': 114, 'combat': 115, 'commanded': 116, 'commander': 117, 'commemorated': 118, 'commercial': 119, 'competed': 120, 'competition': 121, 'complete': 122, 'compound': 123, 'concern': 124, 'conditions': 125, 'consecutive': 126, 'considered': 127, 'consisted': 128, 'constructed': 129, 'contact': 130, 'contain': 131, 'contained': 132, 'contains': 133, 'contemporary': 134, 'continue': 135, 'contract': 136, 'control': 137, 'court': 138, 'covered': 139, 'created': 140, 'crisis': 141, 'critic': 142, 'critics': 143, 'crossed': 144, 'cruisers': 145, 'cup': 146, 'cyclone': 147, 'd': 148, 'darkness': 149, 'date': 150, 'daughter': 151, 'de': 152, 'deaths': 153, 'decision': 154, 'deck': 155, 'declared': 156, 'decorated': 157, 'defences': 158, 'degree': 159, 'degrees': 160, 'dense': 161, 'deployed': 162, 'described': 163, 'describes': 164, 'designed': 165, 'develop': 166, 'developing': 167, 'different': 168, 'direct': 169, 'discovered': 170, 'discovery': 171, 'districts': 172, 'divided': 173, 'doctor': 174, 'dodgers': 175, 'don': 176, 'donald': 177, 'drawn': 178, 'duke': 179, 'dynasty': 180, 'e': 181, 'each': 182, 'ear': 183, 'earlier': 184, 'earthquake': 185, 'eastern': 186, 'eastward': 187, 'edge': 188, 'effort': 189, 'eighth': 190, 'ended': 191, 'ending': 192, 'ends': 193, 'engaged': 194, 'engine': 195, 'england': 196, 'english': 197, 'entered': 198, 'entering': 199, 'entertainment': 200, 'equipped': 201, 'escaped': 202, 'especially': 203, 'estate': 204, 'estimated': 205, 'eugene': 206, 'evacuation': 207, 'evening': 208, 'event': 209, 'example': 210, 'examples': 211, 'expanded': 212, 'explained': 213, 'external': 214, 'extratropical': 215, 'faced': 216, 'fact': 217, 'falling': 218, 'families': 219, 'famous': 220, 'fans': 221, 'favorable': 222, 'featured': 223, 'feel': 224, 'fell': 225, 'fellow': 226, 'felt': 227, 'festival': 228, 'fighting': 229, 'films': 230, 'finished': 231, 'fire': 232, 'first': 233, 'flanders': 234, 'flank': 235, 'flat': 236, 'focus': 237, 'focused': 238, 'followed': 239, 'foot': 240, 'forced': 241, 'forces': 242, 'forehead': 243, 'fought': 244, 'frame': 245, 'francis': 246, 'friendly': 247, 'friends': 248, 'from': 249, 'fruit': 250, 'ft': 251, 'fu': 252, 'fully': 253, 'future': 254, 'gained': 255, 'gallery': 256, 'game': 257, 'games': 258, 'gas': 259, 'gave': 260, 'gay': 261, 'generally': 262, 'germany': 263, 'getting': 264, 'ghost': 265, 'giving': 266, 'glass': 267, 'goal': 268, 'god': 269, 'going': 270, 'good': 271, 'government': 272, 'governor': 273, 'grand': 274, 'grant': 275, 'greek': 276, 'grew': 277, 'ground': 278, 'growth': 279, 'guns': 280, 'gusts': 281, 'hands': 282, 'head': 283, 'headed': 284, 'hearing': 285, 'heat': 286, 'heavyweight': 287, 'helicopters': 288, 'hell': 289, 'help': 290, 'helped': 291, 'henry': 292, 'highly': 293, 'hired': 294, 'historians': 295, 'hits': 296, 'hold': 297, 'holocaust': 298, 'honors': 299, 'horizon': 300, 'hour': 301, 'hours': 302, 'however': 303, 'hull': 304, 'human': 305, 'hungarian': 306, 'i': 307, 'ice': 308, 'ideas': 309, 'if': 310, 'inch': 311, 'included': 312, 'includes': 313, 'indicating': 314, 'individual': 315, 'industrial': 316, 'industry': 317, 'infrastructure': 318, 'inhabitants': 319, 'inside': 320, 'instead': 321, 'instruments': 322, 'intensity': 323, 'interior': 324, 'international': 325, 'interview': 326, 'introduction': 327, 'islands': 328, 'israel': 329, 'italian': 330, 'james': 331, 'jews': 332, 'job': 333, 'john': 334, 'journey': 335, 'jtwc': 336, 'june': 337, 'k': 338, 'killing': 339, 'kilometres': 340, 'king': 341, 'known': 342, 'korean': 343, 'lacked': 344, 'laid': 345, 'land': 346, 'landfall': 347, 'language': 348, 'largely': 349, 'larger': 350, 'late': 351, 'latin': 352, 'law': 353, 'lay': 354, 'leave': 355, 'leaving': 356, 'led': 357, 'let': 358, 'levels': 359, 'life': 360, 'limited': 361, 'little': 362, 'lives': 363, 'loading': 364, 'location': 365, 'london': 366, 'look': 367, 'looking': 368, 'love': 369, 'lowell': 370, 'lyrics': 371, 'magazine': 372, 'maintain': 373, 'major': 374, 'majority': 375, 'male': 376, 'management': 377, 'manchester': 378, 'map': 379, 'march': 380, 'marine': 381, 'mark': 382, 'married': 383, 'material': 384, 'matt': 385, 'mayor': 386, 'means': 387, 'meant': 388, 'medical': 389, 'mediterranean': 390, 'meeting': 391, 'meteorological': 392, 'metropolitan': 393, 'mexico': 394, 'minutes': 395, 'mogadishu': 396, 'money': 397, 'monitored': 398, 'months': 399, 'monuments': 400, 'morning': 401, 'mortar': 402, 'mouth': 403, 'multiple': 404, 'museum': 405, 'mystery': 406, 'names': 407, 'nations': 408, 'natural': 409, 'nature': 410, 'ncaa': 411, 'near': 412, 'neck': 413, 'needed': 414, 'newly': 415, 'news': 416, 'nfl': 417, 'night': 418, 'non': 419, 'northeast': 420, 'northern': 421, 'northward': 422, 'note': 423, 'ocean': 424, 'october': 425, 'of': 426, 'offensive': 427, 'officer': 428, 'oldest': 429, 'opened': 430, 'operate': 431, 'operation': 432, 'opportunity': 433, 'order': 434, 'ordered': 435, 'organised': 436, 'outside': 437, 'overall': 438, 'owen': 439, 'pain': 440, 'paint': 441, 'painted': 442, 'painting': 443, 'park': 444, 'partly': 445, 'parts': 446, 'party': 447, 'pass': 448, 'passes': 449, 'passing': 450, 'peak': 451, 'percent': 452, 'perimeter': 453, 'person': 454, 'personal': 455, 'personnel': 456, 'pitcher': 457, 'place': 458, 'plant': 459, 'plants': 460, 'platoon': 461, 'player': 462, 'poetic': 463, 'point': 464, 'policy': 465, 'poll': 466, 'poor': 467, 'possibility': 468, 'post': 469, 'potential': 470, 'pound': 471, 'pounder': 472, 'powerful': 473, 'prepared': 474, 'present': 475, 'preserved': 476, 'president': 477, 'pressure': 478, 'prevented': 479, 'previously': 480, 'primarily': 481, 'primary': 482, 'prior': 483, 'private': 484, 'process': 485, 'produced': 486, 'product': 487, 'production': 488, 'professional': 489, 'program': 490, 'project': 491, 'promoted': 492, 'protected': 493, 'protection': 494, 'provided': 495, 'province': 496, 'provinces': 497, 'published': 498, 'punk': 499, 'purchased': 500, 'quality': 501, 'quick': 502, 'quickly': 503, 'raf': 504, 'rainfall': 505, 'ran': 506, 'ranked': 507, 'rear': 508, 'rebuilt': 509, 'received': 510, 'recognized': 511, 'recovered': 512, 'reference': 513, 'regional': 514, 'reign': 515, 'related': 516, 'relationship': 517, 'relative': 518, 'relief': 519, 'remained': 520, 'replace': 521, 'replaced': 522, 'replacement': 523, 'reported': 524, 'reports': 525, 'represent': 526, 'request': 527, 'requested': 528, 'residents': 529, 'respectively': 530, 'result': 531, 'retired': 532, 'return': 533, 'returned': 534, 'returns': 535, 'revealed': 536, 'review': 537, 'reviews': 538, 'ridge': 539, 'right': 540, 'rise': 541, 'river': 542, 'road': 543, 'robinson': 544, 'round': 545, 'row': 546, 'royal': 547, 'run': 548, 'russia': 549, 'said': 550, 'san': 551, 'sarah': 552, 'saw': 553, 'saying': 554, 'seconds': 555, 'section': 556, 'sector': 557, 'security': 558, 'seeing': 559, 'selected': 560, 'selection': 561, 'senate': 562, 'series': 563, 'serve': 564, 'sexual': 565, 'shape': 566, 'shell': 567, 'ship': 568, 'shipping': 569, 'short': 570, 'showing': 571, 'shutout': 572, 'simple': 573, 'singer': 574, 'single': 575, 'sir': 576, 'sisters': 577, 'sites': 578, 'sixth': 579, 'skulls': 580, 'slow': 581, 'snow': 582, 'soldiers': 583, 'some': 584, 'son': 585, 'soon': 586, 'sound': 587, 'source': 588, 'south': 589, 'southeast': 590, 'southern': 591, 'spain': 592, 'spanish': 593, 'spawned': 594, 'speak': 595, 'species': 596, 'specific': 597, 'speed': 598, 'spent': 599, 'spread': 600, 'st.': 601, 'stages': 602, 'stands': 603, 'star': 604, 'stated': 605, 'stating': 606, 'steel': 607, 'stem': 608, 'step': 609, 'stern': 610, 'storms': 611, 'strategic': 612, 'streets': 613, 'strike': 614, 'strongly': 615, 'studio': 616, 'style': 617, 'submarines': 618, 'subtropical': 619, 'success': 620, 'successful': 621, 'successor': 622, 'suggesting': 623, 'suicide': 624, 'summer': 625, 'sunday': 626, 'super': 627, 'survived': 628, 'sustained': 629, 't': 630, 'taken': 631, 'tank': 632, 'tanks': 633, 'targets': 634, 'team': 635, 'technical': 636, 'television': 637, 'tells': 638, 'terms': 639, 'that': 640, 'theatre': 641, 'thick': 642, 'thing': 643, 'think': 644, 'thomas': 645, 'throne': 646, 'through': 647, 'times': 648, 'tip': 649, 'tons': 650, 'took': 651, 'tournament': 652, 'tracked': 653, 'training': 654, 'treasure': 655, 'trials': 656, 'tried': 657, 'try': 658, 'turns': 659, 'turrets': 660, 'type': 661, 'typhoon': 662, 'un': 663, 'under': 664, 'undertaker': 665, 'united': 666, 'units': 667, 'unk': 668, 'upgraded': 669, 'upper': 670, 'usually': 671, 'vehicles': 672, 'versions': 673, 'vessel': 674, 'vessels': 675, 'victims': 676, 'victoria': 677, 'view': 678, 'virtually': 679, 'vision': 680, 'von': 681, 'walk': 682, 'walker': 683, 'want': 684, 'wanted': 685, 'warren': 686, 'warrior': 687, 'wars': 688, 'warship': 689, 'warships': 690, 'watson': 691, 'way': 692, 'weak': 693, 'weakening': 694, 'weather': 695, 'week': 696, 'weight': 697, 'went': 698, 'western': 699, 'westward': 700, 'what': 701, 'when': 702, 'widespread': 703, 'william': 704, 'win': 705, 'within': 706, 'world': 707, 'worldwide': 708, 'writers': 709, 'writing': 710, 'wwe': 711, 'year': 712, 'younger': 713, 'zealand': 714, \"'d\": 715, \"'ll\": 716, '+': 717, '10th': 718, '11th': 719, '12th': 720, '130th': 721, '13b': 722, '13th': 723, '14th': 724, '15th': 725, '16th': 726, '17th': 727, '1830s': 728, '1840s': 729, '1850s': 730, '1880s': 731, '18th': 732, '1930s': 733, '1940s': 734, '1950s': 735, '1960s': 736, '1970s': 737, '1980s': 738, '1990s': 739, '1st': 740, '20th': 741, '21st': 742, '22nd': 743, '24th': 744, '25th': 745, '26th': 746, '27s': 747, '27th': 748, '28th': 749, '29th': 750, '2d': 751, '2nd': 752, '30th': 753, '32nd': 754, '35th': 755, '36th': 756, '38th': 757, '3d': 758, '3ds': 759, '48th': 760, '50th': 761, '52nd': 762, '5th': 763, '60s': 764, '6th': 765, '766th': 766, '80s': 767, '8th': 768, '90th': 769, '>': 770, 'a.': 771, 'a.m.': 772, 'a.v.': 773, 'a48': 774, 'aaa': 775, 'aaron': 776, 'abandon': 777, 'abandonment': 778, 'abbot': 779, 'abby': 780, 'abc': 781, 'abd': 782, 'abdomen': 783, 'aberdeen': 784, 'abilities': 785, 'ability': 786, 'abnormal': 787, 'abnormalities': 788, 'aboard': 789, 'abolition': 790, 'aboriginal': 791, 'about': 792, 'above': 793, 'abraham': 794, 'abrams': 795, 'abroad': 796, 'abrupt': 797, 'absence': 798, 'absent': 799, 'absolute': 800, 'absorbed': 801, 'abstract': 802, 'abundance': 803, 'abundant': 804, 'abusir': 805, 'academic': 806, 'academics': 807, 'academy': 808, 'acapulco': 809, 'acc': 810, 'accent': 811, 'accept': 812, 'acceptable': 813, 'acceptance': 814, 'accepts': 815, 'access': 816, 'accessible': 817, 'accession': 818, 'accessories': 819, 'accident': 820, 'accidentally': 821, 'accidents': 822, 'acclaim': 823, 'acclaimed': 824, 'accommodate': 825, 'accommodation': 826, 'accompanied': 827, 'accompaniment': 828, 'accompanying': 829, 'accomplish': 830, 'accomplishments': 831, 'accordance': 832, 'according': 833, 'accordingly': 834, 'account': 835, 'accounts': 836, 'accumulate': 837, 'accuracy': 838, 'accurate': 839, 'accurately': 840, 'accusations': 841, 'ace': 842, 'achieve': 843, 'achieved': 844, 'achievement': 845, 'achievements': 846, 'acids': 847, 'acknowledge': 848, 'acknowledged': 849, 'acknowledges': 850, 'acoustic': 851, 'acquire': 852, 'acquired': 853, 'acquiring': 854, 'acre': 855, 'acres': 856, 'acronym': 857, 'across': 858, 'acted': 859, 'acting': 860, 'action': 861, 'actions': 862, 'activated': 863, 'activist': 864, 'activists': 865, 'activity': 866, 'actor': 867, 'actors': 868, 'acts': 869, 'acute': 870, 'acyclic': 871, 'adapt': 872, 'adaptation': 873, 'adaptations': 874, 'adapted': 875, 'add': 876, 'added': 877, 'addicted': 878, 'addition': 879, 'additions': 880, 'address': 881, 'adds': 882, 'adelaide': 883, 'aden': 884, 'adequately': 885, 'adjacent': 886, 'administered': 887, 'administrative': 888, 'administrator': 889, 'admiralty': 890, 'admiration': 891, 'admits': 892, 'admitting': 893, 'adolf': 894, 'adopted': 895, 'adorján': 896, 'adorned': 897, 'adrian': 898, 'adult': 899, 'advance': 900, 'advances': 901, 'advancing': 902, 'adventure': 903, 'advertisement': 904, 'advertisements': 905, 'advertising': 906, 'advised': 907, 'advocated': 908, 'advocating': 909, 'aerial': 910, 'aerith': 911, 'aerodrome': 912, 'aerodromes': 913, 'aerosmith': 914, 'aesthetic': 915, 'afanasieff': 916, 'affair': 917, 'affecting': 918, 'affection': 919, 'affects': 920, 'affiliated': 921, 'affinity': 922, 'afford': 923, 'afghanistan': 924, 'afraid': 925, 'africans': 926, 'aft': 927, 'after': 928, 'aftermath': 929, 'again': 930, 'against': 931, 'agassi': 932, 'aged': 933, 'agency': 934, 'agent': 935, 'agents': 936, 'ages': 937, 'aggregate': 938, 'aggressive': 939, 'aging': 940, 'ago': 941, 'agree': 942, 'agreeing': 943, 'agreement': 944, 'agreements': 945, 'agrees': 946, 'agricultural': 947, 'agriculture': 948, 'aground': 949, 'ahiṃsā': 950, 'ai': 951, 'aide': 952, 'aids': 953, 'aif': 954, 'aim': 955, 'aimed': 956, 'aims': 957, 'air': 958, 'airborne': 959, 'aircraft': 960, 'aired': 961, 'aires': 962, 'airfield': 963, 'airing': 964, 'airline': 965, 'airlines': 966, 'airplay': 967, 'airports': 968, 'airways': 969, 'aisle': 970, 'aisles': 971, 'aki': 972, 'akin': 973, 'al': 974, 'alabama': 975, 'alamos': 976, 'alan': 977, 'alarm': 978, 'alaska': 979, 'albeit': 980, 'albert': 981, 'alberta': 982, 'albion': 983, 'albums': 984, 'aldean': 985, 'alden': 986, 'alec': 987, 'alert': 988, 'alex': 989, 'alexander': 990, 'alexandra': 991, 'alfa': 992, 'alfred': 993, 'algernon': 994, 'algorithm': 995, 'algorithms': 996, 'ali': 997, 'alice': 998, 'alicia': 999, 'alien': 1000, 'aligned': 1001, 'alignment': 1002, 'alive': 1003, 'alkan': 1004, 'all': 1005, 'allah': 1006, 'allan': 1007, 'allegations': 1008, 'allegedly': 1009, 'allen': 1010, 'allied': 1011, 'allmusic': 1012, 'allocated': 1013, 'allosaurus': 1014, 'allow': 1015, 'allowing': 1016, 'ally': 1017, 'alma': 1018, 'almost': 1019, 'along': 1020, 'alpha': 1021, 'alphabet': 1022, 'altarpiece': 1023, 'alteration': 1024, 'alterations': 1025, 'altered': 1026, 'alternate': 1027, 'alternating': 1028, 'alternatively': 1029, 'altitude': 1030, 'altogether': 1031, 'always': 1032, 'am': 1033, 'amanda': 1034, 'amanita': 1035, 'amazing': 1036, 'ambassador': 1037, 'amber': 1038, 'ambiguous': 1039, 'ambition': 1040, 'ambitions': 1041, 'ambulance': 1042, 'ambush': 1043, 'ambushed': 1044, 'amedeo': 1045, 'amended': 1046, 'amendment': 1047, 'amendments': 1048, 'americans': 1049, 'amidships': 1050, 'amidst': 1051, 'amino': 1052, 'amlaíb': 1053, 'ammunition': 1054, 'among': 1055, 'amounts': 1056, 'amphibians': 1057, 'amphibious': 1058, 'amps': 1059, 'amsterdam': 1060, 'amun': 1061, 'amusement': 1062, 'amy': 1063, 'amylostereum': 1064, 'analysts': 1065, 'analyzed': 1066, 'anatolia': 1067, 'anatomy': 1068, 'ancestor': 1069, 'ancestors': 1070, 'ancestry': 1071, 'ancients': 1072, 'and': 1073, 'anderson': 1074, 'andersons': 1075, 'andhra': 1076, 'andorian': 1077, 'andrea': 1078, 'andreas': 1079, 'andrew': 1080, 'andré': 1081, 'andy': 1082, 'anekāntavāda': 1083, 'angela': 1084, 'angeles': 1085, 'angelou': 1086, 'angels': 1087, 'anger': 1088, 'angered': 1089, 'anglesey': 1090, 'anglican': 1091, 'anglo': 1092, 'angry': 1093, 'animation': 1094, 'animations': 1095, 'aniston': 1096, 'ankle': 1097, 'anna': 1098, 'annals': 1099, 'anne': 1100, 'annexed': 1101, 'annie': 1102, 'anniversary': 1103, 'announce': 1104, 'announced': 1105, 'announcement': 1106, 'announcing': 1107, 'annually': 1108, 'annular': 1109, 'anomaly': 1110, 'anonymous': 1111, 'another': 1112, 'answer': 1113, 'answered': 1114, 'answers': 1115, 'antarctic': 1116, 'antelope': 1117, 'anthem': 1118, 'anthodon': 1119, 'anthropology': 1120, 'anti': 1121, 'antioch': 1122, 'antiquaries': 1123, 'antiquities': 1124, 'antiquity': 1125, 'antonio': 1126, 'antony': 1127, 'anzac': 1128, 'aoc': 1129, 'aot': 1130, 'ap': 1131, 'apart': 1132, 'apartment': 1133, 'apf': 1134, 'apollo': 1135, 'appeal': 1136, 'appealed': 1137, 'appealing': 1138, 'appeals': 1139, 'appearance': 1140, 'appeared': 1141, 'appearing': 1142, 'applause': 1143, 'apple': 1144, 'applewhite': 1145, 'application': 1146, 'applications': 1147, 'applied': 1148, 'apply': 1149, 'applying': 1150, 'appoint': 1151, 'appointed': 1152, 'appointment': 1153, 'appreciate': 1154, 'appreciated': 1155, 'apprentice': 1156, 'approach': 1157, 'approached': 1158, 'approaches': 1159, 'approaching': 1160, 'approval': 1161, 'approved': 1162, 'approximately': 1163, 'april': 1164, 'apse': 1165, 'aqha': 1166, 'ara': 1167, 'arab': 1168, 'arabs': 1169, 'aramaic': 1170, 'arc': 1171, 'arcade': 1172, 'arch': 1173, 'archaeologists': 1174, 'archaeology': 1175, 'archaic': 1176, 'arched': 1177, 'archer': 1178, 'archie': 1179, 'architect': 1180, 'architectural': 1181, 'archive': 1182, 'archives': 1183, 'arctic': 1184, 'ardan': 1185, 'are': 1186, 'area': 1187, 'aren': 1188, 'arena': 1189, 'areolatum': 1190, 'argentina': 1191, 'argentine': 1192, 'arguably': 1193, 'argued': 1194, 'argues': 1195, 'arguing': 1196, 'argument': 1197, 'arguments': 1198, 'aria': 1199, 'arise': 1200, 'arising': 1201, 'arizona': 1202, 'arm': 1203, 'armament': 1204, 'armies': 1205, 'armor': 1206, 'armored': 1207, 'armour': 1208, 'arms': 1209, 'armstrong': 1210, 'arnold': 1211, 'arose': 1212, 'around': 1213, 'arrange': 1214, 'arrangement': 1215, 'arrangements': 1216, 'arrested': 1217, 'arrival': 1218, 'arrive': 1219, 'arrived': 1220, 'arriving': 1221, 'arrow': 1222, 'arsenal': 1223, 'arsenic': 1224, 'article': 1225, 'artist': 1226, 'artistic': 1227, 'artists': 1228, 'arts': 1229, 'artwork': 1230, 'arvn': 1231, 'ascension': 1232, 'asclepius': 1233, 'ascot': 1234, 'ash': 1235, 'ashbee': 1236, 'ashes': 1237, 'ashore': 1238, 'asian': 1239, 'ask': 1240, 'asked': 1241, 'asking': 1242, 'asks': 1243, 'asleep': 1244, 'aspect': 1245, 'assassinated': 1246, 'assassination': 1247, 'assassins': 1248, 'assaulted': 1249, 'assaulting': 1250, 'assaults': 1251, 'assemble': 1252, 'assembly': 1253, 'assert': 1254, 'asserted': 1255, 'assess': 1256, 'assessment': 1257, 'assets': 1258, 'assign': 1259, 'assigned': 1260, 'assignment': 1261, 'assist': 1262, 'assistance': 1263, 'assistant': 1264, 'assisted': 1265, 'assisting': 1266, 'associate': 1267, 'associated': 1268, 'associates': 1269, 'associations': 1270, 'assume': 1271, 'assumes': 1272, 'assuming': 1273, 'assumption': 1274, 'assured': 1275, 'assyrian': 1276, 'aston': 1277, 'astonishing': 1278, 'astraeus': 1279, 'astronomer': 1280, 'astronomers': 1281, 'astronomical': 1282, 'athletes': 1283, 'atlanta': 1284, 'atlantic': 1285, 'atmosphere': 1286, 'atmospheric': 1287, 'atom': 1288, 'atomic': 1289, 'atoms': 1290, 'atop': 1291, 'atp': 1292, 'attached': 1293, 'attachment': 1294, 'attack': 1295, 'attacked': 1296, 'attackers': 1297, 'attacks': 1298, 'attempting': 1299, 'attendance': 1300, 'attendant': 1301, 'attendants': 1302, 'attended': 1303, 'attendees': 1304, 'attested': 1305, 'attitude': 1306, 'attract': 1307, 'attracted': 1308, 'attracting': 1309, 'attractions': 1310, 'attractive': 1311, 'attribute': 1312, 'attributed': 1313, 'attributes': 1314, 'au': 1315, 'auckland': 1316, 'auction': 1317, 'audiences': 1318, 'audio': 1319, 'audiobook': 1320, 'auditioned': 1321, 'august': 1322, 'augustan': 1323, 'austen': 1324, 'austin': 1325, 'austrian': 1326, 'authenticity': 1327, 'author': 1328, 'authored': 1329, 'authorities': 1330, 'authorized': 1331, 'auto': 1332, 'autobiographical': 1333, 'autobiography': 1334, 'automatic': 1335, 'automatically': 1336, 'automobile': 1337, 'autonomous': 1338, 'autonomy': 1339, 'ava': 1340, 'availability': 1341, 'avalon': 1342, 'avatars': 1343, 'average': 1344, 'averaged': 1345, 'averaging': 1346, 'avery': 1347, 'avian': 1348, 'aviation': 1349, 'aviv': 1350, 'avoid': 1351, 'avoided': 1352, 'awakening': 1353, 'awarded': 1354, 'awkward': 1355, 'axe': 1356, 'axel': 1357, 'axis': 1358, 'b': 1359, 'b.': 1360, 'ba': 1361, 'baby': 1362, 'babyface': 1363, 'babylonian': 1364, 'bachelor': 1365, 'back': 1366, 'backdrop': 1367, 'backed': 1368, 'background': 1369, 'backgrounds': 1370, 'backing': 1371, 'backs': 1372, 'backstory': 1373, 'backup': 1374, 'backward': 1375, 'backyard': 1376, 'bacteria': 1377, 'badge': 1378, 'badly': 1379, 'bag': 1380, 'bahamas': 1381, 'bahrain': 1382, 'baht': 1383, 'bahá': 1384, 'baja': 1385, 'baker': 1386, 'balance': 1387, 'balanced': 1388, 'bald': 1389, 'baldwin': 1390, 'balestre': 1391, 'ball': 1392, 'ballads': 1393, 'balliett': 1394, 'ballot': 1395, 'baltimore': 1396, 'banai': 1397, 'banaras': 1398, 'bank': 1399, 'bankruptcy': 1400, 'banks': 1401, 'banksia': 1402, 'banner': 1403, 'banning': 1404, 'baptist': 1405, 'barack': 1406, 'barbara': 1407, 'barbarian': 1408, 'barbie': 1409, 'bare': 1410, 'barely': 1411, 'barge': 1412, 'barges': 1413, 'bark': 1414, 'barker': 1415, 'barn': 1416, 'barnes': 1417, 'baroque': 1418, 'barra': 1419, 'barracks': 1420, 'barre': 1421, 'barrel': 1422, 'barrels': 1423, 'barrett': 1424, 'barricades': 1425, 'barrier': 1426, 'barriers': 1427, 'barrow': 1428, 'barry': 1429, 'bars': 1430, 'bart': 1431, 'bas': 1432, 'basal': 1433, 'base': 1434, 'baseball': 1435, 'based': 1436, 'basel': 1437, 'basement': 1438, 'bases': 1439, 'basic': 1440, 'basically': 1441, 'basin': 1442, 'basins': 1443, 'basis': 1444, 'basket': 1445, 'basketball': 1446, 'bass': 1447, 'bassist': 1448, 'bassline': 1449, 'bat': 1450, 'bath': 1451, 'batou': 1452, 'battalion': 1453, 'battalions': 1454, 'battered': 1455, 'batteries': 1456, 'batters': 1457, 'batting': 1458, 'battleship': 1459, 'battleships': 1460, 'bayern': 1461, 'bayeux': 1462, 'bays': 1463, 'bbc': 1464, 'bc': 1465, 'be': 1466, 'beach': 1467, 'beaches': 1468, 'beads': 1469, 'beak': 1470, 'beams': 1471, 'bearded': 1472, 'bears': 1473, 'beat': 1474, 'beating': 1475, 'beatles': 1476, 'beau': 1477, 'beautiful': 1478, 'beaver': 1479, 'bed': 1480, 'bedell': 1481, 'bedroom': 1482, 'bee': 1483, 'beethoven': 1484, 'beeton': 1485, 'beetons': 1486, 'before': 1487, 'befriended': 1488, 'begin': 1489, 'beginning': 1490, 'begun': 1491, 'behavior': 1492, 'being': 1493, 'beings': 1494, 'belfast': 1495, 'belgian': 1496, 'belgium': 1497, 'beliefs': 1498, 'believe': 1499, 'believed': 1500, 'believes': 1501, 'belle': 1502, 'bells': 1503, 'belly': 1504, 'belong': 1505, 'belonged': 1506, 'belonging': 1507, 'beloved': 1508, 'below': 1509, 'belt': 1510, 'beltline': 1511, 'ben': 1512, 'benadir': 1513, 'bench': 1514, 'beneath': 1515, 'benedict': 1516, 'beneficial': 1517, 'benefit': 1518, 'benefits': 1519, 'benjamin': 1520, 'bennett': 1521, 'bent': 1522, 'berdych': 1523, 'berg': 1524, 'bergen': 1525, 'berkeley': 1526, 'berkshire': 1527, 'berlin': 1528, 'berlioz': 1529, 'berman': 1530, 'bermuda': 1531, 'bernissartensis': 1532, 'bernstein': 1533, 'bertin': 1534, 'besieged': 1535, 'bessin': 1536, 'bestowed': 1537, 'better': 1538, 'between': 1539, 'beyoncé': 1540, 'beyond': 1541, 'bhai': 1542, 'bias': 1543, 'biased': 1544, 'bible': 1545, 'biblical': 1546, 'bicycle': 1547, 'biddenden': 1548, 'bidding': 1549, 'bigger': 1550, 'biggest': 1551, 'bike': 1552, 'bileća': 1553, 'bill': 1554, 'billed': 1555, 'bills': 1556, 'billy': 1557, 'bin': 1558, 'binary': 1559, 'bind': 1560, 'binding': 1561, 'biographer': 1562, 'biographical': 1563, 'biography': 1564, 'biological': 1565, 'bir': 1566, 'birch': 1567, 'bird': 1568, 'birds': 1569, 'birkin': 1570, 'birmingham': 1571, 'birth': 1572, 'birthplace': 1573, 'bishops': 1574, 'bit': 1575, 'bite': 1576, 'black': 1577, 'blackley': 1578, 'blacks': 1579, 'blackstone': 1580, 'blaine': 1581, 'blair': 1582, 'blank': 1583, 'bleeding': 1584, 'blessing': 1585, 'blockade': 1586, 'blocked': 1587, 'blocking': 1588, 'blocks': 1589, 'blofeld': 1590, 'blonde': 1591, 'blood': 1592, 'bloody': 1593, 'bloom': 1594, 'blowing': 1595, 'blown': 1596, 'bluffs': 1597, 'bo': 1598, 'boadicea': 1599, 'board': 1600, 'boarding': 1601, 'boards': 1602, 'boat': 1603, 'boating': 1604, 'boats': 1605, 'bob': 1606, 'bobby': 1607, 'bodies': 1608, 'body': 1609, 'bodyline': 1610, 'boilers': 1611, 'boise': 1612, 'bold': 1613, 'bolivia': 1614, 'bollywood': 1615, 'bolster': 1616, 'bolton': 1617, 'bolívar': 1618, 'bomb': 1619, 'bombed': 1620, 'bomber': 1621, 'bombing': 1622, 'bombs': 1623, 'bonaparte': 1624, 'bond': 1625, 'bone': 1626, 'bono': 1627, 'bonus': 1628, 'boo': 1629, 'boogie': 1630, 'book': 1631, 'books': 1632, 'boom': 1633, 'booms': 1634, 'boost': 1635, 'boot': 1636, 'boots': 1637, 'border': 1638, 'bordered': 1639, 'borderers': 1640, 'bordering': 1641, 'borders': 1642, 'bore': 1643, 'boreas': 1644, 'borgnine': 1645, 'boring': 1646, 'boris': 1647, 'borne': 1648, 'borough': 1649, 'borrowed': 1650, 'bosnia': 1651, 'bosnian': 1652, 'boss': 1653, 'bossy': 1654, 'both': 1655, 'bottle': 1656, 'bought': 1657, 'boulevard': 1658, 'bound': 1659, 'boundaries': 1660, 'boundary': 1661, 'bounds': 1662, 'bow': 1663, 'bowie': 1664, 'bowl': 1665, 'bowled': 1666, 'bowler': 1667, 'bowling': 1668, 'bowman': 1669, 'box': 1670, 'boxer': 1671, 'boxes': 1672, 'boxing': 1673, 'boy': 1674, 'boyz': 1675, 'braathen': 1676, 'braathens': 1677, 'bracknell': 1678, 'bradford': 1679, 'bradley': 1680, 'bradman': 1681, 'bradstreet': 1682, 'brahma': 1683, 'brahmin': 1684, 'branched': 1685, 'branches': 1686, 'brand': 1687, 'branded': 1688, 'brandon': 1689, 'brass': 1690, 'bravery': 1691, 'brazil': 1692, 'bread': 1693, 'break': 1694, 'breakfast': 1695, 'breaking': 1696, 'breaks': 1697, 'breast': 1698, 'bree': 1699, 'breech': 1700, 'breed': 1701, 'breeders': 1702, 'breeding': 1703, 'breese': 1704, 'brenda': 1705, 'brethren': 1706, 'brick': 1707, 'bride': 1708, 'bridge': 1709, 'bridgehead': 1710, 'bridging': 1711, 'brief': 1712, 'briefly': 1713, 'brien': 1714, 'brienne': 1715, 'brigade': 1716, 'brigades': 1717, 'briggs': 1718, 'brightness': 1719, 'brilliant': 1720, 'bringing': 1721, 'brings': 1722, 'britain': 1723, 'british': 1724, 'brittany': 1725, 'broad': 1726, 'broadcast': 1727, 'broadcasting': 1728, 'broadcasts': 1729, 'broader': 1730, 'broadly': 1731, 'broadside': 1732, 'broadway': 1733, 'broke': 1734, 'broken': 1735, 'bronze': 1736, 'brood': 1737, 'broods': 1738, 'brooklyn': 1739, 'brooks': 1740, 'broom': 1741, 'bros.': 1742, 'brothers': 1743, 'brought': 1744, 'brown': 1745, 'browns': 1746, 'bruce': 1747, 'bruges': 1748, 'bruins': 1749, 'brush': 1750, 'brussels': 1751, 'brutal': 1752, 'brutality': 1753, 'bryant': 1754, 'bsu': 1755, 'bucket': 1756, 'buddha': 1757, 'buddhist': 1758, 'buff': 1759, 'buffalo': 1760, 'bugs': 1761, 'builders': 1762, 'building': 1763, 'builds': 1764, 'bulgaria': 1765, 'bulgarian': 1766, 'bulkhead': 1767, 'bull': 1768, 'bullet': 1769, 'bungie': 1770, 'buoys': 1771, 'burden': 1772, 'burgh': 1773, 'burial': 1774, 'buried': 1775, 'burn': 1776, 'burned': 1777, 'burning': 1778, 'burnley': 1779, 'burns': 1780, 'burnt': 1781, 'burrow': 1782, 'burst': 1783, 'burt': 1784, 'bus': 1785, 'busch': 1786, 'buses': 1787, 'bush': 1788, 'businesses': 1789, 'businessman': 1790, 'busy': 1791, 'but': 1792, 'butetown': 1793, 'butterfly': 1794, 'button': 1795, 'buttons': 1796, 'buying': 1797, 'by': 1798, 'bypass': 1799, 'byron': 1800, 'byway': 1801, 'byzantine': 1802, 'bédard': 1803, 'bình': 1804, 'c.': 1805, 'c.r.u.s.h.': 1806, 'ca': 1807, 'caa': 1808, 'cabin': 1809, 'cabinet': 1810, 'cable': 1811, 'cabo': 1812, 'cabral': 1813, 'cadet': 1814, 'cadets': 1815, 'cadmium': 1816, 'caen': 1817, 'caesar': 1818, 'cage': 1819, 'cake': 1820, 'cakes': 1821, 'calculations': 1822, 'calculators': 1823, 'calcutta': 1824, 'calder': 1825, 'caliber': 1826, 'calibre': 1827, 'california': 1828, 'called': 1829, 'calling': 1830, 'callisto': 1831, 'calm': 1832, 'cambodia': 1833, 'cambodian': 1834, 'cambridge': 1835, 'came': 1836, 'cameo': 1837, 'camera': 1838, 'cameron': 1839, 'camp': 1840, 'campaign': 1841, 'campaigns': 1842, 'campbeltown': 1843, 'camped': 1844, 'camps': 1845, 'campus': 1846, 'campuses': 1847, 'can': 1848, 'canadian': 1849, 'canadians': 1850, 'canals': 1851, 'cancel': 1852, 'canceled': 1853, 'cancelled': 1854, 'cancer': 1855, 'candace': 1856, 'candidacy': 1857, 'candidates': 1858, 'candidature': 1859, 'candy': 1860, 'cannes': 1861, 'cannon': 1862, 'canon': 1863, 'cantrell': 1864, 'canvas': 1865, 'canyon': 1866, 'cap': 1867, 'capabilities': 1868, 'capability': 1869, 'capable': 1870, 'capacity': 1871, 'capcom': 1872, 'cape': 1873, 'capel': 1874, 'capilla': 1875, 'capital': 1876, 'capitals': 1877, 'capped': 1878, 'captain': 1879, 'captains': 1880, 'captive': 1881, 'captivity': 1882, 'captured': 1883, 'captures': 1884, 'capturing': 1885, 'car': 1886, 'carbon': 1887, 'carbonaria': 1888, 'card': 1889, 'cardiac': 1890, 'cardiff': 1891, 'cardinals': 1892, 'cards': 1893, 'cared': 1894, 'career': 1895, 'carefully': 1896, 'caretaker': 1897, 'carey': 1898, 'cargo': 1899, 'caribbean': 1900, 'carl': 1901, 'carlisle': 1902, 'carlos': 1903, 'carlyle': 1904, 'carmel': 1905, 'carnegie': 1906, 'carnival': 1907, 'carolina': 1908, 'caroline': 1909, 'carpenter': 1910, 'carr': 1911, 'carre': 1912, 'carriage': 1913, 'carriages': 1914, 'carriageway': 1915, 'carrie': 1916, 'carrier': 1917, 'carriers': 1918, 'carries': 1919, 'carrington': 1920, 'carroll': 1921, 'carson': 1922, 'cartoon': 1923, 'carty': 1924, 'carved': 1925, 'carvings': 1926, 'casa': 1927, 'cascade': 1928, 'case': 1929, 'casemates': 1930, 'cases': 1931, 'casey': 1932, 'cash': 1933, 'casino': 1934, 'caste': 1935, 'casterman': 1936, 'castile': 1937, 'casting': 1938, 'castle': 1939, 'casualties': 1940, 'casualty': 1941, 'casuarius': 1942, 'cat': 1943, 'catch': 1944, 'catchment': 1945, 'catchy': 1946, 'categories': 1947, 'category': 1948, 'cater': 1949, 'cathedrals': 1950, 'catherine': 1951, 'catholic': 1952, 'catholicism': 1953, 'catholics': 1954, 'cats': 1955, 'cattle': 1956, 'cause': 1957, 'caused': 1958, 'causeway': 1959, 'causing': 1960, 'cavalry': 1961, 'cbs': 1962, 'cd': 1963, 'cds': 1964, 'ce': 1965, 'cease': 1966, 'ceased': 1967, 'cecil': 1968, 'cecily': 1969, 'cedar': 1970, 'celebrate': 1971, 'celebrated': 1972, 'celebrating': 1973, 'celebration': 1974, 'celebrations': 1975, 'celebrities': 1976, 'celebrity': 1977, 'celestial': 1978, 'cell': 1979, 'cello': 1980, 'cells': 1981, 'cellular': 1982, 'celtic': 1983, 'cement': 1984, 'cemented': 1985, 'census': 1986, 'centenary': 1987, 'centered': 1988, 'centers': 1989, 'centimetres': 1990, 'central': 1991, 'centre': 1992, 'centred': 1993, 'centres': 1994, 'century': 1995, 'ceratopsian': 1996, 'ceratopsians': 1997, 'ceremonial': 1998, 'ceremonies': 1999, 'ceremony': 2000, 'ceres': 2001, 'certain': 2002, 'certainly': 2003, 'certified': 2004, 'cg': 2005, 'chagas': 2006, 'chain': 2007, 'chains': 2008, 'chair': 2009, 'challenged': 2010, 'challenges': 2011, 'challenging': 2012, 'champions': 2013, 'championship': 2014, 'champu': 2015, 'chancel': 2016, 'chancellor': 2017, 'chandler': 2018, 'changed': 2019, 'changes': 2020, 'changing': 2021, 'channel': 2022, 'channels': 2023, 'chaos': 2024, 'chapat': 2025, 'chapman': 2026, 'chapter': 2027, 'characterised': 2028, 'characteristic': 2029, 'characteristics': 2030, 'characterized': 2031, 'charge': 2032, 'charged': 2033, 'charges': 2034, 'chariot': 2035, 'charitable': 2036, 'charles': 2037, 'charlotte': 2038, 'charlton': 2039, 'charm': 2040, 'charmbracelet': 2041, 'charming': 2042, 'charted': 2043, 'charter': 2044, 'charting': 2045, 'chase': 2046, 'chased': 2047, 'chasing': 2048, 'chaykovsky': 2049, 'cheap': 2050, 'cheaper': 2051, 'check': 2052, 'checked': 2053, 'cheers': 2054, 'cheese': 2055, 'chef': 2056, 'cheltenham': 2057, 'chemical': 2058, 'chemicals': 2059, 'chemist': 2060, 'chemistry': 2061, 'chemotherapy': 2062, 'chen': 2063, 'chennselaig': 2064, 'cherry': 2065, 'chesapeake': 2066, 'chess': 2067, 'chest': 2068, 'chester': 2069, 'chestnut': 2070, 'chevaliers': 2071, 'chicks': 2072, 'chief': 2073, 'chiefly': 2074, 'childhood': 2075, 'chin': 2076, 'chinese': 2077, 'chip': 2078, 'chloride': 2079, 'choice': 2080, 'choices': 2081, 'choir': 2082, 'choose': 2083, 'chooses': 2084, 'chorus': 2085, 'chosen': 2086, 'christ': 2087, 'christi': 2088, 'christian': 2089, 'christianity': 2090, 'christians': 2091, 'christina': 2092, 'christine': 2093, 'christopher': 2094, 'chromosomes': 2095, 'chronicle': 2096, 'chronicles': 2097, 'chu': 2098, 'chuck': 2099, 'churches': 2100, 'churchill': 2101, 'churchyard': 2102, 'chutzpah': 2103, 'cincinnati': 2104, 'cinematic': 2105, 'cinquemani': 2106, 'circle': 2107, 'circuit': 2108, 'circulated': 2109, 'circus': 2110, 'citadel': 2111, 'cite': 2112, 'cited': 2113, 'cites': 2114, 'citing': 2115, 'citizen': 2116, 'citizens': 2117, 'civic': 2118, 'civil': 2119, 'civilization': 2120, 'clade': 2121, 'cladogram': 2122, 'claim': 2123, 'claiming': 2124, 'clair': 2125, 'claire': 2126, 'clamp': 2127, 'clan': 2128, 'clarified': 2129, 'clarke': 2130, 'clarkson': 2131, 'clash': 2132, 'classes': 2133, 'classics': 2134, 'classification': 2135, 'classified': 2136, 'claws': 2137, 'clay': 2138, 'cleaning': 2139, 'clear': 2140, 'clearance': 2141, 'cleared': 2142, 'clearwater': 2143, 'cleland': 2144, 'clergy': 2145, 'clerk': 2146, 'cleveland': 2147, 'clever': 2148, 'client': 2149, 'clients': 2150, 'cliff': 2151, 'cliffs': 2152, 'climate': 2153, 'climax': 2154, 'climb': 2155, 'climbed': 2156, 'climbing': 2157, 'clinical': 2158, 'clinton': 2159, 'clip': 2160, 'clive': 2161, 'clock': 2162, 'closed': 2163, 'closely': 2164, 'closer': 2165, 'closest': 2166, 'closing': 2167, 'closure': 2168, 'cloth': 2169, 'clothes': 2170, 'clothing': 2171, 'clubs': 2172, 'cluster': 2173, 'clusters': 2174, 'clutch': 2175, 'co': 2176, 'coach': 2177, 'coached': 2178, 'coaches': 2179, 'coal': 2180, 'coast': 2181, 'coastal': 2182, 'coaster': 2183, 'coastline': 2184, 'coasts': 2185, 'cobain': 2186, 'cobra': 2187, 'cockpit': 2188, 'code': 2189, 'coffee': 2190, 'coffin': 2191, 'coin': 2192, 'coincide': 2193, 'coincided': 2194, 'coins': 2195, 'col': 2196, 'cold': 2197, 'coldplay': 2198, 'coldrum': 2199, 'cole': 2200, 'colin': 2201, 'collapse': 2202, 'collapsed': 2203, 'colleagues': 2204, 'collect': 2205, 'collecting': 2206, 'collection': 2207, 'collections': 2208, 'collective': 2209, 'collectively': 2210, 'collector': 2211, 'collectors': 2212, 'colleges': 2213, 'collegiate': 2214, 'collided': 2215, 'colombia': 2216, 'colombian': 2217, 'colonel': 2218, 'colonies': 2219, 'colonists': 2220, 'colonization': 2221, 'colonna': 2222, 'color': 2223, 'colors': 2224, 'colour': 2225, 'colton': 2226, 'columbia': 2227, 'columbus': 2228, 'column': 2229, 'columns': 2230, 'comair': 2231, 'combination': 2232, 'combinations': 2233, 'combine': 2234, 'combined': 2235, 'combines': 2236, 'come': 2237, 'comeback': 2238, 'comedian': 2239, 'comedic': 2240, 'comedies': 2241, 'comedy': 2242, 'comes': 2243, 'comet': 2244, 'comfort': 2245, 'comfortable': 2246, 'comic': 2247, 'comics': 2248, 'commanding': 2249, 'commandments': 2250, 'commandos': 2251, 'commands': 2252, 'commenced': 2253, 'comment': 2254, 'commentaries': 2255, 'commentary': 2256, 'commented': 2257, 'commenting': 2258, 'comments': 2259, 'commerce': 2260, 'commercials': 2261, 'commissioned': 2262, 'commissioners': 2263, 'commissioning': 2264, 'commit': 2265, 'commitments': 2266, 'committed': 2267, 'committee': 2268, 'committees': 2269, 'committing': 2270, 'common': 2271, 'commonly': 2272, 'commons': 2273, 'communal': 2274, 'communicate': 2275, 'communication': 2276, 'communications': 2277, 'communist': 2278, 'communists': 2279, 'communities': 2280, 'community': 2281, 'compact': 2282, 'companies': 2283, 'companion': 2284, 'comparable': 2285, 'comparative': 2286, 'compare': 2287, 'compared': 2288, 'compares': 2289, 'comparing': 2290, 'comparison': 2291, 'comparisons': 2292, 'compatible': 2293, 'compelled': 2294, 'compelling': 2295, 'compensation': 2296, 'compete': 2297, 'competing': 2298, 'competitions': 2299, 'competitor': 2300, 'competitors': 2301, 'compilation': 2302, 'complained': 2303, 'complaining': 2304, 'complaints': 2305, 'completed': 2306, 'completely': 2307, 'completing': 2308, 'completion': 2309, 'complicated': 2310, 'complications': 2311, 'components': 2312, 'compose': 2313, 'composed': 2314, 'composer': 2315, 'composers': 2316, 'composing': 2317, 'composite': 2318, 'compressed': 2319, 'comprise': 2320, 'comprised': 2321, 'comprises': 2322, 'comprising': 2323, 'compromised': 2324, 'computer': 2325, 'computers': 2326, 'computing': 2327, 'comrades': 2328, 'concealed': 2329, 'conceded': 2330, 'concentrate': 2331, 'concentrations': 2332, 'concept': 2333, 'conception': 2334, 'concerned': 2335, 'concerning': 2336, 'concerto': 2337, 'conclude': 2338, 'concluded': 2339, 'concluding': 2340, 'conclusion': 2341, 'conclusions': 2342, 'concolor': 2343, 'concurrent': 2344, 'concurrently': 2345, 'condemned': 2346, 'condemning': 2347, 'condition': 2348, 'condom': 2349, 'condoms': 2350, 'conduct': 2351, 'conducted': 2352, 'conducting': 2353, 'confederacy': 2354, 'confederation': 2355, 'conference': 2356, 'confessed': 2357, 'confession': 2358, 'confessions': 2359, 'confident': 2360, 'configuration': 2361, 'confined': 2362, 'confirm': 2363, 'confirmation': 2364, 'confirmed': 2365, 'conflict': 2366, 'conflicting': 2367, 'conformity': 2368, 'confront': 2369, 'confrontation': 2370, 'confused': 2371, 'cong': 2372, 'congestion': 2373, 'congo': 2374, 'congolese': 2375, 'congregations': 2376, 'congress': 2377, 'conifers': 2378, 'conjoined': 2379, 'conjunction': 2380, 'connect': 2381, 'connected': 2382, 'connecticut': 2383, 'connecting': 2384, 'connections': 2385, 'connector': 2386, 'connects': 2387, 'connie': 2388, 'conquest': 2389, 'conrad': 2390, 'conscientious': 2391, 'consecrated': 2392, 'consensus': 2393, 'consent': 2394, 'consequence': 2395, 'consequences': 2396, 'consequently': 2397, 'conservation': 2398, 'conservative': 2399, 'conservatoire': 2400, 'consider': 2401, 'considerably': 2402, 'considering': 2403, 'considers': 2404, 'consist': 2405, 'consistent': 2406, 'consistently': 2407, 'consisting': 2408, 'consists': 2409, 'console': 2410, 'consoles': 2411, 'consolidated': 2412, 'consolidation': 2413, 'consort': 2414, 'conspicuous': 2415, 'conspirators': 2416, 'constantine': 2417, 'constantinople': 2418, 'constantly': 2419, 'constituency': 2420, 'constitute': 2421, 'constitutional': 2422, 'constraints': 2423, 'constructing': 2424, 'construction': 2425, 'consul': 2426, 'consultant': 2427, 'consulted': 2428, 'consume': 2429, 'consumed': 2430, 'consumer': 2431, 'consumers': 2432, 'consuming': 2433, 'container': 2434, 'containers': 2435, 'containing': 2436, 'contaminated': 2437, 'contemporaries': 2438, 'content': 2439, 'contention': 2440, 'contents': 2441, 'contest': 2442, 'contested': 2443, 'contexts': 2444, 'continent': 2445, 'continental': 2446, 'contingent': 2447, 'continually': 2448, 'continuation': 2449, 'continuity': 2450, 'continuous': 2451, 'continuously': 2452, 'contraception': 2453, 'contracting': 2454, 'contracts': 2455, 'contradictions': 2456, 'contradictory': 2457, 'contrary': 2458, 'contrast': 2459, 'contrasts': 2460, 'contribute': 2461, 'contributed': 2462, 'contributing': 2463, 'contribution': 2464, 'controlled': 2465, 'controller': 2466, 'controllers': 2467, 'controlling': 2468, 'controls': 2469, 'controversial': 2470, 'controversies': 2471, 'controversy': 2472, 'convective': 2473, 'convenient': 2474, 'convention': 2475, 'convergence': 2476, 'conversations': 2477, 'conversely': 2478, 'conversion': 2479, 'convert': 2480, 'converted': 2481, 'convex': 2482, 'convey': 2483, 'conveyed': 2484, 'convict': 2485, 'convicted': 2486, 'convince': 2487, 'convinced': 2488, 'convincing': 2489, 'convoys': 2490, 'cook': 2491, 'cooke': 2492, 'cookery': 2493, 'cooking': 2494, 'cooksey': 2495, 'cool': 2496, 'cooled': 2497, 'cooler': 2498, 'cooling': 2499, 'cooper': 2500, 'cooperate': 2501, 'cooperation': 2502, 'coordinated': 2503, 'coordination': 2504, 'cope': 2505, 'copenhagen': 2506, 'copies': 2507, 'copperfield': 2508, 'copy': 2509, 'corbet': 2510, 'core': 2511, 'corey': 2512, 'corn': 2513, 'corner': 2514, 'corners': 2515, 'cornwallis': 2516, 'coronation': 2517, 'corporation': 2518, 'corporations': 2519, 'corps': 2520, 'corpus': 2521, 'correct': 2522, 'corrected': 2523, 'correctly': 2524, 'correspondence': 2525, 'corresponding': 2526, 'corridor': 2527, 'corruption': 2528, 'cos': 2529, 'cosmetic': 2530, 'cosmopolitan': 2531, 'cossacks': 2532, 'costa': 2533, 'costing': 2534, 'costly': 2535, 'costs': 2536, 'costume': 2537, 'costumes': 2538, 'cottam': 2539, 'cotton': 2540, 'cougars': 2541, 'couldn': 2542, 'council': 2543, 'councillor': 2544, 'councils': 2545, 'count': 2546, 'countdown': 2547, 'counted': 2548, 'counter': 2549, 'counterattack': 2550, 'counterattacks': 2551, 'counterfeit': 2552, 'counterpart': 2553, 'counterparts': 2554, 'countess': 2555, 'counties': 2556, 'country': 2557, 'countryside': 2558, 'counts': 2559, 'county': 2560, 'couple': 2561, 'coupled': 2562, 'courage': 2563, 'courses': 2564, 'courtyard': 2565, 'cousin': 2566, 'cover': 2567, 'coverage': 2568, 'covering': 2569, 'covers': 2570, 'coward': 2571, 'cox': 2572, 'coyotes': 2573, 'cpr': 2574, 'cps': 2575, 'crab': 2576, 'crabble': 2577, 'crack': 2578, 'craft': 2579, 'craig': 2580, 'crake': 2581, 'crane': 2582, 'crashed': 2583, 'crater': 2584, 'crazy': 2585, 'create': 2586, 'creation': 2587, 'creations': 2588, 'creative': 2589, 'creativity': 2590, 'creators': 2591, 'creature': 2592, 'creatures': 2593, 'credit': 2594, 'credited': 2595, 'creek': 2596, 'crescent': 2597, 'cresswell': 2598, 'crest': 2599, 'crested': 2600, 'crests': 2601, 'cretaceous': 2602, 'creutz': 2603, 'crew': 2604, 'crewmen': 2605, 'crews': 2606, 'cricket': 2607, 'crickets': 2608, 'crime': 2609, 'crimes': 2610, 'criminal': 2611, 'criminals': 2612, 'crimson': 2613, 'critical': 2614, 'criticism': 2615, 'criticisms': 2616, 'criticized': 2617, 'criticizing': 2618, 'critique': 2619, 'croatian': 2620, 'croats': 2621, 'croix': 2622, 'crop': 2623, 'crops': 2624, 'cross': 2625, 'crosses': 2626, 'crossing': 2627, 'crossover': 2628, 'crowd': 2629, 'crowded': 2630, 'crowds': 2631, 'crown': 2632, 'crowned': 2633, 'crowns': 2634, 'croydon': 2635, 'crucial': 2636, 'crude': 2637, 'cruiser': 2638, 'cruiserweight': 2639, 'cruising': 2640, 'crusade': 2641, 'crusader': 2642, 'crush': 2643, 'crushed': 2644, 'cruz': 2645, 'cruzi': 2646, 'css': 2647, 'cuba': 2648, 'cuban': 2649, 'cubs': 2650, 'cuisine': 2651, 'culinary': 2652, 'culminated': 2653, 'cultivated': 2654, 'cultivation': 2655, 'cults': 2656, 'cultures': 2657, 'cunningham': 2658, 'cure': 2659, 'curriculum': 2660, 'curse': 2661, 'curtain': 2662, 'curtis': 2663, 'curve': 2664, 'cushing': 2665, 'custody': 2666, 'custom': 2667, 'customers': 2668, 'customs': 2669, 'cute': 2670, 'cutting': 2671, 'cy': 2672, 'cycles': 2673, 'cyclones': 2674, 'cylinder': 2675, 'cyrus': 2676, 'cytoplasm': 2677, 'czech': 2678, 'd.': 2679, 'd.c.': 2680, 'dads': 2681, 'dag': 2682, 'dags': 2683, 'dahlan': 2684, 'daily': 2685, 'dalmeny': 2686, 'daly': 2687, 'dam': 2688, 'damage': 2689, 'damaged': 2690, 'damaging': 2691, 'dame': 2692, 'damietta': 2693, 'dams': 2694, 'dan': 2695, 'dance': 2696, 'dancers': 2697, 'dances': 2698, 'dancing': 2699, 'danger': 2700, 'dangerous': 2701, 'dangerously': 2702, 'dangers': 2703, 'daniel': 2704, 'daniels': 2705, 'danish': 2706, 'dante': 2707, 'darden': 2708, 'dark': 2709, 'darker': 2710, 'darling': 2711, 'darpa': 2712, 'darren': 2713, 'darwin': 2714, 'data': 2715, 'database': 2716, 'dated': 2717, 'daughters': 2718, 'david': 2719, 'davies': 2720, 'davis': 2721, 'dawn': 2722, 'daylight': 2723, 'days': 2724, 'dc': 2725, 'deacon': 2726, 'dead': 2727, 'deadly': 2728, 'dealing': 2729, 'deals': 2730, 'dealt': 2731, 'dean': 2732, 'dear': 2733, 'death': 2734, 'debate': 2735, 'debates': 2736, 'debris': 2737, 'debt': 2738, 'debts': 2739, 'debut': 2740, 'debuted': 2741, 'decade': 2742, 'decades': 2743, 'deceased': 2744, 'december': 2745, 'deception': 2746, 'decides': 2747, 'deciding': 2748, 'deciduous': 2749, 'decisions': 2750, 'decisive': 2751, 'declaration': 2752, 'declare': 2753, 'declares': 2754, 'declaring': 2755, 'declined': 2756, 'declining': 2757, 'decommissioned': 2758, 'decoration': 2759, 'decrease': 2760, 'decreased': 2761, 'decreases': 2762, 'decree': 2763, 'dedicated': 2764, 'dedication': 2765, 'deemed': 2766, 'deep': 2767, 'deeper': 2768, 'deeply': 2769, 'deer': 2770, 'def': 2771, 'defeated': 2772, 'defeating': 2773, 'defeats': 2774, 'defence': 2775, 'defended': 2776, 'defender': 2777, 'defending': 2778, 'defensive': 2779, 'define': 2780, 'defined': 2781, 'defines': 2782, 'defining': 2783, 'definite': 2784, 'definitely': 2785, 'definition': 2786, 'definitions': 2787, 'definitive': 2788, 'degenerate': 2789, 'degraded': 2790, 'degrom': 2791, 'deities': 2792, 'deity': 2793, 'del': 2794, 'delay': 2795, 'delayed': 2796, 'delaying': 2797, 'delays': 2798, 'delegated': 2799, 'delegates': 2800, 'delegation': 2801, 'deleted': 2802, 'delhi': 2803, 'delicate': 2804, 'delight': 2805, 'deliver': 2806, 'delivered': 2807, 'delivers': 2808, 'delivery': 2809, 'dell': 2810, 'delta': 2811, 'deluxe': 2812, 'demand': 2813, 'demanded': 2814, 'demanding': 2815, 'demands': 2816, 'demise': 2817, 'demo': 2818, 'democracy': 2819, 'democratic': 2820, 'demokraten': 2821, 'demolished': 2822, 'demolition': 2823, 'demon': 2824, 'demonstrate': 2825, 'demonstrated': 2826, 'demonstrating': 2827, 'demonstration': 2828, 'demonstrations': 2829, 'den': 2830, 'denial': 2831, 'denied': 2832, 'denis': 2833, 'denmark': 2834, 'denominations': 2835, 'denoting': 2836, 'densely': 2837, 'density': 2838, 'denver': 2839, 'deny': 2840, 'denying': 2841, 'departed': 2842, 'department': 2843, 'departure': 2844, 'depaul': 2845, 'depend': 2846, 'dependent': 2847, 'depending': 2848, 'depict': 2849, 'depicting': 2850, 'depiction': 2851, 'depictions': 2852, 'depleted': 2853, 'deployment': 2854, 'deposed': 2855, 'deposition': 2856, 'deposits': 2857, 'depot': 2858, 'depressed': 2859, 'depression': 2860, 'depressions': 2861, 'depth': 2862, 'depths': 2863, 'deputy': 2864, 'der': 2865, 'derby': 2866, 'derek': 2867, 'derfflinger': 2868, 'derivatives': 2869, 'derived': 2870, 'derives': 2871, 'derry': 2872, 'dershowitz': 2873, 'des': 2874, 'descendant': 2875, 'descendants': 2876, 'descended': 2877, 'describing': 2878, 'description': 2879, 'desert': 2880, 'deserted': 2881, 'deserves': 2882, 'design': 2883, 'designated': 2884, 'designation': 2885, 'designations': 2886, 'designer': 2887, 'designers': 2888, 'designing': 2889, 'designs': 2890, 'desirable': 2891, 'desire': 2892, 'desires': 2893, 'desperate': 2894, 'despite': 2895, 'destinations': 2896, 'destined': 2897, 'destiny': 2898, 'destroy': 2899, 'destroyed': 2900, 'destroyer': 2901, 'destroying': 2902, 'destruction': 2903, 'detached': 2904, 'detail': 2905, 'detailed': 2906, 'detailing': 2907, 'details': 2908, 'detected': 2909, 'detection': 2910, 'detective': 2911, 'deteriorated': 2912, 'determine': 2913, 'determined': 2914, 'determining': 2915, 'detonated': 2916, 'detroit': 2917, 'devastating': 2918, 'developed': 2919, 'developer': 2920, 'developers': 2921, 'development': 2922, 'developments': 2923, 'develops': 2924, 'device': 2925, 'devin': 2926, 'devised': 2927, 'devon': 2928, 'devote': 2929, 'devotion': 2930, 'devotional': 2931, 'devout': 2932, 'dhangar': 2933, 'diable': 2934, 'diagnosed': 2935, 'diagnosis': 2936, 'dialogues': 2937, 'diamandis': 2938, 'diameter': 2939, 'diamond': 2940, 'diamonds': 2941, 'diana': 2942, 'diane': 2943, 'diarmait': 2944, 'dick': 2945, 'dictator': 2946, 'dictionary': 2947, 'didn': 2948, 'die': 2949, 'died': 2950, 'diego': 2951, 'dies': 2952, 'diet': 2953, 'differ': 2954, 'differentiated': 2955, 'differentiation': 2956, 'differently': 2957, 'differs': 2958, 'difficult': 2959, 'difficulty': 2960, 'dig': 2961, 'digging': 2962, 'digital': 2963, 'digitally': 2964, 'dignity': 2965, 'dilke': 2966, 'dillon': 2967, 'dimensional': 2968, 'dimensions': 2969, 'dining': 2970, 'dinosaurs': 2971, 'diocese': 2972, 'diplomat': 2973, 'diplomatic': 2974, 'dire': 2975, 'directed': 2976, 'directing': 2977, 'direction': 2978, 'directions': 2979, 'directive': 2980, 'directly': 2981, 'director': 2982, 'directors': 2983, 'dirt': 2984, 'disagreed': 2985, 'disagreements': 2986, 'disappear': 2987, 'disappearance': 2988, 'disappeared': 2989, 'disappointed': 2990, 'disasters': 2991, 'disastrous': 2992, 'disbanded': 2993, 'disc': 2994, 'discarded': 2995, 'disciples': 2996, 'discipline': 2997, 'disciplines': 2998, 'discontinued': 2999, 'discovering': 3000, 'discovers': 3001, 'discretion': 3002, 'discus': 3003, 'discuss': 3004, 'discussed': 3005, 'discussion': 3006, 'disease': 3007, 'diseases': 3008, 'disguise': 3009, 'disguised': 3010, 'disgust': 3011, 'dishes': 3012, 'disk': 3013, 'dislike': 3014, 'disliked': 3015, 'dismantled': 3016, 'dismay': 3017, 'dismiss': 3018, 'dismissal': 3019, 'disney': 3020, 'disorder': 3021, 'dispersed': 3022, 'displaced': 3023, 'displacement': 3024, 'display': 3025, 'displaying': 3026, 'displays': 3027, 'disposed': 3028, 'dispute': 3029, 'disputed': 3030, 'disputes': 3031, 'disqualified': 3032, 'disrupted': 3033, 'dissenting': 3034, 'dissipated': 3035, 'dissipating': 3036, 'dissolution': 3037, 'dissolve': 3038, 'dissolved': 3039, 'disston': 3040, 'distance': 3041, 'distant': 3042, 'distinct': 3043, 'distinction': 3044, 'distinctive': 3045, 'distinguish': 3046, 'distinguished': 3047, 'distress': 3048, 'distributed': 3049, 'distribution': 3050, 'distributor': 3051, 'disturbance': 3052, 'disturbed': 3053, 'disturbing': 3054, 'ditch': 3055, 'div': 3056, 'dive': 3057, 'divers': 3058, 'diverse': 3059, 'diversity': 3060, 'diverted': 3061, 'divide': 3062, 'divine': 3063, 'diving': 3064, 'divinities': 3065, 'division': 3066, 'divisional': 3067, 'divisions': 3068, 'divorce': 3069, 'divorced': 3070, 'dna': 3071, 'do': 3072, 'dock': 3073, 'doctoral': 3074, 'doctrine': 3075, 'doctrines': 3076, 'document': 3077, 'documentary': 3078, 'dodge': 3079, 'dodo': 3080, 'dodos': 3081, 'doesn': 3082, 'dog': 3083, 'dogs': 3084, 'dole': 3085, 'dollar': 3086, 'dolls': 3087, 'domain': 3088, 'dome': 3089, 'domestic': 3090, 'dominant': 3091, 'dominate': 3092, 'domnall': 3093, 'donated': 3094, 'donation': 3095, 'donors': 3096, 'doofenshmirtz': 3097, 'dooley': 3098, 'door': 3099, 'doors': 3100, 'doorway': 3101, 'dorsal': 3102, 'dot': 3103, 'dots': 3104, 'double': 3105, 'doubled': 3106, 'doubles': 3107, 'doubt': 3108, 'doubts': 3109, 'douglas': 3110, 'down': 3111, 'downgraded': 3112, 'download': 3113, 'downloadable': 3114, 'downs': 3115, 'downtown': 3116, 'downward': 3117, 'doyle': 3118, 'dozen': 3119, 'dr': 3120, 'draft': 3121, 'drafted': 3122, 'draftees': 3123, 'dragon': 3124, 'drainage': 3125, 'drained': 3126, 'draining': 3127, 'drains': 3128, 'drake': 3129, 'dramatically': 3130, 'draught': 3131, 'draw': 3132, 'drawing': 3133, 'drawings': 3134, 'dre': 3135, 'dreadnoughts': 3136, 'dreams': 3137, 'dreamworks': 3138, 'dress': 3139, 'dressing': 3140, 'drew': 3141, 'dried': 3142, 'drill': 3143, 'drinking': 3144, 'drive': 3145, 'driven': 3146, 'drivers': 3147, 'drives': 3148, 'driving': 3149, 'dropped': 3150, 'dropping': 3151, 'drops': 3152, 'drought': 3153, 'drove': 3154, 'drug': 3155, 'drugs': 3156, 'drum': 3157, 'drumming': 3158, 'drums': 3159, 'drunk': 3160, 'dry': 3161, 'ds': 3162, 'dual': 3163, 'duarte': 3164, 'dubai': 3165, 'dubbed': 3166, 'dubious': 3167, 'dubliners': 3168, 'duchess': 3169, 'duck': 3170, 'ducks': 3171, 'dudley': 3172, 'due': 3173, 'duet': 3174, 'dug': 3175, 'dumont': 3176, 'dumpty': 3177, 'dun': 3178, 'duncan': 3179, 'dunn': 3180, 'duo': 3181, 'dupri': 3182, 'duration': 3183, 'durga': 3184, 'durham': 3185, 'during': 3186, 'dust': 3187, 'dutch': 3188, 'duty': 3189, 'duvall': 3190, 'dvd': 3191, 'dvorak': 3192, 'dwarf': 3193, 'dwarfs': 3194, 'dylan': 3195, 'dynamic': 3196, 'díaz': 3197, 'e.': 3198, 'e.g.': 3199, 'eagle': 3200, 'eagles': 3201, 'earl': 3202, 'earliest': 3203, 'early': 3204, 'earn': 3205, 'earning': 3206, 'earnings': 3207, 'ears': 3208, 'earth': 3209, 'earthrealm': 3210, 'earthstar': 3211, 'ease': 3212, 'easier': 3213, 'east': 3214, 'easter': 3215, 'easterly': 3216, 'eastwards': 3217, 'easy': 3218, 'eat': 3219, 'eaten': 3220, 'eating': 3221, 'eaton': 3222, 'eccentric': 3223, 'ecclestone': 3224, 'echo': 3225, 'echoed': 3226, 'echoes': 3227, 'eclipse': 3228, 'ecological': 3229, 'economically': 3230, 'economics': 3231, 'economy': 3232, 'ecosystem': 3233, 'ectomycorrhizal': 3234, 'ed': 3235, 'eddie': 3236, 'edgar': 3237, 'edges': 3238, 'edgeworth': 3239, 'edible': 3240, 'edinburgh': 3241, 'edith': 3242, 'editing': 3243, 'edition': 3244, 'editions': 3245, 'editor': 3246, 'editorial': 3247, 'editors': 3248, 'edmund': 3249, 'eduardo': 3250, 'educated': 3251, 'education': 3252, 'edward': 3253, 'edwards': 3254, 'edwin': 3255, 'effective': 3256, 'effectively': 3257, 'efficiency': 3258, 'efficient': 3259, 'egg': 3260, 'eggs': 3261, 'eguchi': 3262, 'egypt': 3263, 'egyptians': 3264, 'eighteenth': 3265, 'el': 3266, 'elaborate': 3267, 'elaine': 3268, 'elbow': 3269, 'elder': 3270, 'elderly': 3271, 'elected': 3272, 'election': 3273, 'elections': 3274, 'electoral': 3275, 'electric': 3276, 'electrical': 3277, 'electricity': 3278, 'electron': 3279, 'electronic': 3280, 'elegans': 3281, 'elegant': 3282, 'element': 3283, 'elementary': 3284, 'elephant': 3285, 'elevated': 3286, 'elevation': 3287, 'elevations': 3288, 'eleventh': 3289, 'elgin': 3290, 'eligible': 3291, 'eliminate': 3292, 'eliminated': 3293, 'eliminating': 3294, 'elimination': 3295, 'eliot': 3296, 'elite': 3297, 'eliza': 3298, 'elizabeth': 3299, 'elk': 3300, 'ellis': 3301, 'elongated': 3302, 'elrane': 3303, 'ely': 3304, 'em': 3305, 'embarked': 3306, 'embassy': 3307, 'embodied': 3308, 'embryos': 3309, 'emerge': 3310, 'emerged': 3311, 'emerging': 3312, 'emigration': 3313, 'emily': 3314, 'eminent': 3315, 'emitted': 3316, 'emma': 3317, 'emmanuel': 3318, 'emmy': 3319, 'emotion': 3320, 'emotionally': 3321, 'emperor': 3322, 'emperors': 3323, 'emphasised': 3324, 'emphasized': 3325, 'emphasizes': 3326, 'empire': 3327, 'empires': 3328, 'emplacements': 3329, 'employed': 3330, 'employee': 3331, 'employees': 3332, 'employer': 3333, 'employing': 3334, 'employs': 3335, 'emptied': 3336, 'en': 3337, 'enabling': 3338, 'enacted': 3339, 'enclosed': 3340, 'enclosure': 3341, 'encore': 3342, 'encounter': 3343, 'encountered': 3344, 'encountering': 3345, 'encounters': 3346, 'encouragement': 3347, 'endangered': 3348, 'endemic': 3349, 'endorsed': 3350, 'endorsement': 3351, 'endured': 3352, 'enduring': 3353, 'enemies': 3354, 'enemy': 3355, 'energetic': 3356, 'enforce': 3357, 'enforced': 3358, 'enforcement': 3359, 'engage': 3360, 'engagement': 3361, 'engagements': 3362, 'engages': 3363, 'engineer': 3364, 'engineered': 3365, 'engineering': 3366, 'engines': 3367, 'engraving': 3368, 'enhance': 3369, 'enix': 3370, 'enjoy': 3371, 'enjoyable': 3372, 'enjoys': 3373, 'enlisted': 3374, 'ennis': 3375, 'enrollment': 3376, 'ensemble': 3377, 'ensued': 3378, 'ensuing': 3379, 'ensure': 3380, 'enter': 3381, 'enterprise': 3382, 'enterprises': 3383, 'enters': 3384, 'enthusiasm': 3385, 'enthusiastic': 3386, 'entirety': 3387, 'entrance': 3388, 'entrances': 3389, 'entrenched': 3390, 'entries': 3391, 'entry': 3392, 'envelope': 3393, 'environmental': 3394, 'environments': 3395, 'envisioned': 3396, 'epic': 3397, 'epiphany': 3398, 'episode': 3399, 'episodes': 3400, 'epithet': 3401, 'epsom': 3402, 'equal': 3403, 'equaliser': 3404, 'equality': 3405, 'equally': 3406, 'equated': 3407, 'equilibrium': 3408, 'equipment': 3409, 'equivalent': 3410, 'era': 3411, 'erected': 3412, 'eric': 3413, 'ericsson': 3414, 'erlewine': 3415, 'ernest': 3416, 'ernst': 3417, 'eroded': 3418, 'erosion': 3419, 'error': 3420, 'erzherzog': 3421, 'esa': 3422, 'escape': 3423, 'escapes': 3424, 'escorted': 3425, 'essay': 3426, 'essays': 3427, 'essentially': 3428, 'est': 3429, 'establish': 3430, 'established': 3431, 'establishes': 3432, 'establishment': 3433, 'estates': 3434, 'estimate': 3435, 'estimates': 3436, 'eternal': 3437, 'etty': 3438, 'eu': 3439, 'eucalypts': 3440, 'eukaryotic': 3441, 'europa': 3442, 'european': 3443, 'europeans': 3444, 'europium': 3445, 'evacuated': 3446, 'evans': 3447, 'eve': 3448, 'even': 3449, 'events': 3450, 'eventual': 3451, 'eventually': 3452, 'ever': 3453, 'everett': 3454, 'everglades': 3455, 'everton': 3456, 'everybody': 3457, 'everyday': 3458, 'everything': 3459, 'evident': 3460, 'evil': 3461, 'evita': 3462, 'evolved': 3463, 'exactly': 3464, 'exaggerated': 3465, 'examine': 3466, 'examined': 3467, 'examines': 3468, 'excavated': 3469, 'excavation': 3470, 'excavations': 3471, 'exceeded': 3472, 'exceeding': 3473, 'excellent': 3474, 'exception': 3475, 'exceptional': 3476, 'exceptionally': 3477, 'exceptions': 3478, 'excessive': 3479, 'exchange': 3480, 'excited': 3481, 'excitement': 3482, 'excluded': 3483, 'exclusive': 3484, 'exclusively': 3485, 'executed': 3486, 'execution': 3487, 'executive': 3488, 'executives': 3489, 'exemplified': 3490, 'exercised': 3491, 'exercises': 3492, 'exeter': 3493, 'exhausted': 3494, 'exhibit': 3495, 'exhibited': 3496, 'exhibition': 3497, 'exhibitions': 3498, 'exhibits': 3499, 'exile': 3500, 'exist': 3501, 'existed': 3502, 'existence': 3503, 'existing': 3504, 'exists': 3505, 'exit': 3506, 'exits': 3507, 'exotic': 3508, 'expect': 3509, 'expected': 3510, 'expecting': 3511, 'expedition': 3512, 'expeditionary': 3513, 'expeditions': 3514, 'experience': 3515, 'experienced': 3516, 'experiment': 3517, 'experimental': 3518, 'experiments': 3519, 'expert': 3520, 'expertise': 3521, 'experts': 3522, 'expired': 3523, 'explain': 3524, 'explaining': 3525, 'explains': 3526, 'explanation': 3527, 'explicit': 3528, 'exploitation': 3529, 'exploits': 3530, 'exploration': 3531, 'explored': 3532, 'explorers': 3533, 'explores': 3534, 'exploring': 3535, 'explosion': 3536, 'explosive': 3537, 'explosives': 3538, 'export': 3539, 'exported': 3540, 'expose': 3541, 'exposed': 3542, 'exposing': 3543, 'exposure': 3544, 'express': 3545, 'expressed': 3546, 'expresses': 3547, 'expressing': 3548, 'expression': 3549, 'expressions': 3550, 'extend': 3551, 'extended': 3552, 'extending': 3553, 'extends': 3554, 'extensive': 3555, 'extensively': 3556, 'extent': 3557, 'exterior': 3558, 'extinct': 3559, 'extinction': 3560, 'extract': 3561, 'extraordinary': 3562, 'extras': 3563, 'extraterrestrials': 3564, 'extravagant': 3565, 'extremely': 3566, 'eye': 3567, 'eyed': 3568, 'ezra': 3569, 'f': 3570, 'f.': 3571, 'f.c.': 3572, 'fa': 3573, 'facade': 3574, 'face': 3575, 'facial': 3576, 'facilitate': 3577, 'facilitated': 3578, 'facilities': 3579, 'facing': 3580, 'faction': 3581, 'factions': 3582, 'factors': 3583, 'faculty': 3584, 'fail': 3585, 'failed': 3586, 'failing': 3587, 'fails': 3588, 'faint': 3589, 'fairly': 3590, 'faith': 3591, 'falcon': 3592, 'fall': 3593, 'fallen': 3594, 'falls': 3595, 'false': 3596, 'falsetto': 3597, 'familiar': 3598, 'family': 3599, 'famine': 3600, 'fan': 3601, 'fancy': 3602, 'fanning': 3603, 'fanny': 3604, 'fantasy': 3605, 'fantuzzi': 3606, 'farber': 3607, 'fare': 3608, 'farley': 3609, 'farm': 3610, 'farmer': 3611, 'farmers': 3612, 'farming': 3613, 'farmington': 3614, 'farmland': 3615, 'farms': 3616, 'farther': 3617, 'fascinating': 3618, 'fascist': 3619, 'fashion': 3620, 'fashionable': 3621, 'fashioned': 3622, 'fassl': 3623, 'fast': 3624, 'faster': 3625, 'fastra': 3626, 'fat': 3627, 'fatal': 3628, 'fatalities': 3629, 'fate': 3630, 'father': 3631, 'fathers': 3632, 'fatigue': 3633, 'faults': 3634, 'fauna': 3635, 'favor': 3636, 'favored': 3637, 'favourable': 3638, 'favoured': 3639, 'favourite': 3640, 'façade': 3641, 'fc': 3642, 'fear': 3643, 'fears': 3644, 'feasible': 3645, 'feast': 3646, 'feat': 3647, 'feature': 3648, 'featuring': 3649, 'february': 3650, 'fed': 3651, 'federal': 3652, 'federer': 3653, 'fee': 3654, 'feed': 3655, 'feedback': 3656, 'feeling': 3657, 'feelings': 3658, 'feels': 3659, 'fees': 3660, 'feet': 3661, 'fei': 3662, 'feldman': 3663, 'felicia': 3664, 'female': 3665, 'females': 3666, 'feminist': 3667, 'fence': 3668, 'feral': 3669, 'ferb': 3670, 'ferdinand': 3671, 'fernandez': 3672, 'fernando': 3673, 'ferrari': 3674, 'fertility': 3675, 'festivals': 3676, 'feudal': 3677, 'few': 3678, 'fewer': 3679, 'fewest': 3680, 'fey': 3681, 'fez': 3682, 'ffordd': 3683, 'fia': 3684, 'fiction': 3685, 'fictional': 3686, 'fidelity': 3687, 'field': 3688, 'fielding': 3689, 'fields': 3690, 'fifa': 3691, 'fifteenth': 3692, 'fifth': 3693, 'fig': 3694, 'figg': 3695, 'fight': 3696, 'fighter': 3697, 'fighters': 3698, 'fights': 3699, 'figure': 3700, 'figures': 3701, 'fiji': 3702, 'filled': 3703, 'filling': 3704, 'film': 3705, 'filmed': 3706, 'filming': 3707, 'filmmakers': 3708, 'filter': 3709, 'fin': 3710, 'finale': 3711, 'finally': 3712, 'finals': 3713, 'finances': 3714, 'financial': 3715, 'financially': 3716, 'fincher': 3717, 'find': 3718, 'finding': 3719, 'findings': 3720, 'finds': 3721, 'fine': 3722, 'fingal': 3723, 'finish': 3724, 'finishing': 3725, 'finkelstein': 3726, 'finland': 3727, 'finley': 3728, 'finn': 3729, 'finnish': 3730, 'fir': 3731, 'fired': 3732, 'firepower': 3733, 'firing': 3734, 'firm': 3735, 'firmly': 3736, 'firms': 3737, 'firth': 3738, 'fisa': 3739, 'fischer': 3740, 'fisher': 3741, 'fisherman': 3742, 'fishing': 3743, 'fission': 3744, 'fit': 3745, 'fitting': 3746, 'fittings': 3747, 'fix': 3748, 'fixed': 3749, 'fixtures': 3750, 'flag': 3751, 'flagler': 3752, 'flags': 3753, 'flagship': 3754, 'flair': 3755, 'flame': 3756, 'flames': 3757, 'flanked': 3758, 'flanks': 3759, 'flash': 3760, 'flashback': 3761, 'flashes': 3762, 'flats': 3763, 'flattened': 3764, 'flawed': 3765, 'flaws': 3766, 'fledgling': 3767, 'flee': 3768, 'fleet': 3769, 'fleets': 3770, 'flemish': 3771, 'flesh': 3772, 'flew': 3773, 'flexible': 3774, 'flies': 3775, 'flight': 3776, 'flightless': 3777, 'flights': 3778, 'flint': 3779, 'floating': 3780, 'flocks': 3781, 'flooded': 3782, 'floods': 3783, 'floors': 3784, 'flora': 3785, 'florence': 3786, 'florida': 3787, 'flotilla': 3788, 'flow': 3789, 'flowers': 3790, 'flown': 3791, 'flows': 3792, 'fluorescence': 3793, 'fly': 3794, 'flying': 3795, 'fm': 3796, 'foca': 3797, 'focuses': 3798, 'focusing': 3799, 'fog': 3800, 'folded': 3801, 'folds': 3802, 'foliage': 3803, 'foliot': 3804, 'folk': 3805, 'follow': 3806, 'following': 3807, 'follows': 3808, 'fond': 3809, 'fonts': 3810, 'food': 3811, 'foods': 3812, 'footage': 3813, 'football': 3814, 'for': 3815, 'foraging': 3816, 'forbes': 3817, 'forbidden': 3818, 'forbs': 3819, 'force': 3820, 'forcing': 3821, 'ford': 3822, 'fore': 3823, 'forecast': 3824, 'forelimbs': 3825, 'foremost': 3826, 'forest': 3827, 'forestry': 3828, 'forests': 3829, 'forever': 3830, 'forge': 3831, 'forgiveness': 3832, 'forgotten': 3833, 'fork': 3834, 'form': 3835, 'formally': 3836, 'format': 3837, 'formation': 3838, 'formations': 3839, 'former': 3840, 'formidable': 3841, 'formula': 3842, 'forth': 3843, 'forthcoming': 3844, 'fortification': 3845, 'fortifications': 3846, 'fortified': 3847, 'fortress': 3848, 'forts': 3849, 'fortune': 3850, 'fortunes': 3851, 'forward': 3852, 'forwards': 3853, 'foster': 3854, 'foul': 3855, 'found': 3856, 'foundation': 3857, 'foundations': 3858, 'founded': 3859, 'founder': 3860, 'founders': 3861, 'founding': 3862, 'four': 3863, 'fourteenth': 3864, 'fourth': 3865, 'foxes': 3866, 'fraction': 3867, 'fragile': 3868, 'fragilis': 3869, 'fragments': 3870, 'frames': 3871, 'framework': 3872, 'franchise': 3873, 'francisco': 3874, 'frank': 3875, 'franklin': 3876, 'françois': 3877, 'fraser': 3878, 'freakum': 3879, 'fred': 3880, 'frederick': 3881, 'free': 3882, 'freed': 3883, 'freely': 3884, 'freeway': 3885, 'freeze': 3886, 'frelimo': 3887, 'frequency': 3888, 'frequently': 3889, 'frescoes': 3890, 'fresh': 3891, 'freshmen': 3892, 'fret': 3893, 'friction': 3894, 'friedrich': 3895, 'friend': 3896, 'friendship': 3897, 'frigate': 3898, 'frigates': 3899, 'fringe': 3900, 'frog': 3901, 'front': 3902, 'frontier': 3903, 'frost': 3904, 'frozen': 3905, 'fruitbodies': 3906, 'fruiting': 3907, 'fruition': 3908, 'fruits': 3909, 'frustrated': 3910, 'frustration': 3911, 'fuel': 3912, 'fulbe': 3913, 'fulfill': 3914, 'fulfilled': 3915, 'full': 3916, 'fumbled': 3917, 'fun': 3918, 'function': 3919, 'functional': 3920, 'functioning': 3921, 'functions': 3922, 'fund': 3923, 'funded': 3924, 'funds': 3925, 'funeral': 3926, 'funerary': 3927, 'fungi': 3928, 'funk': 3929, 'funniest': 3930, 'fur': 3931, 'furious': 3932, 'furniture': 3933, 'furs': 3934, 'further': 3935, 'furthermore': 3936, 'fuse': 3937, 'fused': 3938, 'fusiliers': 3939, 'fusion': 3940, 'félix': 3941, 'ga': 3942, 'gaba': 3943, 'gabbar': 3944, 'gabriel': 3945, 'gabrielle': 3946, 'gacko': 3947, 'gaelic': 3948, 'gag': 3949, 'gaga': 3950, 'gain': 3951, 'gaining': 3952, 'gait': 3953, 'gal': 3954, 'galaxy': 3955, 'gale': 3956, 'galentine': 3957, 'galleys': 3958, 'gallipoli': 3959, 'gallons': 3960, 'galveston': 3961, 'gama': 3962, 'gambia': 3963, 'gamespot': 3964, 'gamma': 3965, 'gandhi': 3966, 'gang': 3967, 'ganymede': 3968, 'gap': 3969, 'garage': 3970, 'garden': 3971, 'gardens': 3972, 'gardner': 3973, 'garner': 3974, 'garrison': 3975, 'garth': 3976, 'gary': 3977, 'gases': 3978, 'gate': 3979, 'gathered': 3980, 'gathering': 3981, 'gauge': 3982, 'gavin': 3983, 'gaza': 3984, 'gazette': 3985, 'gb': 3986, 'gear': 3987, 'geastrum': 3988, 'geffen': 3989, 'gems': 3990, 'gendarmerie': 3991, 'gender': 3992, 'genera': 3993, 'general': 3994, 'generals': 3995, 'generate': 3996, 'generated': 3997, 'generating': 3998, 'generations': 3999, 'generators': 4000, 'generous': 4001, 'genes': 4002, 'genesis': 4003, 'genius': 4004, 'genre': 4005, 'genres': 4006, 'gentle': 4007, 'genuine': 4008, 'genuinely': 4009, 'genus': 4010, 'geoff': 4011, 'geoffrey': 4012, 'geographic': 4013, 'geography': 4014, 'georg': 4015, 'george': 4016, 'georges': 4017, 'georgian': 4018, 'gerald': 4019, 'gerard': 4020, 'german': 4021, 'gets': 4022, 'giacomo': 4023, 'giant': 4024, 'gibbons': 4025, 'gibraltar': 4026, 'gielgud': 4027, 'giger': 4028, 'gil': 4029, 'gilda': 4030, 'gillian': 4031, 'gills': 4032, 'giovanni': 4033, 'girl': 4034, 'girlfriend': 4035, 'girls': 4036, 'given': 4037, 'gives': 4038, 'gladstone': 4039, 'gladys': 4040, 'glamorgan': 4041, 'glanville': 4042, 'glasgow': 4043, 'glastonbury': 4044, 'gleba': 4045, 'glee': 4046, 'glenn': 4047, 'gliders': 4048, 'gliding': 4049, 'global': 4050, 'globular': 4051, 'glorious': 4052, 'glory': 4053, 'gm': 4054, 'go': 4055, 'goalball': 4056, 'goalkeeper': 4057, 'goalscorer': 4058, 'goaltender': 4059, 'goat': 4060, 'goddess': 4061, 'goddesses': 4062, 'gods': 4063, 'goes': 4064, 'goffman': 4065, 'gofraid': 4066, 'goldberg': 4067, 'golden': 4068, 'goldman': 4069, 'golf': 4070, 'gon': 4071, 'gone': 4072, 'gonzalez': 4073, 'goods': 4074, 'google': 4075, 'goose': 4076, 'gordon': 4077, 'gorilla': 4078, 'gorillas': 4079, 'gospel': 4080, 'got': 4081, 'govern': 4082, 'governance': 4083, 'governed': 4084, 'governing': 4085, 'governmental': 4086, 'governors': 4087, 'grace': 4088, 'gracehope': 4089, 'gracie': 4090, 'grade': 4091, 'graded': 4092, 'grades': 4093, 'graduate': 4094, 'graduated': 4095, 'graduating': 4096, 'graduation': 4097, 'granada': 4098, 'grande': 4099, 'grandfather': 4100, 'granite': 4101, 'granted': 4102, 'granting': 4103, 'grants': 4104, 'graph': 4105, 'graphic': 4106, 'graphics': 4107, 'graphs': 4108, 'grass': 4109, 'grasses': 4110, 'gratitude': 4111, 'grave': 4112, 'gravel': 4113, 'graves': 4114, 'gravitational': 4115, 'gravity': 4116, 'grayish': 4117, 'great': 4118, 'greater': 4119, 'greatly': 4120, 'grecian': 4121, 'greco': 4122, 'greece': 4123, 'green': 4124, 'greenland': 4125, 'greens': 4126, 'greenwich': 4127, 'greeted': 4128, 'greg': 4129, 'gregorian': 4130, 'gregory': 4131, 'grey': 4132, 'grief': 4133, 'grip': 4134, 'grisham': 4135, 'groening': 4136, 'groove': 4137, 'grosmont': 4138, 'grossed': 4139, 'grossing': 4140, 'grossman': 4141, 'groups': 4142, 'grow': 4143, 'growing': 4144, 'grows': 4145, 'grunge': 4146, 'guangdong': 4147, 'guaranteed': 4148, 'guard': 4149, 'guardian': 4150, 'guards': 4151, 'guerrero': 4152, 'guerrilla': 4153, 'guerrillas': 4154, 'guests': 4155, 'guidance': 4156, 'guide': 4157, 'guided': 4158, 'guidelines': 4159, 'guides': 4160, 'guild': 4161, 'guildford': 4162, 'guilt': 4163, 'guilty': 4164, 'guinea': 4165, 'guinness': 4166, 'guitar': 4167, 'guitarist': 4168, 'gully': 4169, 'gum': 4170, 'gun': 4171, 'gunpowder': 4172, 'gustav': 4173, 'guthrie': 4174, 'guy': 4175, 'guybrush': 4176, 'guys': 4177, 'gwen': 4178, 'gwendolen': 4179, 'gyswllt': 4180, 'h': 4181, 'h.': 4182, 'ha': 4183, 'habit': 4184, 'habitats': 4185, 'habits': 4186, 'haddock': 4187, 'hadrosaurids': 4188, 'haifa': 4189, 'hailed': 4190, 'hair': 4191, 'hairan': 4192, 'hairstyle': 4193, 'haiti': 4194, 'haitian': 4195, 'haitians': 4196, 'hakim': 4197, 'hale': 4198, 'half': 4199, 'halftime': 4200, 'halfway': 4201, 'hall': 4202, 'halls': 4203, 'halo': 4204, 'halt': 4205, 'halted': 4206, 'ham': 4207, 'hamel': 4208, 'hamilton': 4209, 'hamlet': 4210, 'hammer': 4211, 'hammond': 4212, 'hampered': 4213, 'hampton': 4214, 'handed': 4215, 'handful': 4216, 'handle': 4217, 'handling': 4218, 'handsome': 4219, 'hang': 4220, 'hanging': 4221, 'hangzhou': 4222, 'hank': 4223, 'hannah': 4224, 'hanover': 4225, 'hansen': 4226, 'happen': 4227, 'happened': 4228, 'happening': 4229, 'happy': 4230, 'harajuku': 4231, 'harbor': 4232, 'harbour': 4233, 'hard': 4234, 'hardcore': 4235, 'hardly': 4236, 'hardware': 4237, 'hardy': 4238, 'harford': 4239, 'harm': 4240, 'harmonies': 4241, 'harmony': 4242, 'harper': 4243, 'harris': 4244, 'harrison': 4245, 'harsh': 4246, 'harsha': 4247, 'hart': 4248, 'hartford': 4249, 'hartley': 4250, 'hartman': 4251, 'harvard': 4252, 'harvest': 4253, 'hat': 4254, 'hatch': 4255, 'hate': 4256, 'hatred': 4257, 'hats': 4258, 'hauled': 4259, 'haunted': 4260, 'haven': 4261, 'having': 4262, 'hawaii': 4263, 'hawk': 4264, 'hay': 4265, 'hayes': 4266, 'hbo': 4267, 'hd': 4268, 'he': 4269, 'headdress': 4270, 'heading': 4271, 'headquartered': 4272, 'headquarters': 4273, 'headwaters': 4274, 'healthy': 4275, 'hear': 4276, 'heart': 4277, 'hearted': 4278, 'heated': 4279, 'heather': 4280, 'heating': 4281, 'heaven': 4282, 'heavier': 4283, 'heaviest': 4284, 'heavily': 4285, 'heavy': 4286, 'hebei': 4287, 'hebrew': 4288, 'heidfeld': 4289, 'height': 4290, 'heights': 4291, 'heine': 4292, 'heinrich': 4293, 'heinz': 4294, 'helen': 4295, 'helena': 4296, 'helicopter': 4297, 'helikopter': 4298, 'helium': 4299, 'heller': 4300, 'helm': 4301, 'helps': 4302, 'hemisphere': 4303, 'hemlock': 4304, 'hemmema': 4305, 'hemmemas': 4306, 'hen': 4307, 'hence': 4308, 'her': 4309, 'herbert': 4310, 'herbie': 4311, 'herd': 4312, 'herding': 4313, 'herds': 4314, 'hereditary': 4315, 'hereford': 4316, 'hergé': 4317, 'heritage': 4318, 'hermann': 4319, 'hernan': 4320, 'heroes': 4321, 'heroic': 4322, 'heroin': 4323, 'heroine': 4324, 'hersey': 4325, 'herzegovina': 4326, 'hetman': 4327, 'hewitt': 4328, 'hey': 4329, 'heylin': 4330, 'hi': 4331, 'hiatus': 4332, 'hibari': 4333, 'hibiscus': 4334, 'hidden': 4335, 'hides': 4336, 'hiding': 4337, 'higher': 4338, 'highest': 4339, 'highlanders': 4340, 'highlands': 4341, 'highlight': 4342, 'highlighted': 4343, 'highlighting': 4344, 'highlights': 4345, 'hightower': 4346, 'highway': 4347, 'highways': 4348, 'hilarious': 4349, 'hilda': 4350, 'hind': 4351, 'hindenburg': 4352, 'hindered': 4353, 'hindi': 4354, 'hinted': 4355, 'hip': 4356, 'hire': 4357, 'his': 4358, 'hispanic': 4359, 'historian': 4360, 'historic': 4361, 'historical': 4362, 'historically': 4363, 'history': 4364, 'hit': 4365, 'hitchcock': 4366, 'hitler': 4367, 'hitter': 4368, 'hitting': 4369, 'hiv': 4370, 'hms': 4371, 'hnc': 4372, 'hobbs': 4373, 'hockey': 4374, 'hokies': 4375, 'holden': 4376, 'holding': 4377, 'holdings': 4378, 'holiday': 4379, 'holidays': 4380, 'hollinwood': 4381, 'hollywood': 4382, 'holmes': 4383, 'holotype': 4384, 'holy': 4385, 'homage': 4386, 'home': 4387, 'homeland': 4388, 'homeless': 4389, 'homes': 4390, 'hometown': 4391, 'homosexual': 4392, 'homosexuality': 4393, 'homs': 4394, 'honduras': 4395, 'honest': 4396, 'hong': 4397, 'honolulu': 4398, 'honorary': 4399, 'honored': 4400, 'honour': 4401, 'hood': 4402, 'hook': 4403, 'hooked': 4404, 'hop': 4405, 'hope': 4406, 'hoped': 4407, 'hopes': 4408, 'hoping': 4409, 'horizons': 4410, 'horn': 4411, 'horns': 4412, 'hornung': 4413, 'horror': 4414, 'horse': 4415, 'horsepower': 4416, 'horses': 4417, 'horus': 4418, 'hospitaller': 4419, 'host': 4420, 'hostage': 4421, 'hosted': 4422, 'hostile': 4423, 'hostilities': 4424, 'hosting': 4425, 'hosts': 4426, 'hotels': 4427, 'houllier': 4428, 'house': 4429, 'housed': 4430, 'household': 4431, 'households': 4432, 'houses': 4433, 'housing': 4434, 'houston': 4435, 'how': 4436, 'howard': 4437, 'howe': 4438, 'hoysala': 4439, 'hoʻolulu': 4440, 'hpa': 4441, 'huai': 4442, 'hubbardton': 4443, 'hubert': 4444, 'huddersfield': 4445, 'hudson': 4446, 'huge': 4447, 'hugh': 4448, 'hughes': 4449, 'hugo': 4450, 'huguenots': 4451, 'huizong': 4452, 'hum': 4453, 'humanitarian': 4454, 'humanities': 4455, 'humidity': 4456, 'humor': 4457, 'humour': 4458, 'humphrey': 4459, 'humpty': 4460, 'hung': 4461, 'hungary': 4462, 'hunger': 4463, 'hungry': 4464, 'hunt': 4465, 'hunted': 4466, 'hurdles': 4467, 'hurricane': 4468, 'hurricanes': 4469, 'husband': 4470, 'husbandman': 4471, 'hybrid': 4472, 'hydnellum': 4473, 'hydrogen': 4474, 'hygrometricus': 4475, 'hymenium': 4476, 'hymns': 4477, 'hypacrosaurus': 4478, 'hyphae': 4479, 'hương': 4480, 'i.': 4481, 'iaaf': 4482, 'ian': 4483, 'ibari': 4484, 'iberian': 4485, 'ibm': 4486, 'ibn': 4487, 'ibotenic': 4488, 'ibrahim': 4489, 'iceland': 4490, 'ickes': 4491, 'icon': 4492, 'iconic': 4493, 'iconography': 4494, 'icy': 4495, 'idaho': 4496, 'idea': 4497, 'ideal': 4498, 'identified': 4499, 'identifies': 4500, 'identity': 4501, 'ideology': 4502, 'idol': 4503, 'idyllwild': 4504, 'ign': 4505, 'ignore': 4506, 'ignored': 4507, 'iguana': 4508, 'iguanodon': 4509, 'ii': 4510, 'iii': 4511, 'il': 4512, 'illinois': 4513, 'illinoise': 4514, 'illness': 4515, 'illuminated': 4516, 'illusion': 4517, 'illustrate': 4518, 'illustrated': 4519, 'illustrates': 4520, 'illustration': 4521, 'illustrations': 4522, 'image': 4523, 'imagery': 4524, 'imagine': 4525, 'imagined': 4526, 'imaging': 4527, 'imbudo': 4528, 'immature': 4529, 'immediate': 4530, 'immediately': 4531, 'immense': 4532, 'immigrants': 4533, 'imminent': 4534, 'immortal': 4535, 'immortals': 4536, 'immune': 4537, 'impact': 4538, 'impacts': 4539, 'impending': 4540, 'imperial': 4541, 'implementation': 4542, 'implemented': 4543, 'implied': 4544, 'implying': 4545, 'import': 4546, 'importance': 4547, 'important': 4548, 'imported': 4549, 'imposing': 4550, 'impossible': 4551, 'impressed': 4552, 'impressions': 4553, 'impressive': 4554, 'imprint': 4555, 'imprisoned': 4556, 'improve': 4557, 'improved': 4558, 'improvement': 4559, 'improvements': 4560, 'in': 4561, 'inaccessible': 4562, 'inactive': 4563, 'inadequate': 4564, 'inappropriate': 4565, 'inari': 4566, 'inaugural': 4567, 'inc': 4568, 'inc.': 4569, 'incapable': 4570, 'incense': 4571, 'inches': 4572, 'incidents': 4573, 'inclination': 4574, 'inclined': 4575, 'include': 4576, 'inclusion': 4577, 'income': 4578, 'incomplete': 4579, 'inconsistent': 4580, 'incorporated': 4581, 'incorporating': 4582, 'incorporation': 4583, 'incorrect': 4584, 'incorrectly': 4585, 'increase': 4586, 'increased': 4587, 'increases': 4588, 'increasing': 4589, 'incredible': 4590, 'incredibly': 4591, 'incubation': 4592, 'incumbent': 4593, 'incursion': 4594, 'indeed': 4595, 'indemnity': 4596, 'independence': 4597, 'independent': 4598, 'independently': 4599, 'india': 4600, 'indian': 4601, 'indiana': 4602, 'indians': 4603, 'indicate': 4604, 'indication': 4605, 'indie': 4606, 'indies': 4607, 'indigenous': 4608, 'indigo': 4609, 'indirect': 4610, 'indirectly': 4611, 'individually': 4612, 'individuals': 4613, 'indo': 4614, 'indonesia': 4615, 'indonesian': 4616, 'indoor': 4617, 'indoors': 4618, 'induced': 4619, 'induction': 4620, 'ineffective': 4621, 'inexperienced': 4622, 'inez': 4623, 'infantry': 4624, 'infection': 4625, 'infections': 4626, 'infested': 4627, 'inflict': 4628, 'inflicted': 4629, 'influences': 4630, 'influx': 4631, 'informal': 4632, 'informed': 4633, 'informer': 4634, 'informs': 4635, 'infrared': 4636, 'ing': 4637, 'ingestion': 4638, 'ingram': 4639, 'ingredients': 4640, 'ingres': 4641, 'ingrid': 4642, 'inhabit': 4643, 'inhabited': 4644, 'inhabits': 4645, 'inhalation': 4646, 'inherent': 4647, 'inheritance': 4648, 'inich': 4649, 'initial': 4650, 'initially': 4651, 'initiative': 4652, 'injured': 4653, 'inland': 4654, 'inlet': 4655, 'inn': 4656, 'inner': 4657, 'innings': 4658, 'innocence': 4659, 'innocent': 4660, 'innovation': 4661, 'innovations': 4662, 'innovative': 4663, 'inocybe': 4664, 'input': 4665, 'ins': 4666, 'insane': 4667, 'inscribed': 4668, 'inscription': 4669, 'inscriptions': 4670, 'insect': 4671, 'insert': 4672, 'inserted': 4673, 'inshore': 4674, 'insisted': 4675, 'inspiration': 4676, 'inspired': 4677, 'installation': 4678, 'installed': 4679, 'instances': 4680, 'instantly': 4681, 'institute': 4682, 'institution': 4683, 'institutions': 4684, 'instructed': 4685, 'instructions': 4686, 'instructor': 4687, 'instrument': 4688, 'instrumental': 4689, 'instrumentation': 4690, 'insufficient': 4691, 'insular': 4692, 'insurgency': 4693, 'insurgents': 4694, 'intact': 4695, 'intake': 4696, 'integral': 4697, 'integration': 4698, 'intellectual': 4699, 'intelligence': 4700, 'intend': 4701, 'intending': 4702, 'intends': 4703, 'intense': 4704, 'intensify': 4705, 'intensive': 4706, 'intent': 4707, 'intentionally': 4708, 'intentions': 4709, 'interact': 4710, 'interacted': 4711, 'interaction': 4712, 'interactions': 4713, 'interactive': 4714, 'intercepted': 4715, 'interceptions': 4716, 'interchanges': 4717, 'interest': 4718, 'interesting': 4719, 'interests': 4720, 'interface': 4721, 'interfere': 4722, 'interference': 4723, 'interim': 4724, 'intermediate': 4725, 'internal': 4726, 'internationally': 4727, 'internationals': 4728, 'interned': 4729, 'interpretation': 4730, 'interpretations': 4731, 'interpreted': 4732, 'intersects': 4733, 'interstate': 4734, 'intervals': 4735, 'interviewed': 4736, 'interviews': 4737, 'intimate': 4738, 'intro': 4739, 'introduce': 4740, 'introduced': 4741, 'introducing': 4742, 'introductory': 4743, 'invade': 4744, 'invaded': 4745, 'invalid': 4746, 'invasion': 4747, 'invented': 4748, 'inventory': 4749, 'inverness': 4750, 'investigate': 4751, 'investigated': 4752, 'investigating': 4753, 'investigations': 4754, 'investment': 4755, 'invitation': 4756, 'invoked': 4757, 'involved': 4758, 'involvement': 4759, 'involving': 4760, 'io': 4761, 'ioc': 4762, 'ion': 4763, 'ions': 4764, 'iowa': 4765, 'ipswich': 4766, 'ir': 4767, 'ira': 4768, 'iraqi': 4769, 'irish': 4770, 'ironclad': 4771, 'ironically': 4772, 'irony': 4773, 'iroquois': 4774, 'irregularly': 4775, 'irresistible': 4776, 'irrigation': 4777, 'is': 4778, 'isaac': 4779, 'isabel': 4780, 'isabella': 4781, 'isesi': 4782, 'ishmael': 4783, 'islais': 4784, 'islamic': 4785, 'isles': 4786, 'isn': 4787, 'isolation': 4788, 'isotope': 4789, 'israeli': 4790, 'issue': 4791, 'issues': 4792, 'issuing': 4793, 'it': 4794, 'italians': 4795, 'italy': 4796, 'item': 4797, 'items': 4798, 'its': 4799, 'itunes': 4800, 'itv': 4801, 'iucn': 4802, 'iv': 4803, 'ivan': 4804, 'ivory': 4805, 'ix': 4806, 'j.': 4807, 'jack': 4808, 'jacket': 4809, 'jackets': 4810, 'jackie': 4811, 'jackrabbits': 4812, 'jackson': 4813, 'jacob': 4814, 'jaguar': 4815, 'jai': 4816, 'jail': 4817, 'jains': 4818, 'jake': 4819, 'jallon': 4820, 'jam': 4821, 'jamaica': 4822, 'jamal': 4823, 'jane': 4824, 'janeiro': 4825, 'janelle': 4826, 'janet': 4827, 'japan': 4828, 'japanese': 4829, 'jar': 4830, 'jardine': 4831, 'jason': 4832, 'jasper': 4833, 'javelin': 4834, 'jaw': 4835, 'jazz': 4836, 'jealous': 4837, 'jean': 4838, 'jeff': 4839, 'jefferson': 4840, 'jeffrey': 4841, 'jenna': 4842, 'jennifer': 4843, 'jeremi': 4844, 'jeremy': 4845, 'jermaine': 4846, 'jerry': 4847, 'jersey': 4848, 'jerusalem': 4849, 'jerzy': 4850, 'jesse': 4851, 'jesuit': 4852, 'jesus': 4853, 'jet': 4854, 'jetport': 4855, 'jew': 4856, 'jewell': 4857, 'jewelry': 4858, 'jewels': 4859, 'jewish': 4860, 'jihad': 4861, 'jill': 4862, 'jim': 4863, 'jimmy': 4864, 'jitsu': 4865, 'jiu': 4866, 'joan': 4867, 'joanna': 4868, 'jobs': 4869, 'johann': 4870, 'johnson': 4871, 'johnston': 4872, 'join': 4873, 'joined': 4874, 'joint': 4875, 'joked': 4876, 'jokes': 4877, 'jon': 4878, 'jonathan': 4879, 'jones': 4880, 'jorge': 4881, 'josce': 4882, 'jose': 4883, 'joseph': 4884, 'josh': 4885, 'journal': 4886, 'journals': 4887, 'joy': 4888, 'joyce': 4889, 'joyful': 4890, 'jr': 4891, 'jr.': 4892, 'juan': 4893, 'judge': 4894, 'judged': 4895, 'judges': 4896, 'judicial': 4897, 'judith': 4898, 'juice': 4899, 'jules': 4900, 'julia': 4901, 'julio': 4902, 'julius': 4903, 'july': 4904, 'jump': 4905, 'jumped': 4906, 'jumping': 4907, 'junction': 4908, 'jungle': 4909, 'junior': 4910, 'juno': 4911, 'jurassic': 4912, 'jurchen': 4913, 'jurchens': 4914, 'jurisdiction': 4915, 'jury': 4916, 'justice': 4917, 'justify': 4918, 'justin': 4919, 'jutland': 4920, 'juvenile': 4921, 'juveniles': 4922, 'k.': 4923, 'ka': 4924, 'kahn': 4925, 'kaifeng': 4926, 'kaiser': 4927, 'kakapo': 4928, 'kalyanasundara': 4929, 'kamil': 4930, 'kanata': 4931, 'kang': 4932, 'kannada': 4933, 'kansas': 4934, 'kantara': 4935, 'karamokho': 4936, 'karl': 4937, 'kass': 4938, 'kate': 4939, 'katherine': 4940, 'katia': 4941, 'katie': 4942, 'kauai': 4943, 'kauffman': 4944, 'keamy': 4945, 'kedok': 4946, 'keen': 4947, 'keeper': 4948, 'keepers': 4949, 'keeping': 4950, 'kelley': 4951, 'kelly': 4952, 'kemal': 4953, 'ken': 4954, 'kennedy': 4955, 'kent': 4956, 'kentucky': 4957, 'kerry': 4958, 'ketawa': 4959, 'kettering': 4960, 'key': 4961, 'keyboards': 4962, 'keys': 4963, 'kg': 4964, 'khandoba': 4965, 'khmer': 4966, 'khoo': 4967, 'khánh': 4968, 'kicking': 4969, 'kickoff': 4970, 'kid': 4971, 'kids': 4972, 'kill': 4973, 'killed': 4974, 'killer': 4975, 'kills': 4976, 'kilmer': 4977, 'kilograms': 4978, 'kilometers': 4979, 'kim': 4980, 'kindergarten': 4981, 'kinds': 4982, 'kingdom': 4983, 'kingdoms': 4984, 'kings': 4985, 'kirk': 4986, 'kiryat': 4987, 'kiss': 4988, 'kit': 4989, 'kitchen': 4990, 'kitsune': 4991, 'kitty': 4992, 'kleine': 4993, 'klingons': 4994, 'km': 4995, 'km2': 4996, 'knee': 4997, 'knew': 4998, 'knife': 4999, 'knight': 5000, 'knights': 5001, 'knock': 5002, 'knocked': 5003, 'knocking': 5004, 'knot': 5005, 'knots': 5006, 'know': 5007, 'knowing': 5008, 'knowledge': 5009, 'knowles': 5010, 'knows': 5011, 'kombat': 5012, 'kong': 5013, 'korea': 5014, 'kovalainen': 5015, 'kpa': 5016, 'krak': 5017, 'kraków': 5018, 'kramer': 5019, 'krasinski': 5020, 'kreeft': 5021, 'kressenstein': 5022, 'krishna': 5023, 'kristiansand': 5024, 'krypton': 5025, 'kumar': 5026, 'kun': 5027, 'kung': 5028, 'kusanagi': 5029, 'kw': 5030, 'kyle': 5031, 'kyra': 5032, 'kōsaku': 5033, 'kỳ': 5034, 'l': 5035, 'l.': 5036, 'l.a.m.b.': 5037, 'la': 5038, 'lab': 5039, 'label': 5040, 'labeled': 5041, 'labor': 5042, 'laboratory': 5043, 'laborers': 5044, 'laborintus': 5045, 'labour': 5046, 'labyrinth': 5047, 'lack': 5048, 'lacking': 5049, 'lacks': 5050, 'lactarius': 5051, 'lacy': 5052, 'ladies': 5053, 'laevigatum': 5054, 'lakes': 5055, 'lamb': 5056, 'lambeosaurus': 5057, 'lambert': 5058, 'lambton': 5059, 'lamented': 5060, 'lamps': 5061, 'lance': 5062, 'landed': 5063, 'landing': 5064, 'landmarks': 5065, 'landscape': 5066, 'lane': 5067, 'lanes': 5068, 'languedoc': 5069, 'lanka': 5070, 'lanois': 5071, 'lao': 5072, 'lap': 5073, 'laps': 5074, 'largs': 5075, 'larssen': 5076, 'larvae': 5077, 'las': 5078, 'last': 5079, 'lasted': 5080, 'lasting': 5081, 'lasts': 5082, 'later': 5083, 'lateral': 5084, 'latest': 5085, 'latex': 5086, 'latitude': 5087, 'lauded': 5088, 'laughing': 5089, 'launch': 5090, 'launched': 5091, 'launches': 5092, 'launching': 5093, 'laurence': 5094, 'lavish': 5095, 'lawrence': 5096, 'laws': 5097, 'lawsuit': 5098, 'lawton': 5099, 'lawyer': 5100, 'lawyers': 5101, 'layer': 5102, 'layered': 5103, 'layers': 5104, 'laying': 5105, 'layne': 5106, 'lb': 5107, 'lbw': 5108, 'lbws': 5109, 'lead': 5110, 'leader': 5111, 'leaders': 5112, 'leadership': 5113, 'leading': 5114, 'leaf': 5115, 'league': 5116, 'leagues': 5117, 'leap': 5118, 'lear': 5119, 'learn': 5120, 'learned': 5121, 'learning': 5122, 'learns': 5123, 'lease': 5124, 'leather': 5125, 'leaves': 5126, 'lebanese': 5127, 'lebanon': 5128, 'lechuck': 5129, 'lecture': 5130, 'lectures': 5131, 'ledge': 5132, 'left': 5133, 'leg': 5134, 'legacy': 5135, 'legal': 5136, 'legally': 5137, 'legend': 5138, 'legion': 5139, 'legislation': 5140, 'legislative': 5141, 'legs': 5142, 'leigh': 5143, 'leinster': 5144, 'length': 5145, 'lengths': 5146, 'lennon': 5147, 'lens': 5148, 'lent': 5149, 'leo': 5150, 'leopard': 5151, 'lerner': 5152, 'leslie': 5153, 'less': 5154, 'lesser': 5155, 'lessing': 5156, 'lesson': 5157, 'lester': 5158, 'letting': 5159, 'leukemia': 5160, 'leukemic': 5161, 'level': 5162, 'leveled': 5163, 'levy': 5164, 'lexington': 5165, 'león': 5166, 'liam': 5167, 'liang': 5168, 'liberation': 5169, 'libraries': 5170, 'library': 5171, 'libretto': 5172, 'license': 5173, 'licensing': 5174, 'lie': 5175, 'lieutenant': 5176, 'lifelong': 5177, 'lifestyle': 5178, 'lifetime': 5179, 'lifted': 5180, 'light': 5181, 'lighter': 5182, 'lightly': 5183, 'lightning': 5184, 'like': 5185, 'liked': 5186, 'likely': 5187, 'likened': 5188, 'likes': 5189, 'likewise': 5190, 'limb': 5191, 'limbs': 5192, 'limitations': 5193, 'limiting': 5194, 'limits': 5195, 'lincoln': 5196, 'lincolnshire': 5197, 'lindsay': 5198, 'line': 5199, 'lineage': 5200, 'linear': 5201, 'lined': 5202, 'lineman': 5203, 'liner': 5204, 'lines': 5205, 'lineup': 5206, 'lining': 5207, 'link': 5208, 'linked': 5209, 'linking': 5210, 'links': 5211, 'lionel': 5212, 'lions': 5213, 'liquid': 5214, 'lisa': 5215, 'lisbon': 5216, 'list': 5217, 'listed': 5218, 'listened': 5219, 'listener': 5220, 'listening': 5221, 'listing': 5222, 'liszt': 5223, 'lit': 5224, 'literal': 5225, 'literally': 5226, 'literary': 5227, 'literature': 5228, 'lithuanian': 5229, 'litter': 5230, 'liu': 5231, 'live': 5232, 'liver': 5233, 'livestock': 5234, 'liz': 5235, 'llanilltern': 5236, 'llosa': 5237, 'lloyd': 5238, 'ln': 5239, 'load': 5240, 'loaded': 5241, 'loan': 5242, 'loaned': 5243, 'lobster': 5244, 'local': 5245, 'localities': 5246, 'localization': 5247, 'localized': 5248, 'locally': 5249, 'locals': 5250, 'located': 5251, 'locations': 5252, 'loch': 5253, 'lock': 5254, 'locke': 5255, 'locked': 5256, 'locks': 5257, 'lofty': 5258, 'logic': 5259, 'logical': 5260, 'logistical': 5261, 'logs': 5262, 'lois': 5263, 'lone': 5264, 'lonely': 5265, 'longer': 5266, 'looked': 5267, 'looks': 5268, 'loop': 5269, 'loops': 5270, 'loose': 5271, 'loosely': 5272, 'looting': 5273, 'lopez': 5274, 'lord': 5275, 'lordship': 5276, 'lorenzo': 5277, 'los': 5278, 'lose': 5279, 'losing': 5280, 'loss': 5281, 'losses': 5282, 'lost': 5283, 'lot': 5284, 'lots': 5285, 'lotus': 5286, 'loud': 5287, 'louis': 5288, 'louisiana': 5289, 'lounge': 5290, 'loved': 5291, 'loverboy': 5292, 'lovers': 5293, 'loves': 5294, 'loving': 5295, 'low': 5296, 'lowe': 5297, 'lower': 5298, 'lowland': 5299, 'loyalty': 5300, 'lp': 5301, 'lsu': 5302, 'lt': 5303, 'ltd': 5304, 'lu': 5305, 'lucasarts': 5306, 'lucasfilm': 5307, 'luck': 5308, 'lucky': 5309, 'lucrative': 5310, 'ludlow': 5311, 'luis': 5312, 'luke': 5313, 'lumber': 5314, 'luminosity': 5315, 'luminous': 5316, 'lunar': 5317, 'lunch': 5318, 'lungs': 5319, 'luther': 5320, 'lycoming': 5321, 'lying': 5322, 'lynch': 5323, 'lyric': 5324, 'lyrical': 5325, 'lyrically': 5326, 'm': 5327, 'm.': 5328, 'm2': 5329, 'm3': 5330, 'm4': 5331, 'maat': 5332, 'mac': 5333, 'macarthur': 5334, 'machinery': 5335, 'mack': 5336, 'maclagen': 5337, 'macv': 5338, 'mad': 5339, 'madagascar': 5340, 'madero': 5341, 'madhvacharya': 5342, 'madonna': 5343, 'madres': 5344, 'madrid': 5345, 'magadheera': 5346, 'magazines': 5347, 'magdalen': 5348, 'magdalene': 5349, 'maggie': 5350, 'magic': 5351, 'magical': 5352, 'magician': 5353, 'magnetic': 5354, 'magnificent': 5355, 'magnitude': 5356, 'magnolia': 5357, 'mahesh': 5358, 'mahāvīra': 5359, 'maids': 5360, 'mail': 5361, 'main': 5362, 'mainland': 5363, 'mainly': 5364, 'mainstream': 5365, 'maintained': 5366, 'maintaining': 5367, 'maintains': 5368, 'majesty': 5369, 'majors': 5370, 'maker': 5371, 'makers': 5372, 'makes': 5373, 'makeup': 5374, 'malaya': 5375, 'malcolm': 5376, 'males': 5377, 'mall': 5378, 'malley': 5379, 'malone': 5380, 'mammal': 5381, 'mammalian': 5382, 'mammals': 5383, 'man': 5384, 'mana': 5385, 'managed': 5386, 'manager': 5387, 'managers': 5388, 'manages': 5389, 'managing': 5390, 'mandate': 5391, 'mandated': 5392, 'mandatory': 5393, 'manders': 5394, 'maneater': 5395, 'maneuvers': 5396, 'manhattan': 5397, 'manheim': 5398, 'manila': 5399, 'manipulating': 5400, 'manipulation': 5401, 'manitoba': 5402, 'manned': 5403, 'manner': 5404, 'manning': 5405, 'manor': 5406, 'manpower': 5407, 'mansfield': 5408, 'mantellisaurus': 5409, 'manual': 5410, 'manuel': 5411, 'manufacture': 5412, 'manufacturer': 5413, 'manufacturers': 5414, 'manuscript': 5415, 'manuscripts': 5416, 'many': 5417, 'mara': 5418, 'marble': 5419, 'marc': 5420, 'marched': 5421, 'marching': 5422, 'marco': 5423, 'marcus': 5424, 'margaret': 5425, 'marge': 5426, 'margin': 5427, 'margins': 5428, 'maria': 5429, 'marie': 5430, 'marilyn': 5431, 'marina': 5432, 'marines': 5433, 'mario': 5434, 'maritime': 5435, 'marked': 5436, 'markers': 5437, 'market': 5438, 'marketed': 5439, 'markets': 5440, 'markgraf': 5441, 'marking': 5442, 'markings': 5443, 'marlborough': 5444, 'marlene': 5445, 'marquis': 5446, 'marriages': 5447, 'marrow': 5448, 'marry': 5449, 'marrying': 5450, 'mars': 5451, 'marseille': 5452, 'marsh': 5453, 'marshal': 5454, 'martel': 5455, 'marty': 5456, 'marvel': 5457, 'mary': 5458, 'maryland': 5459, 'maría': 5460, 'masculine': 5461, 'mask': 5462, 'masked': 5463, 'mason': 5464, 'masonry': 5465, 'mass': 5466, 'massa': 5467, 'massachusetts': 5468, 'massacre': 5469, 'massive': 5470, 'mast': 5471, 'master': 5472, 'masters': 5473, 'matagorda': 5474, 'match': 5475, 'matches': 5476, 'matching': 5477, 'mate': 5478, 'materials': 5479, 'maternal': 5480, 'mates': 5481, 'mathematics': 5482, 'matilda': 5483, 'mating': 5484, 'matrix': 5485, 'matter': 5486, 'matthew': 5487, 'maturity': 5488, 'maui': 5489, 'maurice': 5490, 'max': 5491, 'maxwell': 5492, 'may': 5493, 'maya': 5494, 'maybe': 5495, 'mayer': 5496, 'mayo': 5497, 'maze': 5498, 'mbar': 5499, 'mcc': 5500, 'mccall': 5501, 'mccarthy': 5502, 'mccay': 5503, 'mccoy': 5504, 'mcdonald': 5505, 'mcdougal': 5506, 'mcelroy': 5507, 'mckay': 5508, 'mclaren': 5509, 'mcluhan': 5510, 'mcmahon': 5511, 'mcmanaman': 5512, 'mcmaster': 5513, 'mdot': 5514, 'me': 5515, 'mead': 5516, 'meal': 5517, 'mean': 5518, 'meaning': 5519, 'meanwhile': 5520, 'measured': 5521, 'measurement': 5522, 'measuring': 5523, 'meat': 5524, 'mecca': 5525, 'mechanical': 5526, 'mechanics': 5527, 'mechanisms': 5528, 'medal': 5529, 'medals': 5530, 'media': 5531, 'median': 5532, 'mediate': 5533, 'medicine': 5534, 'medieval': 5535, 'mediocre': 5536, 'medium': 5537, 'medley': 5538, 'meet': 5539, 'meetings': 5540, 'meets': 5541, 'mega': 5542, 'megaliths': 5543, 'megan': 5544, 'mekong': 5545, 'melodies': 5546, 'melody': 5547, 'melt': 5548, 'membrane': 5549, 'memoir': 5550, 'memoirs': 5551, 'memorable': 5552, 'memorial': 5553, 'memorials': 5554, 'memories': 5555, 'memory': 5556, 'men': 5557, 'mental': 5558, 'mentally': 5559, 'mentioning': 5560, 'mentmore': 5561, 'menu': 5562, 'mer': 5563, 'mercer': 5564, 'merchant': 5565, 'merchants': 5566, 'mercury': 5567, 'mercy': 5568, 'mere': 5569, 'merely': 5570, 'merge': 5571, 'merged': 5572, 'merger': 5573, 'merging': 5574, 'merrifield': 5575, 'mess': 5576, 'message': 5577, 'messages': 5578, 'messenger': 5579, 'met': 5580, 'metal': 5581, 'metallic': 5582, 'metallica': 5583, 'metals': 5584, 'meter': 5585, 'meters': 5586, 'method': 5587, 'methodist': 5588, 'methods': 5589, 'metre': 5590, 'metres': 5591, 'metric': 5592, 'metro': 5593, 'metropolis': 5594, 'mets': 5595, 'mev': 5596, 'mexican': 5597, 'meyer': 5598, 'meyerbeer': 5599, 'mfume': 5600, 'mgb': 5601, 'mi': 5602, 'miami': 5603, 'michaels': 5604, 'michel': 5605, 'michelin': 5606, 'michelle': 5607, 'michigan': 5608, 'microscopic': 5609, 'microscopy': 5610, 'microsoft': 5611, 'midday': 5612, 'middle': 5613, 'middlesex': 5614, 'midfielder': 5615, 'midge': 5616, 'midland': 5617, 'midnight': 5618, 'midst': 5619, 'migrants': 5620, 'migrated': 5621, 'milan': 5622, 'mile': 5623, 'miles': 5624, 'military': 5625, 'militia': 5626, 'milk': 5627, 'milky': 5628, 'mill': 5629, 'millennium': 5630, 'mills': 5631, 'milton': 5632, 'mind': 5633, 'minded': 5634, 'mine': 5635, 'mined': 5636, 'miner': 5637, 'mineral': 5638, 'minh': 5639, 'mini': 5640, 'minimal': 5641, 'minimum': 5642, 'mining': 5643, 'ministers': 5644, 'ministry': 5645, 'minneapolis': 5646, 'minnesota': 5647, 'minorities': 5648, 'minority': 5649, 'minsky': 5650, 'mint': 5651, 'minus': 5652, 'minute': 5653, 'miracle': 5654, 'misses': 5655, 'missiles': 5656, 'missing': 5657, 'missionaries': 5658, 'missionary': 5659, 'mississippi': 5660, 'missouri': 5661, 'mistake': 5662, 'mistakenly': 5663, 'mistakes': 5664, 'misunderstood': 5665, 'mitchell': 5666, 'mitochondrial': 5667, 'mitsuda': 5668, 'mix': 5669, 'mixing': 5670, 'mixture': 5671, 'mk': 5672, 'mls': 5673, 'mob': 5674, 'mobile': 5675, 'mobility': 5676, 'mock': 5677, 'modeled': 5678, 'modeling': 5679, 'modelled': 5680, 'models': 5681, 'modes': 5682, 'modest': 5683, 'modification': 5684, 'modifications': 5685, 'modified': 5686, 'moe': 5687, 'moffat': 5688, 'moist': 5689, 'moisture': 5690, 'mole': 5691, 'molecular': 5692, 'molecule': 5693, 'molecules': 5694, 'moment': 5695, 'momentum': 5696, 'monaghan': 5697, 'monarchy': 5698, 'monastic': 5699, 'mondlane': 5700, 'mongolia': 5701, 'mongols': 5702, 'monica': 5703, 'monitor': 5704, 'monk': 5705, 'monkey': 5706, 'monkeys': 5707, 'monks': 5708, 'monogamous': 5709, 'monopoly': 5710, 'monroe': 5711, 'monster': 5712, 'monsters': 5713, 'montagne': 5714, 'montagu': 5715, 'monte': 5716, 'montenegro': 5717, 'montgomery': 5718, 'month': 5719, 'monthly': 5720, 'montreal': 5721, 'monument': 5722, 'monumental': 5723, 'mood': 5724, 'moody': 5725, 'moon': 5726, 'moons': 5727, 'moor': 5728, 'moore': 5729, 'moored': 5730, 'moors': 5731, 'moral': 5732, 'morale': 5733, 'morality': 5734, 'moravia': 5735, 'more': 5736, 'morels': 5737, 'moreover': 5738, 'morgan': 5739, 'morhange': 5740, 'moritz': 5741, 'moro': 5742, 'morris': 5743, 'mortal': 5744, 'mortality': 5745, 'mortars': 5746, 'mortimer': 5747, 'mosaic': 5748, 'moscow': 5749, 'mosley': 5750, 'mosque': 5751, 'most': 5752, 'moth': 5753, 'mothers': 5754, 'motherwell': 5755, 'motif': 5756, 'motifs': 5757, 'motion': 5758, 'motions': 5759, 'motivated': 5760, 'motivation': 5761, 'motor': 5762, 'motorists': 5763, 'motown': 5764, 'mottola': 5765, 'mound': 5766, 'mount': 5767, 'mountain': 5768, 'mountainous': 5769, 'mountains': 5770, 'mounting': 5771, 'mounts': 5772, 'mourning': 5773, 'moved': 5774, 'movement': 5775, 'movements': 5776, 'movie': 5777, 'movies': 5778, 'mozambican': 5779, 'mozambique': 5780, 'mp': 5781, 'mph': 5782, 'mr': 5783, 'mr.': 5784, 'mrna': 5785, 'mrs': 5786, 'mrs.': 5787, 'mtv': 5788, 'much': 5789, 'mud': 5790, 'muhammad': 5791, 'muldaur': 5792, 'mulder': 5793, 'mullen': 5794, 'multi': 5795, 'multiplayer': 5796, 'mumbai': 5797, 'mumia': 5798, 'munich': 5799, 'municipal': 5800, 'murdered': 5801, 'murderer': 5802, 'murphy': 5803, 'murray': 5804, 'muscaria': 5805, 'muscimol': 5806, 'muscle': 5807, 'museums': 5808, 'mushroom': 5809, 'mushrooms': 5810, 'musical': 5811, 'musically': 5812, 'musician': 5813, 'musicians': 5814, 'muslim': 5815, 'muslims': 5816, 'muster': 5817, 'mutinus': 5818, 'mutual': 5819, 'mutually': 5820, 'muzzle': 5821, 'mvp': 5822, 'my': 5823, 'mycologist': 5824, 'myers': 5825, 'myles': 5826, 'mysterious': 5827, 'myth': 5828, 'mythology': 5829, 'myths': 5830, 'márquez': 5831, 'métis': 5832, 'māori': 5833, 'n': 5834, 'nadal': 5835, 'nailz': 5836, 'naked': 5837, 'name': 5838, 'named': 5839, 'nameless': 5840, 'naming': 5841, 'nantucket': 5842, 'napa': 5843, 'narrated': 5844, 'narrative': 5845, 'narrow': 5846, 'narrower': 5847, 'narrowly': 5848, 'narvesen': 5849, 'nasals': 5850, 'nash': 5851, 'nashville': 5852, 'nasty': 5853, 'nathan': 5854, 'nation': 5855, 'national': 5856, 'nationalism': 5857, 'nationalists': 5858, 'nationally': 5859, 'native': 5860, 'natives': 5861, 'nato': 5862, 'naturally': 5863, 'nautical': 5864, 'naval': 5865, 'navarro': 5866, 'navies': 5867, 'navy': 5868, 'nazaire': 5869, 'nazi': 5870, 'nazis': 5871, 'nba': 5872, 'nbc': 5873, 'ndh': 5874, 'ne': 5875, 'nearby': 5876, 'neared': 5877, 'nearest': 5878, 'nebraska': 5879, 'nebula': 5880, 'necessarily': 5881, 'necessary': 5882, 'necessitated': 5883, 'necessity': 5884, 'necklace': 5885, 'nectar': 5886, 'ned': 5887, 'needing': 5888, 'needs': 5889, 'negative': 5890, 'negatively': 5891, 'negotiate': 5892, 'negotiated': 5893, 'negotiations': 5894, 'negras': 5895, 'neighbor': 5896, 'neighboring': 5897, 'neighbors': 5898, 'neighbouring': 5899, 'neighbours': 5900, 'neither': 5901, 'nelson': 5902, 'neo': 5903, 'neolithic': 5904, 'neon': 5905, 'neoscapteriscus': 5906, 'nephew': 5907, 'nervous': 5908, 'nesbitt': 5909, 'ness': 5910, 'nest': 5911, 'nesting': 5912, 'nestlings': 5913, 'nests': 5914, 'netherlands': 5915, 'nettles': 5916, 'networks': 5917, 'neutrino': 5918, 'neutrinos': 5919, 'neutron': 5920, 'nevada': 5921, 'never': 5922, 'new': 5923, 'newark': 5924, 'newborn': 5925, 'newcastle': 5926, 'newell': 5927, 'newer': 5928, 'newfoundland': 5929, 'newmarket': 5930, 'newport': 5931, 'newspaper': 5932, 'newspapers': 5933, 'next': 5934, 'nf6': 5935, 'nhc': 5936, 'nhl': 5937, 'nicaragua': 5938, 'nice': 5939, 'niche': 5940, 'nicholas': 5941, 'nicholson': 5942, 'nick': 5943, 'nickel': 5944, 'nicknamed': 5945, 'niece': 5946, 'nielsen': 5947, 'nightclub': 5948, 'nightfall': 5949, 'nightmare': 5950, 'nike': 5951, 'nile': 5952, 'nina': 5953, 'nine': 5954, 'nineteenth': 5955, 'nintendo': 5956, 'ninth': 5957, 'nirvana': 5958, 'nitrogen': 5959, 'nixon': 5960, 'nl': 5961, 'nlf': 5962, 'nme': 5963, 'no': 5964, 'nobel': 5965, 'nobility': 5966, 'noble': 5967, 'nobody': 5968, 'nocturnal': 5969, 'noel': 5970, 'noise': 5971, 'noitulove': 5972, 'nok': 5973, 'nol': 5974, 'nomadic': 5975, 'nomen': 5976, 'nominate': 5977, 'nominations': 5978, 'nomura': 5979, 'none': 5980, 'nonsense': 5981, 'noon': 5982, 'norbert': 5983, 'norfolk': 5984, 'normal': 5985, 'normally': 5986, 'norman': 5987, 'norse': 5988, 'north': 5989, 'northeastern': 5990, 'northumbria': 5991, 'northwest': 5992, 'northwestern': 5993, 'northwestward': 5994, 'norton': 5995, 'norwegian': 5996, 'nos': 5997, 'nose': 5998, 'nostrovite': 5999, 'not': 6000, 'notable': 6001, 'notably': 6002, 'notes': 6003, 'nothing': 6004, 'notice': 6005, 'noticeable': 6006, 'noticed': 6007, 'notices': 6008, 'noting': 6009, 'notion': 6010, 'notoriously': 6011, 'nottinghamshire': 6012, 'notts': 6013, 'nova': 6014, 'novak': 6015, 'novelist': 6016, 'novels': 6017, 'now': 6018, 'npr': 6019, 'nr': 6020, 'nsb': 6021, 'nuclear': 6022, 'nuclei': 6023, 'nucleolus': 6024, 'nucleus': 6025, 'nude': 6026, 'nueces': 6027, 'numbered': 6028, 'numbers': 6029, 'numerous': 6030, 'nurse': 6031, 'nursery': 6032, 'nuskhuri': 6033, 'nutrients': 6034, 'ny': 6035, 'nymphs': 6036, 'née': 6037, 'o.': 6038, 'o2': 6039, 'oahu': 6040, 'oak': 6041, 'oaks': 6042, 'obama': 6043, 'obey': 6044, 'object': 6045, 'objections': 6046, 'objects': 6047, 'obligation': 6048, 'obscure': 6049, 'observation': 6050, 'observations': 6051, 'observe': 6052, 'observer': 6053, 'observers': 6054, 'observes': 6055, 'obsession': 6056, 'obstacle': 6057, 'obstacles': 6058, 'obvious': 6059, 'obviously': 6060, 'occasion': 6061, 'occasional': 6062, 'occasionally': 6063, 'occasions': 6064, 'occupation': 6065, 'occupied': 6066, 'occupies': 6067, 'occupy': 6068, 'occupying': 6069, 'occur': 6070, 'occurred': 6071, 'occurrence': 6072, 'occurring': 6073, 'octavia': 6074, 'odaenathus': 6075, 'odd': 6076, 'odds': 6077, 'odes': 6078, 'odor': 6079, 'odyssey': 6080, 'off': 6081, 'offense': 6082, 'offered': 6083, 'offering': 6084, 'offerings': 6085, 'offers': 6086, 'office': 6087, 'officers': 6088, 'offices': 6089, 'officially': 6090, 'officials': 6091, 'offseason': 6092, 'offshore': 6093, 'offspring': 6094, 'oghratina': 6095, 'oh': 6096, 'ohio': 6097, 'okeechobee': 6098, 'okinawa': 6099, 'oklahoma': 6100, 'olaf': 6101, 'old': 6102, 'older': 6103, 'olds': 6104, 'olive': 6105, 'olivia': 6106, 'olivier': 6107, 'olympic': 6108, 'olympics': 6109, 'omar': 6110, 'omitted': 6111, 'on': 6112, 'ones': 6113, 'online': 6114, 'ono': 6115, 'ontario': 6116, 'onward': 6117, 'onwards': 6118, 'op': 6119, 'open': 6120, 'opener': 6121, 'opening': 6122, 'openings': 6123, 'openly': 6124, 'opens': 6125, 'opera': 6126, 'operas': 6127, 'operated': 6128, 'operatic': 6129, 'operating': 6130, 'operational': 6131, 'operations': 6132, 'operative': 6133, 'operator': 6134, 'operators': 6135, 'opined': 6136, 'opinion': 6137, 'opinions': 6138, 'opponent': 6139, 'opponents': 6140, 'oppose': 6141, 'opposed': 6142, 'opposing': 6143, 'opposite': 6144, 'opposition': 6145, 'opted': 6146, 'optical': 6147, 'optimistic': 6148, 'option': 6149, 'optional': 6150, 'opus': 6151, 'opéra': 6152, 'oral': 6153, 'orange': 6154, 'orbit': 6155, 'orbital': 6156, 'orders': 6157, 'ordinance': 6158, 'ordination': 6159, 'ordnance': 6160, 'ore': 6161, 'oregon': 6162, 'organic': 6163, 'organisms': 6164, 'organization': 6165, 'organizations': 6166, 'organs': 6167, 'oribi': 6168, 'oriental': 6169, 'oriented': 6170, 'origin': 6171, 'original': 6172, 'originally': 6173, 'originals': 6174, 'originated': 6175, 'origins': 6176, 'orlando': 6177, 'orleans': 6178, 'orozco': 6179, 'orsogna': 6180, 'orthodox': 6181, 'osaka': 6182, 'oshii': 6183, 'osiris': 6184, 'oslo': 6185, 'ostend': 6186, 'oswald': 6187, 'other': 6188, 'others': 6189, 'otto': 6190, 'ottomans': 6191, 'outages': 6192, 'outbreak': 6193, 'outdoor': 6194, 'outer': 6195, 'outfit': 6196, 'outfits': 6197, 'outflow': 6198, 'outlaw': 6199, 'outlet': 6200, 'outlets': 6201, 'outlined': 6202, 'outlook': 6203, 'outnumbered': 6204, 'outrage': 6205, 'outright': 6206, 'outstanding': 6207, 'outworld': 6208, 'oval': 6209, 'ovation': 6210, 'over': 6211, 'overcome': 6212, 'overhead': 6213, 'overlap': 6214, 'overlapping': 6215, 'overlooked': 6216, 'overlooking': 6217, 'overly': 6218, 'overnight': 6219, 'overs': 6220, 'oversaw': 6221, 'overseas': 6222, 'overt': 6223, 'overturned': 6224, 'overwhelmed': 6225, 'owasco': 6226, 'owing': 6227, 'owl': 6228, 'owls': 6229, 'owner': 6230, 'owners': 6231, 'ownership': 6232, 'oxford': 6233, 'oxidation': 6234, 'oxide': 6235, 'p': 6236, 'p.': 6237, 'p.m.': 6238, 'pa': 6239, 'pacific': 6240, 'pack': 6241, 'packaged': 6242, 'packed': 6243, 'packs': 6244, 'pad': 6245, 'pads': 6246, 'pagan': 6247, 'pagasa': 6248, 'page': 6249, 'pageant': 6250, 'paid': 6251, 'painter': 6252, 'painters': 6253, 'paintings': 6254, 'pair': 6255, 'pairs': 6256, 'palace': 6257, 'palacios': 6258, 'palenque': 6259, 'palestine': 6260, 'palestinian': 6261, 'palestro': 6262, 'palin': 6263, 'palm': 6264, 'palmer': 6265, 'palmyra': 6266, 'palmyrene': 6267, 'pam': 6268, 'pamela': 6269, 'pan': 6270, 'panama': 6271, 'pandu': 6272, 'panel': 6273, 'panels': 6274, 'panic': 6275, 'panned': 6276, 'pantheon': 6277, 'panzer': 6278, 'panzergrenadier': 6279, 'papal': 6280, 'paper': 6281, 'paperback': 6282, 'papers': 6283, 'par': 6284, 'parade': 6285, 'parallax': 6286, 'parallels': 6287, 'paralympic': 6288, 'paranthodon': 6289, 'parasaurolophus': 6290, 'parasite': 6291, 'parasites': 6292, 'paratroopers': 6293, 'parcel': 6294, 'parent': 6295, 'parents': 6296, 'paris': 6297, 'parking': 6298, 'parkway': 6299, 'parliament': 6300, 'parliamentary': 6301, 'parodies': 6302, 'parody': 6303, 'parole': 6304, 'parrot': 6305, 'part': 6306, 'partial': 6307, 'partially': 6308, 'participants': 6309, 'participate': 6310, 'participating': 6311, 'participation': 6312, 'particles': 6313, 'particular': 6314, 'particularly': 6315, 'parties': 6316, 'partington': 6317, 'partner': 6318, 'partners': 6319, 'partnership': 6320, 'parvati': 6321, 'pasha': 6322, 'passage': 6323, 'passages': 6324, 'passenger': 6325, 'paste': 6326, 'pastor': 6327, 'pat': 6328, 'patch': 6329, 'patent': 6330, 'path': 6331, 'paths': 6332, 'patient': 6333, 'patients': 6334, 'patricia': 6335, 'patrick': 6336, 'patriotic': 6337, 'patrol': 6338, 'patrolling': 6339, 'patrols': 6340, 'patron': 6341, 'patrons': 6342, 'pattern': 6343, 'patterns': 6344, 'patterson': 6345, 'patton': 6346, 'pattycake': 6347, 'pau': 6348, 'paved': 6349, 'pavn': 6350, 'paying': 6351, 'payment': 6352, 'payments': 6353, 'payne': 6354, 'pays': 6355, 'pc': 6356, 'pdr': 6357, 'peaceful': 6358, 'peach': 6359, 'peaked': 6360, 'peaking': 6361, 'peaks': 6362, 'pearl': 6363, 'peat': 6364, 'peck': 6365, 'pectoral': 6366, 'peculiar': 6367, 'pedal': 6368, 'peers': 6369, 'peggy': 6370, 'pen': 6371, 'penalties': 6372, 'penalty': 6373, 'pencerah': 6374, 'pendragon': 6375, 'penelope': 6376, 'penetrate': 6377, 'penetrating': 6378, 'penguins': 6379, 'penn': 6380, 'penultimate': 6381, 'people': 6382, 'peoples': 6383, 'perceive': 6384, 'perceived': 6385, 'perception': 6386, 'percussion': 6387, 'percy': 6388, 'perfect': 6389, 'perform': 6390, 'performance': 6391, 'performed': 6392, 'performer': 6393, 'performers': 6394, 'performing': 6395, 'performs': 6396, 'perhaps': 6397, 'period': 6398, 'periods': 6399, 'permanent': 6400, 'permanently': 6401, 'permission': 6402, 'permit': 6403, 'permits': 6404, 'permitted': 6405, 'perry': 6406, 'persisted': 6407, 'persona': 6408, 'personalities': 6409, 'personality': 6410, 'personally': 6411, 'perspective': 6412, 'perspectives': 6413, 'persuade': 6414, 'persuaded': 6415, 'perth': 6416, 'peshkin': 6417, 'pests': 6418, 'pet': 6419, 'pete': 6420, 'peterborough': 6421, 'petersburg': 6422, 'petit': 6423, 'petition': 6424, 'petitioned': 6425, 'petra': 6426, 'petty': 6427, 'pews': 6428, 'pfa': 6429, 'pflueger': 6430, 'phase': 6431, 'phases': 6432, 'phenomena': 6433, 'phenomenon': 6434, 'phil': 6435, 'philadelphia': 6436, 'philip': 6437, 'philippine': 6438, 'philippines': 6439, 'phillies': 6440, 'phillips': 6441, 'philosopher': 6442, 'philosophers': 6443, 'philosophical': 6444, 'philosophy': 6445, 'phineas': 6446, 'phoebe': 6447, 'phoenician': 6448, 'phoenix': 6449, 'phonographic': 6450, 'photo': 6451, 'photographs': 6452, 'photography': 6453, 'phrase': 6454, 'phrases': 6455, 'phylogenetic': 6456, 'physical': 6457, 'physically': 6458, 'physicist': 6459, 'pianist': 6460, 'piano': 6461, 'piazzi': 6462, 'picard': 6463, 'pick': 6464, 'picked': 6465, 'picking': 6466, 'pictish': 6467, 'picture': 6468, 'pictures': 6469, 'piece': 6470, 'piedras': 6471, 'pier': 6472, 'piercing': 6473, 'pierre': 6474, 'pig': 6475, 'piggott': 6476, 'pile': 6477, 'pilgrimage': 6478, 'pilgrims': 6479, 'pilot': 6480, 'pilots': 6481, 'pin': 6482, 'pine': 6483, 'pink': 6484, 'pioneer': 6485, 'pioneering': 6486, 'pioneers': 6487, 'pipe': 6488, 'pipes': 6489, 'pirate': 6490, 'pirates': 6491, 'pistol': 6492, 'pistols': 6493, 'pitched': 6494, 'pitchers': 6495, 'pitches': 6496, 'pitchfork': 6497, 'pitching': 6498, 'pitman': 6499, 'pitt': 6500, 'pity': 6501, 'pius': 6502, 'piz': 6503, 'placing': 6504, 'plagiarism': 6505, 'plagued': 6506, 'plain': 6507, 'plains': 6508, 'plan': 6509, 'plane': 6510, 'planes': 6511, 'planets': 6512, 'plank': 6513, 'planned': 6514, 'planners': 6515, 'planning': 6516, 'plans': 6517, 'plantation': 6518, 'planted': 6519, 'plaque': 6520, 'plasma': 6521, 'plastic': 6522, 'plate': 6523, 'plateau': 6524, 'plates': 6525, 'platform': 6526, 'platforms': 6527, 'plating': 6528, 'platinum': 6529, 'plausible': 6530, 'play': 6531, 'playable': 6532, 'played': 6533, 'players': 6534, 'playing': 6535, 'playoff': 6536, 'playoffs': 6537, 'plays': 6538, 'playstation': 6539, 'plaza': 6540, 'please': 6541, 'pleased': 6542, 'pledge': 6543, 'plensa': 6544, 'plentiful': 6545, 'plot': 6546, 'plum': 6547, 'plumage': 6548, 'plumes': 6549, 'plums': 6550, 'plunkett': 6551, 'plunketts': 6552, 'plus': 6553, 'plymouth': 6554, 'pm': 6555, 'pocket': 6556, 'podium': 6557, 'poehler': 6558, 'poem': 6559, 'poems': 6560, 'poet': 6561, 'poets': 6562, 'pohl': 6563, 'pointed': 6564, 'points': 6565, 'poison': 6566, 'poisoning': 6567, 'poisonous': 6568, 'pokiri': 6569, 'pol': 6570, 'pola': 6571, 'poland': 6572, 'polar': 6573, 'pole': 6574, 'polehinke': 6575, 'poles': 6576, 'police': 6577, 'policeman': 6578, 'polish': 6579, 'political': 6580, 'politically': 6581, 'politician': 6582, 'politicians': 6583, 'polka': 6584, 'polls': 6585, 'pollution': 6586, 'polytron': 6587, 'pompey': 6588, 'pond': 6589, 'ponderosa': 6590, 'pool': 6591, 'pools': 6592, 'poorly': 6593, 'pop': 6594, 'pope': 6595, 'populace': 6596, 'popular': 6597, 'popularised': 6598, 'popularity': 6599, 'popularized': 6600, 'population': 6601, 'populations': 6602, 'porch': 6603, 'pore': 6604, 'pores': 6605, 'portable': 6606, 'portage': 6607, 'portal': 6608, 'portico': 6609, 'portion': 6610, 'portions': 6611, 'portland': 6612, 'portraits': 6613, 'portray': 6614, 'portrayal': 6615, 'portraying': 6616, 'portrays': 6617, 'portugal': 6618, 'portuguese': 6619, 'posed': 6620, 'position': 6621, 'positioned': 6622, 'positions': 6623, 'positive': 6624, 'positively': 6625, 'possess': 6626, 'possesses': 6627, 'possession': 6628, 'possessions': 6629, 'possibilities': 6630, 'possible': 6631, 'possibly': 6632, 'postal': 6633, 'posted': 6634, 'posters': 6635, 'posthumously': 6636, 'postponed': 6637, 'posture': 6638, 'potatoes': 6639, 'potentially': 6640, 'poured': 6641, 'povenmire': 6642, 'poverty': 6643, 'powderfinger': 6644, 'power': 6645, 'powered': 6646, 'powerhouse': 6647, 'powers': 6648, 'pp': 6649, 'ppg': 6650, 'practical': 6651, 'practice': 6652, 'practitioners': 6653, 'praetervisa': 6654, 'prairie': 6655, 'praised': 6656, 'praising': 6657, 'pray': 6658, 'prayer': 6659, 'prayers': 6660, 'pre': 6661, 'preceded': 6662, 'precedent': 6663, 'precinct': 6664, 'precious': 6665, 'precise': 6666, 'precursor': 6667, 'predation': 6668, 'predators': 6669, 'predatory': 6670, 'predict': 6671, 'predicted': 6672, 'predominant': 6673, 'predominantly': 6674, 'prefect': 6675, 'prefectures': 6676, 'prefer': 6677, 'preference': 6678, 'preferring': 6679, 'prefers': 6680, 'pregnancy': 6681, 'prehistoric': 6682, 'premier': 6683, 'premiere': 6684, 'premises': 6685, 'preparation': 6686, 'preparations': 6687, 'preparatory': 6688, 'prepare': 6689, 'preparing': 6690, 'prerogative': 6691, 'prescribed': 6692, 'presence': 6693, 'presentation': 6694, 'presented': 6695, 'presenting': 6696, 'preservation': 6697, 'preserve': 6698, 'preserving': 6699, 'presided': 6700, 'presidential': 6701, 'presidents': 6702, 'press': 6703, 'pressed': 6704, 'pressing': 6705, 'pressured': 6706, 'prestige': 6707, 'prestigious': 6708, 'preston': 6709, 'presumably': 6710, 'pretty': 6711, 'prevailed': 6712, 'prevailing': 6713, 'prevent': 6714, 'preventing': 6715, 'prevention': 6716, 'prevents': 6717, 'preview': 6718, 'previous': 6719, 'prey': 6720, 'price': 6721, 'priced': 6722, 'prices': 6723, 'pride': 6724, 'priest': 6725, 'priests': 6726, 'primetime': 6727, 'primitive': 6728, 'prince': 6729, 'princess': 6730, 'princeton': 6731, 'principal': 6732, 'principally': 6733, 'principe': 6734, 'principle': 6735, 'principles': 6736, 'print': 6737, 'printed': 6738, 'printing': 6739, 'priorities': 6740, 'priority': 6741, 'priory': 6742, 'prism': 6743, 'prisoners': 6744, 'privacy': 6745, 'privately': 6746, 'privy': 6747, 'prix': 6748, 'prize': 6749, 'pro': 6750, 'probable': 6751, 'probes': 6752, 'problem': 6753, 'problems': 6754, 'procedure': 6755, 'procedures': 6756, 'proceed': 6757, 'proceeded': 6758, 'proceedings': 6759, 'proceeds': 6760, 'processes': 6761, 'processing': 6762, 'proclaimed': 6763, 'proctor': 6764, 'procured': 6765, 'produce': 6766, 'producer': 6767, 'producers': 6768, 'producing': 6769, 'productions': 6770, 'products': 6771, 'profession': 6772, 'professionally': 6773, 'professionals': 6774, 'professor': 6775, 'professors': 6776, 'profile': 6777, 'profitable': 6778, 'profound': 6779, 'prognosis': 6780, 'programme': 6781, 'programmes': 6782, 'programs': 6783, 'progress': 6784, 'progressed': 6785, 'progresses': 6786, 'progression': 6787, 'progressive': 6788, 'prohaska': 6789, 'prohibited': 6790, 'prohibition': 6791, 'projected': 6792, 'projectiles': 6793, 'projects': 6794, 'prolific': 6795, 'prolonged': 6796, 'prominence': 6797, 'prominent': 6798, 'prominently': 6799, 'promiscuous': 6800, 'promise': 6801, 'promised': 6802, 'promises': 6803, 'promising': 6804, 'promote': 6805, 'promoting': 6806, 'promotion': 6807, 'promotional': 6808, 'prompted': 6809, 'prone': 6810, 'pronounced': 6811, 'pronunciation': 6812, 'proof': 6813, 'propaganda': 6814, 'propelled': 6815, 'propeller': 6816, 'properly': 6817, 'properties': 6818, 'property': 6819, 'prophète': 6820, 'proponents': 6821, 'proportion': 6822, 'proportions': 6823, 'proposal': 6824, 'proposals': 6825, 'propose': 6826, 'proposed': 6827, 'proposes': 6828, 'prose': 6829, 'prosecutor': 6830, 'prospect': 6831, 'prospects': 6832, 'prosperity': 6833, 'prostitute': 6834, 'protagonists': 6835, 'protect': 6836, 'protecting': 6837, 'protective': 6838, 'protector': 6839, 'protein': 6840, 'protestants': 6841, 'protested': 6842, 'protesters': 6843, 'protests': 6844, 'proto': 6845, 'prototype': 6846, 'prototypes': 6847, 'protégé': 6848, 'proud': 6849, 'prove': 6850, 'proved': 6851, 'proven': 6852, 'provide': 6853, 'provision': 6854, 'provisional': 6855, 'provoked': 6856, 'proximity': 6857, 'prpić': 6858, 'prussian': 6859, 'pryce': 6860, 'psp': 6861, 'psyche': 6862, 'psychiatric': 6863, 'psychological': 6864, 'psychology': 6865, 'ptolemy': 6866, 'pub': 6867, 'public': 6868, 'publication': 6869, 'publicity': 6870, 'publicized': 6871, 'publish': 6872, 'publishers': 6873, 'publishing': 6874, 'puck': 6875, 'pudding': 6876, 'puerto': 6877, 'pulaski': 6878, 'pulled': 6879, 'pulling': 6880, 'pulp': 6881, 'pulse': 6882, 'puma': 6883, 'punch': 6884, 'punctuation': 6885, 'punishment': 6886, 'punt': 6887, 'pupil': 6888, 'pupils': 6889, 'puppet': 6890, 'puppeteer': 6891, 'purchase': 6892, 'purely': 6893, 'puritans': 6894, 'purpose': 6895, 'pursue': 6896, 'pursued': 6897, 'pursuers': 6898, 'pursues': 6899, 'pursuing': 6900, 'pursuit': 6901, 'pusan': 6902, 'push': 6903, 'pushing': 6904, 'put': 6905, 'puts': 6906, 'putting': 6907, 'puzzle': 6908, 'puzzles': 6909, 'pyramid': 6910, 'q': 6911, 'qedar': 6912, 'qedarite': 6913, 'qedarites': 6914, 'qi': 6915, 'quadruple': 6916, 'quake': 6917, 'qualification': 6918, 'qualify': 6919, 'qualifying': 6920, 'quantity': 6921, 'quarterback': 6922, 'quarters': 6923, 'quartet': 6924, 'quasi': 6925, 'quebec': 6926, 'queen': 6927, 'queensland': 6928, 'queenstown': 6929, 'quest': 6930, 'question': 6931, 'questionable': 6932, 'questioned': 6933, 'questioning': 6934, 'questions': 6935, 'quiet': 6936, 'quiney': 6937, 'quinn': 6938, 'quit': 6939, 'quotation': 6940, 'quote': 6941, 'quoted': 6942, 'quotes': 6943, 'quoting': 6944, 'r': 6945, 'rabbi': 6946, 'race': 6947, 'races': 6948, 'rachel': 6949, 'racist': 6950, 'radiation': 6951, 'radical': 6952, 'radio': 6953, 'radioactive': 6954, 'rafael': 6955, 'raffles': 6956, 'raghuveer': 6957, 'raiden': 6958, 'raiding': 6959, 'raids': 6960, 'rail': 6961, 'railroad': 6962, 'rails': 6963, 'railway': 6964, 'railways': 6965, 'rain': 6966, 'rainbow': 6967, 'rains': 6968, 'raise': 6969, 'raised': 6970, 'raj': 6971, 'ralph': 6972, 'ramon': 6973, 'ramps': 6974, 'randolph': 6975, 'random': 6976, 'randy': 6977, 'range': 6978, 'ranger': 6979, 'ranges': 6980, 'ranging': 6981, 'rank': 6982, 'rankings': 6983, 'ranks': 6984, 'rao': 6985, 'rap': 6986, 'rapid': 6987, 'rapidly': 6988, 'rapids': 6989, 'rapper': 6990, 'rare': 6991, 'rarely': 6992, 'rarity': 6993, 'ras': 6994, 'rat': 6995, 'rate': 6996, 'rated': 6997, 'rather': 6998, 'ratings': 6999, 'ratio': 7000, 'ravana': 7001, 'raw': 7002, 'rca': 7003, 're': 7004, 'reached': 7005, 'reaching': 7006, 'react': 7007, 'reacted': 7008, 'reaction': 7009, 'reactor': 7010, 'reactors': 7011, 'reacts': 7012, 'read': 7013, 'readily': 7014, 'reading': 7015, 'reads': 7016, 'ready': 7017, 'reagan': 7018, 'reagents': 7019, 'real': 7020, 'reala': 7021, 'realise': 7022, 'realism': 7023, 'realize': 7024, 'realized': 7025, 'realizes': 7026, 'realizing': 7027, 'realm': 7028, 'rearguard': 7029, 'reason': 7030, 'reasonable': 7031, 'reasons': 7032, 'reassigned': 7033, 'rebel': 7034, 'rebellion': 7035, 'rebels': 7036, 'rebuilding': 7037, 'recalls': 7038, 'recaptured': 7039, 'receiver': 7040, 'receiving': 7041, 'recent': 7042, 'reception': 7043, 'receptors': 7044, 'recipes': 7045, 'recipient': 7046, 'reclamation': 7047, 'reclassified': 7048, 'recognised': 7049, 'recognizes': 7050, 'recommend': 7051, 'recommendation': 7052, 'recommendations': 7053, 'reconcile': 7054, 'reconnaissance': 7055, 'reconstructed': 7056, 'reconstruction': 7057, 'record': 7058, 'recorded': 7059, 'recording': 7060, 'recordings': 7061, 'records': 7062, 'recounted': 7063, 'recover': 7064, 'recovering': 7065, 'recovery': 7066, 'recreation': 7067, 'recreational': 7068, 'recruit': 7069, 'recruited': 7070, 'recruits': 7071, 'rectangular': 7072, 'rectory': 7073, 'recurring': 7074, 'recycled': 7075, 'red': 7076, 'reddish': 7077, 'redesign': 7078, 'redesignated': 7079, 'redeveloped': 7080, 'redoubts': 7081, 'reduced': 7082, 'reduces': 7083, 'reed': 7084, 'refer': 7085, 'referenced': 7086, 'references': 7087, 'referendum': 7088, 'referring': 7089, 'refers': 7090, 'refined': 7091, 'reflect': 7092, 'reflecting': 7093, 'reflects': 7094, 'reform': 7095, 'reformation': 7096, 'reformed': 7097, 'reforms': 7098, 'refugees': 7099, 'refusal': 7100, 'refusing': 7101, 'regained': 7102, 'regard': 7103, 'regarded': 7104, 'regarding': 7105, 'regards': 7106, 'regeneration': 7107, 'reggae': 7108, 'regime': 7109, 'regiments': 7110, 'region': 7111, 'regions': 7112, 'register': 7113, 'registered': 7114, 'regular': 7115, 'regularly': 7116, 'regulation': 7117, 'regulatory': 7118, 'rehabilitation': 7119, 'reigning': 7120, 'reincarnation': 7121, 'reines': 7122, 'reinforce': 7123, 'reinforcements': 7124, 'reinstated': 7125, 'reject': 7126, 'rejected': 7127, 'rejection': 7128, 'rejects': 7129, 'relate': 7130, 'relates': 7131, 'relating': 7132, 'relation': 7133, 'relations': 7134, 'relationships': 7135, 'relatively': 7136, 'relaxed': 7137, 'relay': 7138, 'release': 7139, 'releases': 7140, 'releasing': 7141, 'relegated': 7142, 'reliability': 7143, 'relics': 7144, 'relied': 7145, 'reliefs': 7146, 'relieve': 7147, 'relieved': 7148, 'religions': 7149, 'religious': 7150, 'relocated': 7151, 'reluctance': 7152, 'reluctant': 7153, 'rely': 7154, 'relying': 7155, 'remade': 7156, 'remainder': 7157, 'remaining': 7158, 'remains': 7159, 'remark': 7160, 'remarkable': 7161, 'remarked': 7162, 'remarks': 7163, 'remedy': 7164, 'remember': 7165, 'remembered': 7166, 'remembers': 7167, 'reminds': 7168, 'remission': 7169, 'remix': 7170, 'remixed': 7171, 'remixes': 7172, 'remnant': 7173, 'remnants': 7174, 'remote': 7175, 'removal': 7176, 'remove': 7177, 'removed': 7178, 'removing': 7179, 'renaissance': 7180, 'rendered': 7181, 'rendering': 7182, 'renovated': 7183, 'renovation': 7184, 'renovations': 7185, 'renumbering': 7186, 'rené': 7187, 'reopen': 7188, 'reopened': 7189, 'repair': 7190, 'repaired': 7191, 'repairing': 7192, 'repairs': 7193, 'repeat': 7194, 'repeated': 7195, 'repeatedly': 7196, 'repelled': 7197, 'repertoire': 7198, 'repertory': 7199, 'repetition': 7200, 'replacing': 7201, 'replay': 7202, 'replica': 7203, 'reply': 7204, 'reportedly': 7205, 'representation': 7206, 'representatives': 7207, 'reprint': 7208, 'reprinted': 7209, 'reproduce': 7210, 'reproduction': 7211, 'reproductive': 7212, 'reptiles': 7213, 'republic': 7214, 'republican': 7215, 'reputation': 7216, 'requesting': 7217, 'requests': 7218, 'require': 7219, 'required': 7220, 'requirement': 7221, 'requirements': 7222, 'requires': 7223, 'requiring': 7224, 'rescued': 7225, 'rescues': 7226, 'research': 7227, 'researched': 7228, 'researcher': 7229, 'researchers': 7230, 'resemblance': 7231, 'resemble': 7232, 'resembles': 7233, 'resembling': 7234, 'reserve': 7235, 'reserved': 7236, 'reserves': 7237, 'reservoir': 7238, 'residence': 7239, 'resident': 7240, 'residential': 7241, 'residues': 7242, 'resign': 7243, 'resigned': 7244, 'resigning': 7245, 'resistance': 7246, 'resistant': 7247, 'resisted': 7248, 'resolution': 7249, 'resolve': 7250, 'resolved': 7251, 'resonance': 7252, 'resource': 7253, 'resources': 7254, 'respect': 7255, 'respected': 7256, 'respective': 7257, 'respects': 7258, 'respond': 7259, 'responded': 7260, 'responding': 7261, 'response': 7262, 'responses': 7263, 'responsibility': 7264, 'responsible': 7265, 'rest': 7266, 'restaurant': 7267, 'rested': 7268, 'restigouche': 7269, 'resting': 7270, 'restoration': 7271, 'restore': 7272, 'restored': 7273, 'restrict': 7274, 'restricted': 7275, 'restrictions': 7276, 'restructuring': 7277, 'resulted': 7278, 'results': 7279, 'resupply': 7280, 'resurrected': 7281, 'resurrection': 7282, 'retail': 7283, 'retain': 7284, 'retained': 7285, 'retains': 7286, 'retire': 7287, 'retirement': 7288, 'retiring': 7289, 'retreat': 7290, 'retreating': 7291, 'retro': 7292, 'reubens': 7293, 'reunion': 7294, 'reunited': 7295, 'reused': 7296, 'reveal': 7297, 'revealing': 7298, 'reveals': 7299, 'revelation': 7300, 'revenue': 7301, 'revenues': 7302, 'revered': 7303, 'reverend': 7304, 'reviewed': 7305, 'reviewing': 7306, 'revised': 7307, 'revision': 7308, 'revisions': 7309, 'revisited': 7310, 'revival': 7311, 'revolt': 7312, 'revolutionaries': 7313, 'revolutionary': 7314, 'reward': 7315, 'reworked': 7316, 'rhode': 7317, 'rhodesian': 7318, 'rhymes': 7319, 'rhys': 7320, 'rhythm': 7321, 'rhythms': 7322, 'riaa': 7323, 'ribbon': 7324, 'ric': 7325, 'ricciardo': 7326, 'rich': 7327, 'richard': 7328, 'richardson': 7329, 'richie': 7330, 'richly': 7331, 'richmond': 7332, 'richter': 7333, 'ricky': 7334, 'rid': 7335, 'ridden': 7336, 'ride': 7337, 'riders': 7338, 'ridges': 7339, 'ridiculous': 7340, 'riedesel': 7341, 'riff': 7342, 'riffs': 7343, 'rifle': 7344, 'rifles': 7345, 'riker': 7346, 'ring': 7347, 'rings': 7348, 'rio': 7349, 'riot': 7350, 'rises': 7351, 'rising': 7352, 'risk': 7353, 'risks': 7354, 'ritual': 7355, 'rival': 7356, 'rivalry': 7357, 'rivals': 7358, 'rivers': 7359, 'riverside': 7360, 'rivière': 7361, 'rml': 7362, 'roadblock': 7363, 'roadway': 7364, 'rob': 7365, 'robbery': 7366, 'robed': 7367, 'roberto': 7368, 'roberts': 7369, 'robertson': 7370, 'robot': 7371, 'rochdale': 7372, 'rock': 7373, 'rockefeller': 7374, 'rocket': 7375, 'rockets': 7376, 'rocks': 7377, 'rockstar': 7378, 'rod': 7379, 'roddenberry': 7380, 'roddick': 7381, 'rodman': 7382, 'rodney': 7383, 'rodriguez': 7384, 'rodríguez': 7385, 'rods': 7386, 'roger': 7387, 'rogue': 7388, 'rok': 7389, 'role': 7390, 'roles': 7391, 'roll': 7392, 'roller': 7393, 'rolling': 7394, 'rom': 7395, 'roman': 7396, 'romania': 7397, 'romanian': 7398, 'romano': 7399, 'romantic': 7400, 'romantically': 7401, 'rome': 7402, 'romeo': 7403, 'rommel': 7404, 'ron': 7405, 'ronald': 7406, 'roof': 7407, 'roofs': 7408, 'rookie': 7409, 'room': 7410, 'rooms': 7411, 'roosevelt': 7412, 'roosts': 7413, 'rooted': 7414, 'rope': 7415, 'rosberg': 7416, 'rose': 7417, 'rosebery': 7418, 'roseberys': 7419, 'rosemary': 7420, 'ross': 7421, 'roster': 7422, 'rotating': 7423, 'roth': 7424, 'rouge': 7425, 'rough': 7426, 'roundabout': 7427, 'rounds': 7428, 'rourke': 7429, 'route': 7430, 'routes': 7431, 'routing': 7432, 'rover': 7433, 'rovers': 7434, 'rowland': 7435, 'rowson': 7436, 'roy': 7437, 'royalty': 7438, 'royston': 7439, 'rpg': 7440, 'rpm': 7441, 'rubble': 7442, 'rude': 7443, 'rudolph': 7444, 'rufus': 7445, 'rugby': 7446, 'rugged': 7447, 'ruined': 7448, 'ruins': 7449, 'rule': 7450, 'ruler': 7451, 'rulers': 7452, 'rules': 7453, 'ruling': 7454, 'rumble': 7455, 'rumors': 7456, 'runner': 7457, 'runners': 7458, 'runoff': 7459, 'runway': 7460, 'rush': 7461, 'rushed': 7462, 'rushes': 7463, 'rushing': 7464, 'russian': 7465, 'russians': 7466, 'ruthless': 7467, 'ryder': 7468, 'räikkönen': 7469, 's': 7470, 's.': 7471, 's.c.': 7472, 'sac': 7473, 'sacked': 7474, 'sacred': 7475, 'sacrifices': 7476, 'sacristy': 7477, 'sad': 7478, 'saddle': 7479, 'sadness': 7480, 'safe': 7481, 'safely': 7482, 'saffir': 7483, 'saga': 7484, 'sage': 7485, 'sago': 7486, 'sailors': 7487, 'sails': 7488, 'saint': 7489, 'sake': 7490, 'salary': 7491, 'sales': 7492, 'salmon': 7493, 'salts': 7494, 'salvador': 7495, 'sam': 7496, 'sammy': 7497, 'sample': 7498, 'sampled': 7499, 'samples': 7500, 'sampling': 7501, 'sampras': 7502, 'samuel': 7503, 'sanctioned': 7504, 'sanctuary': 7505, 'sand': 7506, 'sandstone': 7507, 'sandwich': 7508, 'sanford': 7509, 'sang': 7510, 'santiago': 7511, 'saqqara': 7512, 'sarajevo': 7513, 'sarnia': 7514, 'sas': 7515, 'sat': 7516, 'satellite': 7517, 'satire': 7518, 'satirical': 7519, 'satisfied': 7520, 'satisfy': 7521, 'saturday': 7522, 'savage': 7523, 'save': 7524, 'saved': 7525, 'saves': 7526, 'saving': 7527, 'saxon': 7528, 'say': 7529, 'says': 7530, 'scale': 7531, 'scales': 7532, 'scandal': 7533, 'scandinavian': 7534, 'scarf': 7535, 'scattered': 7536, 'scenario': 7537, 'scenery': 7538, 'scenic': 7539, 'schafer': 7540, 'schedule': 7541, 'scheduling': 7542, 'scheme': 7543, 'schemes': 7544, 'schmidt': 7545, 'schmoke': 7546, 'scholar': 7547, 'scholarship': 7548, 'scholastic': 7549, 'school': 7550, 'schools': 7551, 'schumann': 7552, 'science': 7553, 'sciences': 7554, 'scientist': 7555, 'scientologists': 7556, 'scientology': 7557, 'sclerodermatineae': 7558, 'scope': 7559, 'score': 7560, 'scored': 7561, 'scoreless': 7562, 'scotia': 7563, 'scotland': 7564, 'scott': 7565, 'scout': 7566, 'scouting': 7567, 'scouts': 7568, 'scranton': 7569, 'scrapped': 7570, 'scrapping': 7571, 'scratchley': 7572, 'screaming': 7573, 'screen': 7574, 'screened': 7575, 'screening': 7576, 'screenplay': 7577, 'screens': 7578, 'screenwriter': 7579, 'script': 7580, 'scripted': 7581, 'scripture': 7582, 'scrutiny': 7583, 'scully': 7584, 'sculpture': 7585, 'sculptures': 7586, 'seal': 7587, 'sealed': 7588, 'seam': 7589, 'sean': 7590, 'search': 7591, 'searched': 7592, 'searches': 7593, 'searching': 7594, 'seas': 7595, 'season': 7596, 'seasonal': 7597, 'seat': 7598, 'seats': 7599, 'sec': 7600, 'second': 7601, 'secondary': 7602, 'secret': 7603, 'secretary': 7604, 'secretly': 7605, 'secrets': 7606, 'sect': 7607, 'sectors': 7608, 'secular': 7609, 'secure': 7610, 'secured': 7611, 'sediment': 7612, 'see': 7613, 'seed': 7614, 'seedlings': 7615, 'seek': 7616, 'seeks': 7617, 'seemingly': 7618, 'seen': 7619, 'seer': 7620, 'sees': 7621, 'sega': 7622, 'segment': 7623, 'segments': 7624, 'seize': 7625, 'seized': 7626, 'seizing': 7627, 'select': 7628, 'selections': 7629, 'selective': 7630, 'self': 7631, 'sell': 7632, 'selling': 7633, 'semaphore': 7634, 'semen': 7635, 'semifinal': 7636, 'semitic': 7637, 'senator': 7638, 'senators': 7639, 'sends': 7640, 'seneca': 7641, 'senior': 7642, 'sensation': 7643, 'sensitive': 7644, 'sent': 7645, 'sentence': 7646, 'sentenced': 7647, 'sentences': 7648, 'sentiment': 7649, 'separate': 7650, 'separately': 7651, 'separates': 7652, 'sephiroth': 7653, 'sepinwall': 7654, 'september': 7655, 'sequel': 7656, 'sequences': 7657, 'sergeant': 7658, 'sergio': 7659, 'serialised': 7660, 'serialized': 7661, 'seriously': 7662, 'servant': 7663, 'servants': 7664, 'service': 7665, 'serving': 7666, 'sessions': 7667, 'set': 7668, 'seth': 7669, 'sets': 7670, 'setting': 7671, 'settings': 7672, 'settled': 7673, 'settlement': 7674, 'settlements': 7675, 'settling': 7676, 'seven': 7677, 'seventh': 7678, 'several': 7679, 'severe': 7680, 'severed': 7681, 'severely': 7682, 'sewage': 7683, 'sewer': 7684, 'sex': 7685, 'sexes': 7686, 'sexpunctatus': 7687, 'sexuality': 7688, 'sexually': 7689, 'sexy': 7690, 'sf': 7691, 'shade': 7692, 'shades': 7693, 'shadows': 7694, 'shafts': 7695, 'shah': 7696, 'shaiva': 7697, 'shakespeare': 7698, 'shakespearean': 7699, 'sham': 7700, 'shame': 7701, 'shang': 7702, 'shanghai': 7703, 'shannon': 7704, 'shaoguan': 7705, 'shaolin': 7706, 'shaped': 7707, 'shapes': 7708, 'shara': 7709, 'share': 7710, 'shares': 7711, 'sharing': 7712, 'shark': 7713, 'sharks': 7714, 'sharma': 7715, 'sharp': 7716, 'shattered': 7717, 'shaw': 7718, 'shawn': 7719, 'she': 7720, 'shear': 7721, 'sheep': 7722, 'sheer': 7723, 'sheet': 7724, 'sheets': 7725, 'sheffield': 7726, 'shelf': 7727, 'shelled': 7728, 'shelley': 7729, 'shelling': 7730, 'shells': 7731, 'shelter': 7732, 'shelters': 7733, 'sher': 7734, 'shield': 7735, 'shift': 7736, 'shifted': 7737, 'shifting': 7738, 'shifts': 7739, 'shimomura': 7740, 'shipbuilding': 7741, 'shipped': 7742, 'ships': 7743, 'shirts': 7744, 'shiva': 7745, 'shock': 7746, 'shocked': 7747, 'shooting': 7748, 'shop': 7749, 'shopping': 7750, 'shore': 7751, 'shoreline': 7752, 'shortage': 7753, 'shortages': 7754, 'shortened': 7755, 'shorter': 7756, 'shortest': 7757, 'shortly': 7758, 'shorts': 7759, 'shot': 7760, 'should': 7761, 'shoulder': 7762, 'shows': 7763, 'shrine': 7764, 'shrines': 7765, 'shrubs': 7766, 'shula': 7767, 'shut': 7768, 'shy': 7769, 'si': 7770, 'siberia': 7771, 'siblings': 7772, 'sicily': 7773, 'sick': 7774, 'side': 7775, 'sided': 7776, 'sides': 7777, 'sidney': 7778, 'sidon': 7779, 'sierra': 7780, 'sighting': 7781, 'sightings': 7782, 'sights': 7783, 'sign': 7784, 'signal': 7785, 'signature': 7786, 'signed': 7787, 'significance': 7788, 'significantly': 7789, 'signing': 7790, 'signings': 7791, 'signs': 7792, 'silence': 7793, 'silent': 7794, 'silk': 7795, 'silver': 7796, 'similar': 7797, 'similarities': 7798, 'similarly': 7799, 'simon': 7800, 'simone': 7801, 'simplicity': 7802, 'simply': 7803, 'simpson': 7804, 'simpsons': 7805, 'simultaneous': 7806, 'simultaneously': 7807, 'simón': 7808, 'sin': 7809, 'sinai': 7810, 'sinatra': 7811, 'sinclair': 7812, 'sing': 7813, 'singapore': 7814, 'singing': 7815, 'singles': 7816, 'sings': 7817, 'sink': 7818, 'sinking': 7819, 'sinner': 7820, 'sins': 7821, 'sippy': 7822, 'sirius': 7823, 'sisler': 7824, 'sister': 7825, 'sit': 7826, 'sitcom': 7827, 'site': 7828, 'sits': 7829, 'situation': 7830, 'situations': 7831, 'sixteenth': 7832, 'size': 7833, 'skeletal': 7834, 'skeletons': 7835, 'sketches': 7836, 'skill': 7837, 'skin': 7838, 'skinner': 7839, 'skull': 7840, 'sky': 7841, 'slabs': 7842, 'slam': 7843, 'slant': 7844, 'slash': 7845, 'slate': 7846, 'slated': 7847, 'slaughter': 7848, 'slavery': 7849, 'slaves': 7850, 'sleaford': 7851, 'sleeping': 7852, 'sleeves': 7853, 'slender': 7854, 'slight': 7855, 'slightly': 7856, 'slip': 7857, 'slipped': 7858, 'sloan': 7859, 'slope': 7860, 'slopes': 7861, 'slot': 7862, 'slots': 7863, 'slowed': 7864, 'slower': 7865, 'slowly': 7866, 'small': 7867, 'smart': 7868, 'smash': 7869, 'smell': 7870, 'smith': 7871, 'smoking': 7872, 'smooth': 7873, 'sms': 7874, 'snakes': 7875, 'snapper': 7876, 'snelling': 7877, 'snowy': 7878, 'so': 7879, 'soap': 7880, 'social': 7881, 'socialist': 7882, 'societies': 7883, 'sociological': 7884, 'sociologist': 7885, 'sociology': 7886, 'socks': 7887, 'sodium': 7888, 'sognsvann': 7889, 'soil': 7890, 'soils': 7891, 'soir': 7892, 'solar': 7893, 'sold': 7894, 'soldier': 7895, 'solely': 7896, 'solitaire': 7897, 'solitary': 7898, 'solitude': 7899, 'solo': 7900, 'solution': 7901, 'solutions': 7902, 'solve': 7903, 'solved': 7904, 'solving': 7905, 'somaliland': 7906, 'somebody': 7907, 'somerset': 7908, 'something': 7909, 'sometimes': 7910, 'somewhat': 7911, 'song': 7912, 'songs': 7913, 'songwriter': 7914, 'songwriters': 7915, 'songwriting': 7916, 'sonic': 7917, 'sons': 7918, 'sonthi': 7919, 'sophisticated': 7920, 'sora': 7921, 'sori': 7922, 'sort': 7923, 'sorts': 7924, 'sosa': 7925, 'sought': 7926, 'soul': 7927, 'sounding': 7928, 'soundtracks': 7929, 'sources': 7930, 'southward': 7931, 'southwest': 7932, 'southwestern': 7933, 'southwestward': 7934, 'soval': 7935, 'sovereign': 7936, 'soviet': 7937, 'soviets': 7938, 'spacecraft': 7939, 'spaced': 7940, 'spaceship': 7941, 'span': 7942, 'spanned': 7943, 'spans': 7944, 'spare': 7945, 'sparked': 7946, 'sparse': 7947, 'speaks': 7948, 'special': 7949, 'specialised': 7950, 'specialist': 7951, 'specialized': 7952, 'specially': 7953, 'specifically': 7954, 'specifications': 7955, 'specified': 7956, 'specimen': 7957, 'speckles': 7958, 'spectacular': 7959, 'spectators': 7960, 'spectral': 7961, 'spectre': 7962, 'spectrum': 7963, 'speculated': 7964, 'speculates': 7965, 'speculation': 7966, 'speech': 7967, 'speeches': 7968, 'speeds': 7969, 'spell': 7970, 'spelled': 7971, 'spelling': 7972, 'spencer': 7973, 'spend': 7974, 'spending': 7975, 'spends': 7976, 'sperm': 7977, 'spike': 7978, 'spin': 7979, 'spines': 7980, 'spinning': 7981, 'spirit': 7982, 'spirits': 7983, 'spiritual': 7984, 'spisevognselskapet': 7985, 'splits': 7986, 'spoiled': 7987, 'spoken': 7988, 'spokesperson': 7989, 'sponsor': 7990, 'sponsored': 7991, 'sponsors': 7992, 'sponsorship': 7993, 'spontaneous': 7994, 'sporadic': 7995, 'spore': 7996, 'spores': 7997, 'sport': 7998, 'sporting': 7999, 'spot': 8000, 'spots': 8001, 'spotted': 8002, 'spp': 8003, 'spreading': 8004, 'spring': 8005, 'springfield': 8006, 'springs': 8007, 'sprint': 8008, 'sprites': 8009, 'spruce': 8010, 'spur': 8011, 'spy': 8012, 'sq': 8013, 'squadron': 8014, 'squadrons': 8015, 'square': 8016, 'squat': 8017, 'sr': 8018, 'sri': 8019, 'st': 8020, 'stability': 8021, 'stable': 8022, 'staffed': 8023, 'stage': 8024, 'staged': 8025, 'staging': 8026, 'stained': 8027, 'staircase': 8028, 'stake': 8029, 'stakes': 8030, 'staley': 8031, 'stalled': 8032, 'stan': 8033, 'stand': 8034, 'standard': 8035, 'standards': 8036, 'standing': 8037, 'standout': 8038, 'stansfield': 8039, 'stanza': 8040, 'staples': 8041, 'starboard': 8042, 'starbucks': 8043, 'starling': 8044, 'starlings': 8045, 'starred': 8046, 'starring': 8047, 'stars': 8048, 'start': 8049, 'started': 8050, 'starting': 8051, 'starts': 8052, 'state': 8053, 'statehood': 8054, 'statements': 8055, 'states': 8056, 'station': 8057, 'stationed': 8058, 'stations': 8059, 'statistics': 8060, 'statue': 8061, 'statues': 8062, 'status': 8063, 'stavanger': 8064, 'staying': 8065, 'stays': 8066, 'steadily': 8067, 'steady': 8068, 'steal': 8069, 'steals': 8070, 'steam': 8071, 'steamboat': 8072, 'steamboats': 8073, 'steamed': 8074, 'steeltown': 8075, 'steering': 8076, 'stefan': 8077, 'steffy': 8078, 'stein': 8079, 'stela': 8080, 'stelae': 8081, 'stellar': 8082, 'stephen': 8083, 'stepped': 8084, 'sterling': 8085, 'steve': 8086, 'steven': 8087, 'stevens': 8088, 'stevenson': 8089, 'stewart': 8090, 'stewie': 8091, 'stick': 8092, 'sticks': 8093, 'stiff': 8094, 'still': 8095, 'stimulated': 8096, 'stingray': 8097, 'stint': 8098, 'stipe': 8099, 'stipulated': 8100, 'stock': 8101, 'stockholm': 8102, 'stockwell': 8103, 'stoke': 8104, 'stokes': 8105, 'stolac': 8106, 'stole': 8107, 'stomach': 8108, 'stone': 8109, 'stones': 8110, 'stoppani': 8111, 'stopped': 8112, 'stops': 8113, 'stored': 8114, 'stories': 8115, 'storm': 8116, 'story': 8117, 'storyline': 8118, 'storylines': 8119, 'storytelling': 8120, 'strachan': 8121, 'straight': 8122, 'straightforward': 8123, 'strain': 8124, 'strained': 8125, 'strait': 8126, 'strand': 8127, 'stranger': 8128, 'strapping': 8129, 'strategically': 8130, 'stratford': 8131, 'streak': 8132, 'stream': 8133, 'strength': 8134, 'strengthen': 8135, 'strengthening': 8136, 'strengths': 8137, 'stress': 8138, 'stressed': 8139, 'stretch': 8140, 'strict': 8141, 'strikes': 8142, 'striking': 8143, 'string': 8144, 'strings': 8145, 'stripped': 8146, 'strive': 8147, 'stroke': 8148, 'strong': 8149, 'stronger': 8150, 'strongest': 8151, 'struck': 8152, 'structural': 8153, 'structure': 8154, 'structured': 8155, 'structures': 8156, 'struggle': 8157, 'struggled': 8158, 'struggles': 8159, 'struggling': 8160, 'stuart': 8161, 'stuck': 8162, 'students': 8163, 'studied': 8164, 'studies': 8165, 'studying': 8166, 'stuff': 8167, 'stump': 8168, 'stumps': 8169, 'stunt': 8170, 'stupid': 8171, 'styled': 8172, 'styles': 8173, 'sub': 8174, 'subcontinent': 8175, 'subdivisions': 8176, 'subfamily': 8177, 'subject': 8178, 'subjected': 8179, 'subjects': 8180, 'submarine': 8181, 'submerged': 8182, 'submission': 8183, 'suborder': 8184, 'subordinate': 8185, 'subsequently': 8186, 'subsidiary': 8187, 'subsidies': 8188, 'subspecies': 8189, 'substance': 8190, 'substances': 8191, 'substantial': 8192, 'substantially': 8193, 'substitute': 8194, 'substituted': 8195, 'substrate': 8196, 'subtypes': 8197, 'suburb': 8198, 'suburban': 8199, 'suburbs': 8200, 'succeed': 8201, 'succeeding': 8202, 'succeeds': 8203, 'successes': 8204, 'successfully': 8205, 'succession': 8206, 'such': 8207, 'suddenly': 8208, 'sued': 8209, 'suez': 8210, 'suffer': 8211, 'sufficient': 8212, 'suggested': 8213, 'suggestions': 8214, 'suggests': 8215, 'suit': 8216, 'suitable': 8217, 'suite': 8218, 'suited': 8219, 'sullivan': 8220, 'sum': 8221, 'summary': 8222, 'summerslam': 8223, 'summit': 8224, 'summoned': 8225, 'sun': 8226, 'sunderland': 8227, 'sung': 8228, 'sunk': 8229, 'sunken': 8230, 'sunset': 8231, 'superficial': 8232, 'superintendent': 8233, 'superior': 8234, 'supermarionation': 8235, 'supernatural': 8236, 'supervised': 8237, 'supervision': 8238, 'supper': 8239, 'supplement': 8240, 'supplied': 8241, 'supplies': 8242, 'support': 8243, 'supported': 8244, 'supporter': 8245, 'supporting': 8246, 'supportive': 8247, 'suppose': 8248, 'supposedly': 8249, 'suppress': 8250, 'suppressed': 8251, 'supreme': 8252, 'sure': 8253, 'surf': 8254, 'surface': 8255, 'surfaces': 8256, 'surname': 8257, 'surpassed': 8258, 'surprised': 8259, 'surprising': 8260, 'surrendered': 8261, 'surrey': 8262, 'surrounded': 8263, 'surrounding': 8264, 'surroundings': 8265, 'surveillance': 8266, 'surveying': 8267, 'surveys': 8268, 'survive': 8269, 'surviving': 8270, 'susanna': 8271, 'susceptible': 8272, 'suspect': 8273, 'suspected': 8274, 'suspended': 8275, 'susquehanna': 8276, 'sussex': 8277, 'sustaining': 8278, 'swallowed': 8279, 'swansea': 8280, 'swedish': 8281, 'sweet': 8282, 'swept': 8283, 'swim': 8284, 'swimming': 8285, 'swing': 8286, 'switched': 8287, 'switching': 8288, 'switzerland': 8289, 'swords': 8290, 'swung': 8291, 'sybil': 8292, 'sydney': 8293, 'sylvia': 8294, 'symbol': 8295, 'symbolic': 8296, 'symbols': 8297, 'symmetrical': 8298, 'sympathetic': 8299, 'symphony': 8300, 'symptoms': 8301, 'synagogue': 8302, 'syndrome': 8303, 'synonym': 8304, 'synonymous': 8305, 'synonyms': 8306, 'synthesis': 8307, 'synthesized': 8308, 'synthetic': 8309, 'syphilis': 8310, 'syria': 8311, 'syrian': 8312, 'system': 8313, 'systems': 8314, 't.': 8315, 'ta': 8316, 'table': 8317, 'tables': 8318, 'tablets': 8319, 'tackle': 8320, 'tackles': 8321, 'tactic': 8322, 'tactical': 8323, 'tadeusz': 8324, 'tag': 8325, 'tail': 8326, 'taiwan': 8327, 'taiyuan': 8328, 'takeoff': 8329, 'takes': 8330, 'taking': 8331, 'tale': 8332, 'talent': 8333, 'talented': 8334, 'talents': 8335, 'tales': 8336, 'talk': 8337, 'talked': 8338, 'talks': 8339, 'tall': 8340, 'tamil': 8341, 'tanaka': 8342, 'taneytown': 8343, 'tang': 8344, 'tannery': 8345, 'tapes': 8346, 'tar': 8347, 'target': 8348, 'targeting': 8349, 'tasked': 8350, 'taste': 8351, 'tata': 8352, 'tatanka': 8353, 'tate': 8354, 'taught': 8355, 'taunton': 8356, 'tavern': 8357, 'tax': 8358, 'taxes': 8359, 'taxi': 8360, 'taxonomic': 8361, 'taxonomy': 8362, 'taylor': 8363, 'tbsa': 8364, 'te': 8365, 'tea': 8366, 'teach': 8367, 'teacher': 8368, 'teaches': 8369, 'teaching': 8370, 'teachings': 8371, 'teams': 8372, 'tears': 8373, 'tech': 8374, 'technically': 8375, 'technique': 8376, 'techniques': 8377, 'technological': 8378, 'technologies': 8379, 'ted': 8380, 'teen': 8381, 'teenager': 8382, 'tel': 8383, 'telescope': 8384, 'televised': 8385, 'tell': 8386, 'telling': 8387, 'temperate': 8388, 'temperature': 8389, 'temperatures': 8390, 'tempest': 8391, 'templar': 8392, 'temples': 8393, 'tempo': 8394, 'temporarily': 8395, 'ten': 8396, 'tend': 8397, 'tended': 8398, 'tends': 8399, 'tennant': 8400, 'tennis': 8401, 'tenor': 8402, 'tension': 8403, 'tensions': 8404, 'tent': 8405, 'tenth': 8406, 'tents': 8407, 'tepe': 8408, 'term': 8409, 'termed': 8410, 'terminated': 8411, 'terminus': 8412, 'terraces': 8413, 'terrain': 8414, 'terrestrial': 8415, 'territories': 8416, 'territory': 8417, 'terror': 8418, 'terrorism': 8419, 'terrorist': 8420, 'terry': 8421, 'tertiary': 8422, 'tessa': 8423, 'test': 8424, 'testament': 8425, 'tested': 8426, 'testified': 8427, 'testing': 8428, 'tests': 8429, 'texas': 8430, 'text': 8431, 'textile': 8432, 'texts': 8433, 'texture': 8434, 'thai': 8435, 'thaksin': 8436, 'thakur': 8437, 'thanhouser': 8438, 'thanks': 8439, 'thatgamecompany': 8440, 'the': 8441, 'thea': 8442, 'theatres': 8443, 'theatrical': 8444, 'thee': 8445, 'theft': 8446, 'their': 8447, 'theme': 8448, 'themed': 8449, 'themes': 8450, 'then': 8451, 'theologians': 8452, 'theological': 8453, 'theoretical': 8454, 'theories': 8455, 'theorist': 8456, 'theory': 8457, 'therapeutic': 8458, 'therapy': 8459, 'therefore': 8460, 'thermal': 8461, 'these': 8462, 'thesis': 8463, 'they': 8464, 'thi': 8465, 'thicker': 8466, 'thin': 8467, 'things': 8468, 'thinking': 8469, 'thinks': 8470, 'thirds': 8471, 'thirteenth': 8472, 'thompson': 8473, 'thoroughly': 8474, 'those': 8475, 'though': 8476, 'thought': 8477, 'thoughts': 8478, 'thousands': 8479, 'thread': 8480, 'threat': 8481, 'threaten': 8482, 'threatened': 8483, 'threatens': 8484, 'threw': 8485, 'thriving': 8486, 'throughout': 8487, 'throw': 8488, 'throwing': 8489, 'thrown': 8490, 'throws': 8491, 'thumb': 8492, 'thunder': 8493, 'thunderbird': 8494, 'thunderbirds': 8495, 'thursday': 8496, 'thus': 8497, 'ticket': 8498, 'tide': 8499, 'tides': 8500, 'tie': 8501, 'tied': 8502, 'tier': 8503, 'ties': 8504, 'tiger': 8505, 'tigers': 8506, 'tightly': 8507, 'till': 8508, 'timbaland': 8509, 'time': 8510, 'timeline': 8511, 'timing': 8512, 'timor': 8513, 'tin': 8514, 'tipped': 8515, 'tips': 8516, 'tired': 8517, 'tissue': 8518, 'tissues': 8519, 'titled': 8520, 'titles': 8521, 'tlc': 8522, 'tobias': 8523, 'today': 8524, 'together': 8525, 'toilet': 8526, 'toirdelbach': 8527, 'tokyo': 8528, 'told': 8529, 'tolerance': 8530, 'toll': 8531, 'tom': 8532, 'tomatoes': 8533, 'tomb': 8534, 'tombs': 8535, 'tomorrow': 8536, 'ton': 8537, 'tone': 8538, 'toned': 8539, 'tongue': 8540, 'tonight': 8541, 'toniná': 8542, 'tonnes': 8543, 'too': 8544, 'tool': 8545, 'tooth': 8546, 'top': 8547, 'topic': 8548, 'topics': 8549, 'topping': 8550, 'torchwood': 8551, 'torn': 8552, 'toro': 8553, 'toronto': 8554, 'torpedo': 8555, 'torpedoes': 8556, 'torso': 8557, 'torture': 8558, 'toso': 8559, 'toss': 8560, 'totaled': 8561, 'totaling': 8562, 'totally': 8563, 'totals': 8564, 'tottenham': 8565, 'touch': 8566, 'touchdowns': 8567, 'touching': 8568, 'toured': 8569, 'touring': 8570, 'tourist': 8571, 'tourists': 8572, 'tournaments': 8573, 'tours': 8574, 'towards': 8575, 'towed': 8576, 'tower': 8577, 'town': 8578, 'townsend': 8579, 'township': 8580, 'townsville': 8581, 'toxic': 8582, 'toxicity': 8583, 'toy': 8584, 'toys': 8585, 'trace': 8586, 'traced': 8587, 'traces': 8588, 'track': 8589, 'tracking': 8590, 'tracks': 8591, 'tract': 8592, 'tracy': 8593, 'traded': 8594, 'trademark': 8595, 'traders': 8596, 'trades': 8597, 'trading': 8598, 'traditional': 8599, 'traditionally': 8600, 'traffic': 8601, 'trafford': 8602, 'trail': 8603, 'train': 8604, 'traits': 8605, 'transcribed': 8606, 'transept': 8607, 'transfer': 8608, 'transferred': 8609, 'transform': 8610, 'transit': 8611, 'transition': 8612, 'transitional': 8613, 'transits': 8614, 'translate': 8615, 'translated': 8616, 'translation': 8617, 'transmitted': 8618, 'transportation': 8619, 'transported': 8620, 'transporting': 8621, 'trapped': 8622, 'traps': 8623, 'trauma': 8624, 'traveler': 8625, 'travelers': 8626, 'traveling': 8627, 'travels': 8628, 'traverse': 8629, 'travis': 8630, 'treason': 8631, 'treasury': 8632, 'treat': 8633, 'treating': 8634, 'treatise': 8635, 'treatment': 8636, 'treats': 8637, 'treaty': 8638, 'trebinje': 8639, 'treble': 8640, 'tree': 8641, 'trees': 8642, 'trek': 8643, 'trent': 8644, 'trescothick': 8645, 'tri': 8646, 'trial': 8647, 'triangle': 8648, 'tribal': 8649, 'tribbles': 8650, 'tribe': 8651, 'tribes': 8652, 'tribune': 8653, 'tributaries': 8654, 'tribute': 8655, 'triceratops': 8656, 'trick': 8657, 'tricks': 8658, 'tries': 8659, 'trigger': 8660, 'triggered': 8661, 'trilogy': 8662, 'trinity': 8663, 'trioxide': 8664, 'trip': 8665, 'triple': 8666, 'tripoli': 8667, 'trips': 8668, 'tristan': 8669, 'triumph': 8670, 'trivial': 8671, 'trondheim': 8672, 'troop': 8673, 'troops': 8674, 'trophy': 8675, 'tropical': 8676, 'trotternish': 8677, 'trouble': 8678, 'troubled': 8679, 'troubles': 8680, 'trough': 8681, 'truce': 8682, 'truck': 8683, 'trudy': 8684, 'true': 8685, 'trujillo': 8686, 'truly': 8687, 'truncated': 8688, 'trunk': 8689, 'trunkline': 8690, 'trust': 8691, 'trustees': 8692, 'truth': 8693, 'trying': 8694, 'tsubame': 8695, 'tsunami': 8696, 'tsung': 8697, 'tu': 8698, 'tube': 8699, 'tubes': 8700, 'tudor': 8701, 'tufaro': 8702, 'tune': 8703, 'tuned': 8704, 'tunnel': 8705, 'turing': 8706, 'turkey': 8707, 'turks': 8708, 'turn': 8709, 'turned': 8710, 'turner': 8711, 'turnpike': 8712, 'turret': 8713, 'turtle': 8714, 'tutor': 8715, 'twenty': 8716, 'twenty20': 8717, 'twice': 8718, 'twickenham': 8719, 'twigs': 8720, 'twin': 8721, 'twist': 8722, 'tying': 8723, 'types': 8724, 'typical': 8725, 'tyre': 8726, 'tyres': 8727, 'u': 8728, 'u.s.': 8729, 'ucl': 8730, 'uefa': 8731, 'uh': 8732, 'uhf': 8733, 'uk': 8734, 'ukraine': 8735, 'ukrainian': 8736, 'uleki': 8737, 'ulster': 8738, 'ultimate': 8739, 'ultimately': 8740, 'umpire': 8741, 'umpires': 8742, 'unable': 8743, 'unacceptable': 8744, 'unanimously': 8745, 'unas': 8746, 'unaware': 8747, 'unbeaten': 8748, 'uncertain': 8749, 'uncertainty': 8750, 'unclear': 8751, 'und': 8752, 'undefeated': 8753, 'undercover': 8754, 'undergo': 8755, 'undergoing': 8756, 'undergone': 8757, 'undergraduate': 8758, 'underlying': 8759, 'underneath': 8760, 'underside': 8761, 'understand': 8762, 'understanding': 8763, 'understory': 8764, 'undertake': 8765, 'undertaking': 8766, 'undertook': 8767, 'underway': 8768, 'undeveloped': 8769, 'undoubtedly': 8770, 'unemployment': 8771, 'unesco': 8772, 'uneven': 8773, 'unexpectedly': 8774, 'unfinished': 8775, 'unhappy': 8776, 'unicorn': 8777, 'unified': 8778, 'uniform': 8779, 'union': 8780, 'unions': 8781, 'unite': 8782, 'unity': 8783, 'universally': 8784, 'universe': 8785, 'university': 8786, 'unknown': 8787, 'unlikely': 8788, 'unlimited': 8789, 'unnamed': 8790, 'unnecessary': 8791, 'unofficial': 8792, 'unpaid': 8793, 'unprecedented': 8794, 'unreliable': 8795, 'unrest': 8796, 'unseen': 8797, 'unsuccessful': 8798, 'unsure': 8799, 'unused': 8800, 'unusual': 8801, 'unusually': 8802, 'up': 8803, 'update': 8804, 'updated': 8805, 'updates': 8806, 'upgrade': 8807, 'upright': 8808, 'uprising': 8809, 'ups': 8810, 'upset': 8811, 'upstream': 8812, 'upward': 8813, 'urania': 8814, 'uranium': 8815, 'urban': 8816, 'urged': 8817, 'urgent': 8818, 'urging': 8819, 'urine': 8820, 'urn': 8821, 'usa': 8822, 'usace': 8823, 'usage': 8824, 'usd': 8825, 'use': 8826, 'useful': 8827, 'useless': 8828, 'user': 8829, 'users': 8830, 'uses': 8831, 'using': 8832, 'uss': 8833, 'usual': 8834, 'utc': 8835, 'utility': 8836, 'utilized': 8837, 'utterly': 8838, 'uyghurs': 8839, 'uí': 8840, 'v.': 8841, 'vacant': 8842, 'vague': 8843, 'vai': 8844, 'vale': 8845, 'valentine': 8846, 'valid': 8847, 'validity': 8848, 'valkyria': 8849, 'valley': 8850, 'valleys': 8851, 'valuable': 8852, 'values': 8853, 'van': 8854, 'vance': 8855, 'vandernoot': 8856, 'vanderwerff': 8857, 'vanished': 8858, 'vanity': 8859, 'var': 8860, 'varanasi': 8861, 'vargas': 8862, 'variable': 8863, 'variant': 8864, 'variants': 8865, 'variation': 8866, 'variations': 8867, 'varied': 8868, 'varieties': 8869, 'variety': 8870, 'various': 8871, 'variously': 8872, 'varrick': 8873, 'varsity': 8874, 'varying': 8875, 'vasco': 8876, 'vassal': 8877, 'vast': 8878, 'vaudeville': 8879, 'vault': 8880, 'veerashaiva': 8881, 'vegas': 8882, 'vegetarian': 8883, 'vegetation': 8884, 'vehicle': 8885, 'veil': 8886, 'vein': 8887, 'velocity': 8888, 'venice': 8889, 'venture': 8890, 'venue': 8891, 'venus': 8892, 'verdict': 8893, 'vermeer': 8894, 'vermont': 8895, 'veronica': 8896, 'verse': 8897, 'version': 8898, 'verstappen': 8899, 'versus': 8900, 'vertex': 8901, 'vertical': 8902, 'vertically': 8903, 'vertices': 8904, 'vertigo': 8905, 'very': 8906, 'vesta': 8907, 'veteran': 8908, 'veterans': 8909, 'veto': 8910, 'vettel': 8911, 'vhs': 8912, 'vi': 8913, 'viable': 8914, 'viaduct': 8915, 'vibrant': 8916, 'vic': 8917, 'vicar': 8918, 'vicarious': 8919, 'vicars': 8920, 'vice': 8921, 'vicinity': 8922, 'vicious': 8923, 'vickers': 8924, 'victim': 8925, 'victor': 8926, 'victorian': 8927, 'victorious': 8928, 'victory': 8929, 'video': 8930, 'viet': 8931, 'vietnam': 8932, 'vietnamese': 8933, 'viewed': 8934, 'viewer': 8935, 'viewers': 8936, 'viewing': 8937, 'viewpoint': 8938, 'viewpoints': 8939, 'views': 8940, 'vig': 8941, 'vii': 8942, 'village': 8943, 'villages': 8944, 'villain': 8945, 'vincent': 8946, 'vineyards': 8947, 'vingtième': 8948, 'vintage': 8949, 'violacea': 8950, 'violated': 8951, 'violation': 8952, 'violations': 8953, 'violent': 8954, 'violet': 8955, 'virgil': 8956, 'virgin': 8957, 'virginia': 8958, 'virtual': 8959, 'virtue': 8960, 'virtuoso': 8961, 'vishnu': 8962, 'vishwanath': 8963, 'visibility': 8964, 'visible': 8965, 'visions': 8966, 'visit': 8967, 'visitor': 8968, 'visitors': 8969, 'visits': 8970, 'visor': 8971, 'visual': 8972, 'visuals': 8973, 'vital': 8974, 'vivid': 8975, 'vocals': 8976, 'voice': 8977, 'voices': 8978, 'volcanic': 8979, 'volcano': 8980, 'volley': 8981, 'volume': 8982, 'voluntary': 8983, 'volunteer': 8984, 'volunteers': 8985, 'vote': 8986, 'voted': 8987, 'voters': 8988, 'votes': 8989, 'voting': 8990, 'voyage': 8991, 'vs.': 8992, 'vulnerable': 8993, 'văn': 8994, 'w': 8995, 'w.': 8996, 'wadi': 8997, 'wages': 8998, 'wagner': 8999, 'waist': 9000, 'wait': 9001, 'wakes': 9002, 'wales': 9003, 'walked': 9004, 'walks': 9005, 'wall': 9006, 'wallace': 9007, 'walled': 9008, 'walls': 9009, 'wally': 9010, 'walpole': 9011, 'walton': 9012, 'wanderers': 9013, 'wants': 9014, 'wanyan': 9015, 'war': 9016, 'ward': 9017, 'wards': 9018, 'ware': 9019, 'warehouse': 9020, 'warfare': 9021, 'warm': 9022, 'warn': 9023, 'warned': 9024, 'warner': 9025, 'warriors': 9026, 'warsaw': 9027, 'wartime': 9028, 'warts': 9029, 'warwick': 9030, 'was': 9031, 'wash': 9032, 'washington': 9033, 'wasn': 9034, 'wasp': 9035, 'wasps': 9036, 'waste': 9037, 'watch': 9038, 'watched': 9039, 'water': 9040, 'waterfall': 9041, 'wave': 9042, 'waves': 9043, 'wayne': 9044, 'wcw': 9045, 'wdtv': 9046, 'weaken': 9047, 'weaker': 9048, 'weakness': 9049, 'wealth': 9050, 'wealthy': 9051, 'weapon': 9052, 'weapons': 9053, 'wearing': 9054, 'wears': 9055, 'weaving': 9056, 'web': 9057, 'webb': 9058, 'weber': 9059, 'website': 9060, 'wedding': 9061, 'wednesday': 9062, 'weekend': 9063, 'weeks': 9064, 'weevil': 9065, 'weighed': 9066, 'weighing': 9067, 'weird': 9068, 'welcomed': 9069, 'welfare': 9070, 'well': 9071, 'wellington': 9072, 'wells': 9073, 'welsh': 9074, 'wembley': 9075, 'werneth': 9076, 'west': 9077, 'westbound': 9078, 'wet': 9079, 'wetlands': 9080, 'wever': 9081, 'whatever': 9082, 'wheat': 9083, 'whedon': 9084, 'wheel': 9085, 'where': 9086, 'whereas': 9087, 'whig': 9088, 'while': 9089, 'whilst': 9090, 'whiskey': 9091, 'white': 9092, 'whites': 9093, 'whitish': 9094, 'who': 9095, 'whole': 9096, 'wholly': 9097, 'why': 9098, 'wica': 9099, 'wicca': 9100, 'wicket': 9101, 'wide': 9102, 'widely': 9103, 'widened': 9104, 'wider': 9105, 'width': 9106, 'wiedensahl': 9107, 'wii': 9108, 'wikipedia': 9109, 'wild': 9110, 'wilde': 9111, 'wilder': 9112, 'wilderness': 9113, 'wildlife': 9114, 'wilfrid': 9115, 'wilhelm': 9116, 'will': 9117, 'willie': 9118, 'willingness': 9119, 'willis': 9120, 'willoughby': 9121, 'wilmington': 9122, 'wily': 9123, 'wimbledon': 9124, 'wind': 9125, 'window': 9126, 'windows': 9127, 'winds': 9128, 'windsor': 9129, 'wine': 9130, 'wing': 9131, 'wings': 9132, 'winner': 9133, 'winners': 9134, 'winning': 9135, 'wins': 9136, 'winslow': 9137, 'winston': 9138, 'winter': 9139, 'wintering': 9140, 'winters': 9141, 'wintory': 9142, 'wires': 9143, 'wisdom': 9144, 'wise': 9145, 'wish': 9146, 'wishes': 9147, 'wishing': 9148, 'witch': 9149, 'witchcraft': 9150, 'witches': 9151, 'with': 9152, 'withdraw': 9153, 'withdrawn': 9154, 'withdrew': 9155, 'witnessed': 9156, 'witnesses': 9157, 'wives': 9158, 'wizards': 9159, 'wiśniowiecki': 9160, 'wno': 9161, 'wolfpack': 9162, 'wolverhampton': 9163, 'wolves': 9164, 'women': 9165, 'wonder': 9166, 'wonderful': 9167, 'wood': 9168, 'wooden': 9169, 'woodfull': 9170, 'woodhouse': 9171, 'woodland': 9172, 'woods': 9173, 'woodstock': 9174, 'woodward': 9175, 'woody': 9176, 'worcestershire': 9177, 'word': 9178, 'wording': 9179, 'words': 9180, 'wore': 9181, 'work': 9182, 'worked': 9183, 'worker': 9184, 'workers': 9185, 'working': 9186, 'workplace': 9187, 'works': 9188, 'workshop': 9189, 'worlds': 9190, 'worms': 9191, 'worn': 9192, 'worry': 9193, 'worse': 9194, 'worshipped': 9195, 'worst': 9196, 'worth': 9197, 'worthing': 9198, 'worthy': 9199, 'would': 9200, 'wouldn': 9201, 'wounded': 9202, 'wrestled': 9203, 'wrestler': 9204, 'wrestling': 9205, 'wright': 9206, 'write': 9207, 'writer': 9208, 'writes': 9209, 'wrote': 9210, 'wrought': 9211, 'wru': 9212, 'wuzhu': 9213, 'wwf': 9214, 'wyatt': 9215, 'wyoming': 9216, 'władysław': 9217, 'x': 9218, 'xe': 9219, 'xenon': 9220, 'xia': 9221, 'xiii': 9222, 'xion': 9223, 'xook': 9224, 'y': 9225, 'yahoo': 9226, 'yangtze': 9227, 'yanjing': 9228, 'yankees': 9229, 'yankovic': 9230, 'yard': 9231, 'yards': 9232, 'yd': 9233, 'yeah': 9234, 'yearly': 9235, 'years': 9236, 'yeast': 9237, 'yellow': 9238, 'yellowstone': 9239, 'yeomanry': 9240, 'yeovil': 9241, 'yes': 9242, 'yet': 9243, 'ymca': 9244, 'yoko': 9245, 'york': 9246, 'yorker': 9247, 'yorkshire': 9248, 'young': 9249, 'your': 9250, 'youthful': 9251, 'youtube': 9252, 'yu': 9253, 'yuan': 9254, 'yucatán': 9255, 'yue': 9256, 'yugoslav': 9257, 'yugoslavia': 9258, 'z.': 9259, 'zack': 9260, 'zartan': 9261, 'zealanders': 9262, 'zhou': 9263, 'zimbabwe': 9264, 'zimmerman': 9265, 'zinc': 9266, 'zoe': 9267, 'zombie': 9268, 'zombies': 9269, 'zone': 9270, 'zones': 9271, 'zoo': 9272, 'zrínyi': 9273, 'zweig': 9274, '°': 9275, '×': 9276, 'ålesund': 9277, 'ælfric': 9278, 'île': 9279, 'ōzora': 9280, '⁄': 9281, '₹': 9282, '−': 9283, '≤': 9284, '☉': 9285, '\\ufeff': 9286})\n"
     ]
    }
   ],
   "source": [
    "vocab = LABEL.vocab\n",
    "print(type(vocab.stoi))\n",
    "print(len(vocab.stoi))\n",
    "print(vocab.stoi)"
   ]
  },
  {
   "cell_type": "code",
   "execution_count": 29,
   "metadata": {},
   "outputs": [
    {
     "name": "stdout",
     "output_type": "stream",
     "text": [
      "<class 'collections.defaultdict'>\n",
      "27466\n"
     ]
    }
   ],
   "source": [
    "vocab = TEXT.vocab\n",
    "print(type(vocab.stoi))\n",
    "print(len(vocab.stoi))"
   ]
  },
  {
   "cell_type": "code",
   "execution_count": 30,
   "metadata": {},
   "outputs": [],
   "source": [
    "# In torchvision and PyTorch, the processing and batching of\n",
    "# data is handled by DataLoaders. For some reason, torchtext\n",
    "# has renamed the objects that do the exact same thing to\n",
    "# Iterators. The basic functionality is the same\n",
    "\n",
    "train_iter, test_iter = Iterator.splits(\n",
    "        (train, test),\n",
    "    \n",
    "        # (90000,10000) means 90000 for train and 10000 for test,\n",
    "        # the number of examples in each\n",
    "        # That is, we only want to create one \"batch\" for each\n",
    "        # as we are only doing this process in TorchText to convert\n",
    "        # our data into a PyTorch tensor and then numpy array\n",
    "        # object to be passed around\n",
    "        # the matching networks program in the same way the\n",
    "        # vision data was passed around in a numpy array\n",
    "        # The matching networks program already takes care\n",
    "        # of batching and we don't want to distrub things too much\n",
    "    \n",
    "        batch_sizes=(90000,10000))"
   ]
  },
  {
   "cell_type": "code",
   "execution_count": 31,
   "metadata": {},
   "outputs": [],
   "source": [
    "# Look at the batch\n",
    "\n",
    "# batch = next(train_iter.__iter__()); batch"
   ]
  },
  {
   "cell_type": "code",
   "execution_count": 32,
   "metadata": {},
   "outputs": [
    {
     "data": {
      "text/plain": [
       "generator"
      ]
     },
     "execution_count": 32,
     "metadata": {},
     "output_type": "execute_result"
    }
   ],
   "source": [
    "type(train_iter.__iter__())"
   ]
  },
  {
   "cell_type": "code",
   "execution_count": 33,
   "metadata": {},
   "outputs": [],
   "source": [
    "# Currently, the iterator returns a custom datatype\n",
    "# called torchtext.data.Batch.\n",
    "# we’ll convert the batch to a tuple in the form\n",
    "# (x, y) where x is the label tensor\n",
    "# and y is the sentence\n",
    "\n",
    "class BatchWrapper:\n",
    "    def __init__(self, dl, x_var, y_var):\n",
    "        \n",
    "        self.dl, self.x_var, self.y_var = dl, x_var, y_var # we pass in the list of attributes for x and y\n",
    "    \n",
    "    def __iter__(self):\n",
    "        for batch in self.dl:\n",
    "            x = getattr(batch, self.x_var) # we assume only one input in this wrapper\n",
    "            \n",
    "            y = getattr(batch, self.y_var) # we assume only one input in this wrapper\n",
    "\n",
    "            yield (x, y)\n",
    "    \n",
    "    def __len__(self):\n",
    "        return len(self.dl)"
   ]
  },
  {
   "cell_type": "code",
   "execution_count": 37,
   "metadata": {},
   "outputs": [
    {
     "name": "stdout",
     "output_type": "stream",
     "text": [
      "<class '__main__.BatchWrapper'>\n"
     ]
    }
   ],
   "source": [
    "# Running the above BatchWrapper\n",
    "\n",
    "train_dl = BatchWrapper(train_iter, \"label\", \"sentence\")\n",
    "test_dl = BatchWrapper(test_iter, \"label\", \"sentence\")\n",
    "\n",
    "print(type(train_dl))"
   ]
  },
  {
   "cell_type": "code",
   "execution_count": 38,
   "metadata": {},
   "outputs": [],
   "source": [
    "# Extracting the tensors from the BatchWrapper\n",
    "# There is a tuple of tensors, one for the labels\n",
    "# and one for the sentences\n",
    "\n",
    "# X_test throws an error here.\n",
    "\n",
    "X_train = next(train_dl.__iter__())\n",
    "#X_test = next(test_dl.__iter__())"
   ]
  },
  {
   "cell_type": "code",
   "execution_count": 39,
   "metadata": {},
   "outputs": [
    {
     "name": "stdout",
     "output_type": "stream",
     "text": [
      "(219, 90000)\n",
      "(90000,)\n"
     ]
    }
   ],
   "source": [
    "# If you print out the resulting tensor, you see\n",
    "# TorchText has shuffled the examples, even though\n",
    "# the defaults are not to shuffle. Even explicitly passing\n",
    "# arguments not to shuffle does nothing. Here we\n",
    "# rectify this, sorting the labels, and then\n",
    "# sorting the tensor columns by the same\n",
    "# permutaion as the labels\n",
    "\n",
    "X_train_labels = X_train[0].numpy()\n",
    "X_train_sentences = X_train[1].numpy()\n",
    "p = X_train_labels.argsort()\n",
    "X_train_labels = X_train_labels[p]\n",
    "X_train_sentences = X_train_sentences[:,p]\n",
    "print(X_train_sentences.shape)\n",
    "print(X_train_labels.shape)\n",
    "\n",
    "# X_test_labels = X_test[0].numpy()\n",
    "# X_test_sentences = X_test[1].numpy()\n",
    "# q = X_test_labels.argsort()\n",
    "# X_test_labels = X_test_labels[q]\n",
    "# X_test_sentences = X_test_sentences[:,q]\n",
    "# print(X_test_sentences.shape)\n",
    "# print(X_test_labels.shape)"
   ]
  },
  {
   "cell_type": "code",
   "execution_count": 40,
   "metadata": {},
   "outputs": [
    {
     "name": "stdout",
     "output_type": "stream",
     "text": [
      "(90000, 219)\n"
     ]
    }
   ],
   "source": [
    "# Taking tranpose to get data closer to form\n",
    "# expected by matching network\n",
    "\n",
    "X_train_sentences = X_train_sentences.transpose()\n",
    "print(X_train_sentences.shape)\n",
    "\n",
    "# X_test_sentences = X_test_sentences.transpose()\n",
    "# print(X_test_sentences.shape)"
   ]
  },
  {
   "cell_type": "code",
   "execution_count": 41,
   "metadata": {},
   "outputs": [
    {
     "name": "stdout",
     "output_type": "stream",
     "text": [
      "(10, 9000, 219)\n"
     ]
    }
   ],
   "source": [
    "# Reshaping sentences to be of dimension\n",
    "# (examples per class, number of classes, length of longest sentence)\n",
    "\n",
    "X_train_sentences = np.reshape(X_train_sentences, (10,9000,219))\n",
    "print(X_train_sentences.shape)\n",
    "\n",
    "# X_test_sentences = np.reshape(X_test_sentences, (10,9000,219))\n",
    "# print(X_test_sentences.shape)"
   ]
  },
  {
   "cell_type": "code",
   "execution_count": 42,
   "metadata": {},
   "outputs": [
    {
     "name": "stdout",
     "output_type": "stream",
     "text": [
      "(9000, 10, 219)\n"
     ]
    }
   ],
   "source": [
    "# Reshaping sentences to be of dimension\n",
    "# (number of classes, examples per class, length of longest sentence)\n",
    "\n",
    "X_train_sentences = X_train_sentences.transpose((1, 0, 2))\n",
    "print(X_train_sentences.shape)\n",
    "\n",
    "# X_test_sentences = X_test_sentences.transpose((1, 0, 2))\n",
    "# print(X_test_sentences.shape)"
   ]
  },
  {
   "cell_type": "code",
   "execution_count": 43,
   "metadata": {},
   "outputs": [
    {
     "name": "stdout",
     "output_type": "stream",
     "text": [
      "(10, 9000)\n"
     ]
    }
   ],
   "source": [
    "# Reshaping labels to be of dimension\n",
    "# (examples per class, number of classes)\n",
    "\n",
    "X_train_labels = np.reshape(X_train_labels, (10,9000))\n",
    "print(X_train_labels.shape)\n",
    "\n",
    "# X_test_labels = np.reshape(X_test_labels, (10,9000))\n",
    "# print(X_test_labels.shape)"
   ]
  },
  {
   "cell_type": "code",
   "execution_count": 44,
   "metadata": {},
   "outputs": [
    {
     "name": "stdout",
     "output_type": "stream",
     "text": [
      "(9000, 10)\n"
     ]
    }
   ],
   "source": [
    "# Reshaping labels to be of dimension\n",
    "# (number of classes, examples per class)\n",
    "\n",
    "X_train_labels = X_train_labels.transpose()\n",
    "print(X_train_labels.shape)\n",
    "\n",
    "# X_test_labels = X_test_labels.transpose()\n",
    "# print(X_test_labels.shape)"
   ]
  },
  {
   "cell_type": "code",
   "execution_count": 66,
   "metadata": {},
   "outputs": [],
   "source": [
    "# Saving data\n",
    "\n",
    "np.save('X_train_sentences.npy', X_train_sentences)\n",
    "np.save('X_train_labels.npy', X_train_labels)\n",
    "\n",
    "# np.save('X_test_sentences.npy', X_test_sentences)\n",
    "# np.save('X_test_labels.npy', X_test_labels)"
   ]
  },
  {
   "cell_type": "code",
   "execution_count": null,
   "metadata": {},
   "outputs": [],
   "source": []
  },
  {
   "cell_type": "code",
   "execution_count": null,
   "metadata": {},
   "outputs": [],
   "source": []
  },
  {
   "cell_type": "code",
   "execution_count": null,
   "metadata": {},
   "outputs": [],
   "source": []
  },
  {
   "cell_type": "code",
   "execution_count": null,
   "metadata": {},
   "outputs": [],
   "source": []
  },
  {
   "cell_type": "code",
   "execution_count": null,
   "metadata": {},
   "outputs": [],
   "source": []
  },
  {
   "cell_type": "code",
   "execution_count": null,
   "metadata": {},
   "outputs": [],
   "source": []
  },
  {
   "cell_type": "code",
   "execution_count": null,
   "metadata": {},
   "outputs": [],
   "source": [
    "# Some experiments"
   ]
  },
  {
   "cell_type": "code",
   "execution_count": null,
   "metadata": {},
   "outputs": [],
   "source": [
    "# Reshape"
   ]
  },
  {
   "cell_type": "code",
   "execution_count": null,
   "metadata": {},
   "outputs": [],
   "source": [
    "# We convert the tensors to numpy arrays\n",
    "# for the Matching Networks code so we  don't\n",
    "# have to change everything that was for numpy arrays\n",
    "# to PyTorch tensors. We could could then convert\n",
    "# back to Tensors when we need them\n",
    "\n",
    "# Cell incomplete, issue with size of train. Should be 90,000, not 9,000 long\n",
    "\n",
    "X_train = X_train.reshape()\n",
    "Y_train = Y_train.reshape()\n",
    "X_test = X_test.reshape()\n",
    "Y_test = Y_test.reshape()"
   ]
  },
  {
   "cell_type": "code",
   "execution_count": null,
   "metadata": {},
   "outputs": [],
   "source": [
    "a = np.array([[1,2,3,4,5,6], [7,8,9,10,11,12], [13,14,15,16,17,18], [19,20,21,22,23,24], \n",
    "              [25,26,27,28,29,30], [31,32,33,34,35,36], [37,38,39,40,41,42], [43,44,45,46,47,48]])\n",
    "print(a)"
   ]
  },
  {
   "cell_type": "code",
   "execution_count": null,
   "metadata": {},
   "outputs": [],
   "source": [
    "a = np.reshape(a, (2,4,6))\n",
    "print(a)"
   ]
  },
  {
   "cell_type": "code",
   "execution_count": null,
   "metadata": {},
   "outputs": [],
   "source": []
  },
  {
   "cell_type": "code",
   "execution_count": null,
   "metadata": {},
   "outputs": [],
   "source": []
  },
  {
   "cell_type": "code",
   "execution_count": null,
   "metadata": {},
   "outputs": [],
   "source": []
  },
  {
   "cell_type": "code",
   "execution_count": null,
   "metadata": {},
   "outputs": [],
   "source": [
    "# One hot encoding"
   ]
  },
  {
   "cell_type": "code",
   "execution_count": 3,
   "metadata": {},
   "outputs": [
    {
     "name": "stdout",
     "output_type": "stream",
     "text": [
      "tensor([[6],\n",
      "        [9],\n",
      "        [4],\n",
      "        [8],\n",
      "        [5]])\n",
      "tensor([[0., 0., 0., 0., 0., 0., 1., 0., 0., 0.],\n",
      "        [0., 0., 0., 0., 0., 0., 0., 0., 0., 1.],\n",
      "        [0., 0., 0., 0., 1., 0., 0., 0., 0., 0.],\n",
      "        [0., 0., 0., 0., 0., 0., 0., 0., 1., 0.],\n",
      "        [0., 0., 0., 0., 0., 1., 0., 0., 0., 0.]])\n"
     ]
    }
   ],
   "source": [
    "batch_size = 5\n",
    "nb_digits = 10\n",
    "# Dummy input that HAS to be 2D for the scatter (you can use view(-1,1) if needed)\n",
    "y = torch.LongTensor(batch_size,1).random_() % nb_digits\n",
    "# One hot encoding buffer that you create out of the loop and just keep reusing\n",
    "y_onehot = torch.FloatTensor(batch_size, nb_digits)\n",
    "\n",
    "# In your for loop\n",
    "y_onehot.zero_()\n",
    "y_onehot.scatter_(1, y, 1)\n",
    "\n",
    "print(y)\n",
    "print(y_onehot)"
   ]
  },
  {
   "cell_type": "code",
   "execution_count": 76,
   "metadata": {},
   "outputs": [
    {
     "name": "stdout",
     "output_type": "stream",
     "text": [
      "[[1 2]\n",
      " [7 4]\n",
      " [5 1]\n",
      " [3 4]]\n"
     ]
    }
   ],
   "source": [
    "a_orig = np.array([[1, 7, 5, 3],\n",
    "           [2, 4, 1, 4]])\n",
    "a_orig = a_orig.transpose()\n",
    "print(a_orig)"
   ]
  },
  {
   "cell_type": "code",
   "execution_count": 77,
   "metadata": {},
   "outputs": [
    {
     "data": {
      "text/plain": [
       "int"
      ]
     },
     "execution_count": 77,
     "metadata": {},
     "output_type": "execute_result"
    }
   ],
   "source": [
    "type(int(np.amax(a_orig)))"
   ]
  },
  {
   "cell_type": "code",
   "execution_count": 78,
   "metadata": {},
   "outputs": [
    {
     "name": "stdout",
     "output_type": "stream",
     "text": [
      "(4, 2, 7)\n",
      "[[[1 0 0 0 0 0 0]\n",
      "  [0 1 0 0 0 0 0]]\n",
      "\n",
      " [[0 0 0 0 0 0 1]\n",
      "  [0 0 0 1 0 0 0]]\n",
      "\n",
      " [[0 0 0 0 1 0 0]\n",
      "  [1 0 0 0 0 0 0]]\n",
      "\n",
      " [[0 0 1 0 0 0 0]\n",
      "  [0 0 0 1 0 0 0]]]\n"
     ]
    }
   ],
   "source": [
    "a = (np.arange(a_orig.max()) == a_orig[...,None]-1).astype(int)\n",
    "print(a.shape)\n",
    "print(a)"
   ]
  },
  {
   "cell_type": "code",
   "execution_count": 79,
   "metadata": {},
   "outputs": [
    {
     "name": "stdout",
     "output_type": "stream",
     "text": [
      "(2, 7)\n",
      "[[1 0 1 0 1 0 1]\n",
      " [1 1 0 2 0 0 0]]\n"
     ]
    }
   ],
   "source": [
    "a = a.sum(0)\n",
    "print(a.shape)\n",
    "print(a)"
   ]
  },
  {
   "cell_type": "code",
   "execution_count": null,
   "metadata": {},
   "outputs": [],
   "source": [
    "# Another one hot encoding, removing padding (ones)"
   ]
  },
  {
   "cell_type": "code",
   "execution_count": 89,
   "metadata": {},
   "outputs": [
    {
     "name": "stdout",
     "output_type": "stream",
     "text": [
      "[[False  True]\n",
      " [ True  True]\n",
      " [ True False]\n",
      " [ True  True]]\n",
      "[[0 2]\n",
      " [7 4]\n",
      " [5 0]\n",
      " [3 4]]\n",
      "[[0. 0.]\n",
      " [0. 0.]\n",
      " [0. 1.]\n",
      " [1. 0.]\n",
      " [0. 1.]\n",
      " [1. 0.]\n",
      " [0. 0.]\n",
      " [1. 0.]]\n"
     ]
    }
   ],
   "source": [
    "active_tokens_mask = (a_orig != 1)\n",
    "print(active_tokens_mask)\n",
    "filtered = active_tokens_mask * a_orig\n",
    "print(filtered)\n",
    "\n",
    "X_Train_onehot = np.zeros((8,a_orig.shape[1]))\n",
    "\n",
    "for c in range(len(a_orig[1])):\n",
    "    max_pool = np.zeros((8))\n",
    "    max_pool[filtered[:,c]] = 1\n",
    "    max_pool[0]=0\n",
    "#     print(X_Train_onehot[:,c].shape)\n",
    "#     print(max_pool.shape)\n",
    "    X_Train_onehot[:,c] = max_pool\n",
    "    \n",
    "print(X_Train_onehot)"
   ]
  },
  {
   "cell_type": "code",
   "execution_count": null,
   "metadata": {},
   "outputs": [],
   "source": []
  },
  {
   "cell_type": "code",
   "execution_count": null,
   "metadata": {},
   "outputs": [],
   "source": []
  },
  {
   "cell_type": "code",
   "execution_count": null,
   "metadata": {},
   "outputs": [],
   "source": []
  }
 ],
 "metadata": {
  "kernelspec": {
   "display_name": "Python 3",
   "language": "python",
   "name": "python3"
  },
  "language_info": {
   "codemirror_mode": {
    "name": "ipython",
    "version": 3
   },
   "file_extension": ".py",
   "mimetype": "text/x-python",
   "name": "python",
   "nbconvert_exporter": "python",
   "pygments_lexer": "ipython3",
   "version": "3.6.8"
  }
 },
 "nbformat": 4,
 "nbformat_minor": 2
}
